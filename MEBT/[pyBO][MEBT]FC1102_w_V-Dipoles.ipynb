{
 "cells": [
  {
   "cell_type": "code",
   "execution_count": null,
   "id": "deluxe-directive",
   "metadata": {},
   "outputs": [],
   "source": [
    "# !pip install -e /files/shared/ap/jupyter-notebook/pkgs/objFuncs\n",
    "# !pip install -e /files/shared/ap/jupyter-notebook/pkgs/pyBO"
   ]
  },
  {
   "cell_type": "markdown",
   "id": "exact-retail",
   "metadata": {},
   "source": [
    " # please re-start kernel if these packages are installed for the first time"
   ]
  },
  {
   "cell_type": "code",
   "execution_count": null,
   "id": "small-matter",
   "metadata": {},
   "outputs": [],
   "source": [
    "import numpy as np\n",
    "import pandas as pd\n",
    "import os\n",
    "import matplotlib.pyplot as plt\n",
    "import time\n",
    "import datetime\n",
    "import concurrent\n",
    "from phantasy import caget"
   ]
  },
  {
   "cell_type": "code",
   "execution_count": null,
   "id": "statewide-penalty",
   "metadata": {},
   "outputs": [],
   "source": [
    "import objFuncs\n",
    "from objFuncs import maximize_FC\n",
    "from objFuncs.util import get_MEBT_objective_goal_from_BPMoverview\n",
    "from objFuncs.util import plot_obj_history\n",
    "from pyBO import pyBO"
   ]
  },
  {
   "cell_type": "code",
   "execution_count": null,
   "id": "0c9515e3",
   "metadata": {},
   "outputs": [],
   "source": [
    "budget = 96\n",
    "n_init = 48"
   ]
  },
  {
   "cell_type": "markdown",
   "id": "quality-apartment",
   "metadata": {},
   "source": [
    "# check objFuncs machineIO, source and beam  "
   ]
  },
  {
   "cell_type": "code",
   "execution_count": null,
   "id": "threaded-transition",
   "metadata": {},
   "outputs": [],
   "source": [
    "objFuncs._global_machineIO._test = False\n",
    "objFuncs._global_machineIO._fetch_data_time_span = 2.05\n",
    "# objFuncs._global_machineIO.view()"
   ]
  },
  {
   "cell_type": "code",
   "execution_count": null,
   "id": "pediatric-duplicate",
   "metadata": {},
   "outputs": [],
   "source": [
    "SCS = caget(\"ACS_DIAG:DEST:ACTIVE_ION_SOURCE\")\n",
    "ion = caget(\"FE_ISRC\"+str(SCS)+\":BEAM:ELMT_BOOK\")\n",
    "Q = caget(\"FE_ISRC\"+str(SCS)+\":BEAM:Q_BOOK\")\n",
    "A = caget(\"FE_ISRC\"+str(SCS)+\":BEAM:A_BOOK\")\n",
    "# AQ = caget(\"FE_ISRC2:BEAM:MOVRQ_BOOK\")\n",
    "AQ = A/Q\n",
    "ion = str(A)+ion+str(Q)\n",
    "print('SCS'+str(SCS), ion, 'A/Q=',AQ)"
   ]
  },
  {
   "cell_type": "code",
   "execution_count": null,
   "id": "c144061b",
   "metadata": {},
   "outputs": [],
   "source": [
    "%%javascript\n",
    "IPython.notebook.kernel.execute('nb_name = \"' + IPython.notebook.notebook_name + '\"')"
   ]
  },
  {
   "cell_type": "code",
   "execution_count": null,
   "id": "e2fd4ea7",
   "metadata": {},
   "outputs": [],
   "source": [
    "now0str = datetime.datetime.now().strftime('%Y%m%d_%H%M')\n",
    "fname = now0str+'['+ion+']'+nb_name.strip('.ipynb')\n",
    "fname"
   ]
  },
  {
   "cell_type": "markdown",
   "id": "communist-incident",
   "metadata": {},
   "source": [
    "# preprare objective"
   ]
  },
  {
   "cell_type": "markdown",
   "id": "german-edinburgh",
   "metadata": {},
   "source": [
    "### Decision parameters and range"
   ]
  },
  {
   "cell_type": "markdown",
   "id": "simplified-discount",
   "metadata": {},
   "source": [
    "##### couple two V-Edipoles"
   ]
  },
  {
   "cell_type": "code",
   "execution_count": null,
   "id": "chicken-generation",
   "metadata": {},
   "outputs": [],
   "source": [
    "# decision_CSETs=[\n",
    "#                  'FE_LEBT:PSD1_D0833:V_CSET', # V-Edipole to be coupled with PSD2_D0936\n",
    "#                  'FE_LEBT:PSC2_D0821:I_CSET', 'FE_LEBT:PSC2_D0821:I_CSET',  # one COR pair in U-LEBT  \n",
    "#                  'FE_LEBT:PSC2_D0929:I_CSET',  # one HCOR\n",
    "#                  'FE_LEBT:PSC2_D0948:I_CSET', 'FE_LEBT:PSC1_D0948:I_CSET',  # one COR pair in L-LEBT\n",
    "#                  'FE_LEBT:PSC2_D0979:I_CSET', 'FE_LEBT:PSC1_D0979:I_CSET',  # one COR pair in L-LEBT\n",
    "#                  ]\n",
    "\n",
    "# PSD_ref = 0.5*(caget(\"FE_LEBT:PSD1_D0833:V_CSET\")+caget(\"FE_LEBT:PSD1_D0936:V_CSET\"))\n",
    "# err = 1e-3  # 90 deg *1e-3 = 1.5 mrad   (10 meter * sin(1.5mrad) = 15 mm)\n",
    "\n",
    "# decision_min = [PSD_ref*(1-err),   \n",
    "#                 -0.1*AQ,-0.1*AQ,\n",
    "#                 -0.4*AQ,\n",
    "#                 -0.4*AQ,-0.4*AQ,\n",
    "#                 -0.4*AQ,-0.4*AQ,]\n",
    "\n",
    "# decision_max = [PSD_ref*(1+err),\n",
    "#                  0.1*AQ, 0.1*AQ,\n",
    "#                  0.4*AQ,\n",
    "#                  0.4*AQ, 0.4*AQ,\n",
    "#                  0.4*AQ, 0.4*AQ,]\n",
    "\n",
    "# decision_couplings = {'FE_LEBT:PSD1_D0833:V_CSET': {'FE_LEBT:PSD2_D0833:V_CSET':-1, \n",
    "#                                                     'FE_LEBT:PSD1_D0936:V_CSET': 1,\n",
    "#                                                     'FE_LEBT:PSD2_D0936:V_CSET':-1 }\n",
    "#                      } "
   ]
  },
  {
   "cell_type": "markdown",
   "id": "associate-possibility",
   "metadata": {},
   "source": [
    "##### independent two V-Edipoles"
   ]
  },
  {
   "cell_type": "code",
   "execution_count": null,
   "id": "loving-brazilian",
   "metadata": {},
   "outputs": [],
   "source": [
    "decision_CSETs=[\n",
    "                 'FE_LEBT:PSD1_D0833:V_CSET', 'FE_LEBT:PSD1_D0936:V_CSET',  # two V-Edipole\n",
    "                 'FE_LEBT:PSC2_D0821:I_CSET' ,'FE_LEBT:PSC2_D0929:I_CSET',  # two HCOR\n",
    "                 'FE_LEBT:PSC2_D0948:I_CSET', 'FE_LEBT:PSC1_D0948:I_CSET',  # one COR pair in L-LEBT\n",
    "                 'FE_LEBT:PSC2_D0979:I_CSET', 'FE_LEBT:PSC1_D0979:I_CSET',  # one COR pair in L-LEBT\n",
    "                 ]\n",
    "\n",
    "PSD1_D833_ref, PSD1_D936_ref = caget(\"FE_LEBT:PSD1_D0833:V_CSET\"),caget(\"FE_LEBT:PSD1_D0936:V_CSET\")\n",
    "err = 1e-3  # 90 deg *1e-3 = 1.5 mrad   (10 meter * sin(1.5mrad) = 15 mm)\n",
    "\n",
    "decision_min = [PSD1_D833_ref*(1-err), PSD1_D936_ref*(1-err),   \n",
    "                -0.1*AQ,-0.1*AQ,\n",
    "                -0.4*AQ,-0.4*AQ,\n",
    "                -0.4*AQ,-0.4*AQ ]\n",
    "\n",
    "decision_max = [PSD1_D833_ref*(1+err), PSD1_D936_ref*(1+err),\n",
    "                 0.1*AQ, 0.1*AQ,\n",
    "                 0.4*AQ, 0.4*AQ,\n",
    "                 0.4*AQ, 0.4*AQ ]\n",
    "\n",
    "decision_couplings = {'FE_LEBT:PSD1_D0833:V_CSET': {'FE_LEBT:PSD2_D0833:V_CSET':-1},\n",
    "                      'FE_LEBT:PSD1_D0936:V_CSET': {'FE_LEBT:PSD2_D0936:V_CSET':-1}\n",
    "                     } "
   ]
  },
  {
   "cell_type": "code",
   "execution_count": null,
   "id": "apparent-station",
   "metadata": {},
   "outputs": [],
   "source": [
    "# FC814 = 22.2\n",
    "FC998 = 11"
   ]
  },
  {
   "cell_type": "markdown",
   "id": "severe-reception",
   "metadata": {},
   "source": [
    "### read from BPM snapshot file"
   ]
  },
  {
   "cell_type": "code",
   "execution_count": null,
   "id": "palestinian-headline",
   "metadata": {},
   "outputs": [],
   "source": [
    "# BPM_snapshot_fname = '20230313_1008_48Ca10_197p0MeVu_to_target_20W_pulsed.bpm'\n",
    "# objective_goal = get_MEBT_objective_goal_from_BPMoverview(BPM_snapshot_fname)\n",
    "# objective_goal['FE_MEBT:FC_D1102:PKAVG_RD'] = {'more than': 0.8*FC998}\n",
    "# objective_goal"
   ]
  },
  {
   "cell_type": "markdown",
   "id": "purple-beverage",
   "metadata": {},
   "source": [
    "#### manual defintion of objectives"
   ]
  },
  {
   "cell_type": "code",
   "execution_count": null,
   "id": "australian-tolerance",
   "metadata": {},
   "outputs": [],
   "source": [
    "objective_goal = {\n",
    "    'FE_MEBT:BPM_D1056:XPOS_RD': 0,\n",
    "     'FE_MEBT:BPM_D1056:YPOS_RD': 0,\n",
    "     'FE_MEBT:BPM_D1056:PHASE_RD': 78.72239428974802,\n",
    "     'FE_MEBT:BPM_D1056:MAG_RD': {'more than': None},\n",
    "     'FE_MEBT:BPM_D1072:XPOS_RD': 0,\n",
    "     'FE_MEBT:BPM_D1072:YPOS_RD': 0,\n",
    "     'FE_MEBT:BPM_D1072:PHASE_RD': -23.09912673431342,\n",
    "     'FE_MEBT:BPM_D1072:MAG_RD': {'more than': None},\n",
    "     'FE_MEBT:BPM_D1094:XPOS_RD': 0,\n",
    "     'FE_MEBT:BPM_D1094:YPOS_RD': 0,\n",
    "     'FE_MEBT:BPM_D1094:PHASE_RD': -15.344825463580433,\n",
    "     'FE_MEBT:BPM_D1094:MAG_RD': {'more than': None},\n",
    "     'FE_MEBT:BCM_D1055:AVGPK_RD/FE_LEBT:BCM_D0989:AVGPK_RD': {'more than': 1.0},\n",
    "     'FE_MEBT:FC_D1102:PKAVG_RD': {'more than': 0.8*FC998} #0.8*FC814\n",
    "     }"
   ]
  },
  {
   "cell_type": "code",
   "execution_count": null,
   "id": "criminal-homework",
   "metadata": {},
   "outputs": [],
   "source": [
    "objective_norm = { \n",
    "    'FE_MEBT:BPM_D1056:XPOS_RD' : 1.,     \n",
    "    'FE_MEBT:BPM_D1056:YPOS_RD' : 1.,     \n",
    "    'FE_MEBT:BPM_D1056:PHASE_RD': 1., \n",
    "    'FE_MEBT:BPM_D1056:MAG_RD'  : 0, \n",
    "    'FE_MEBT:BPM_D1072:XPOS_RD' : 1.,     \n",
    "    'FE_MEBT:BPM_D1072:YPOS_RD' : 1.,     \n",
    "    'FE_MEBT:BPM_D1072:PHASE_RD': 2., \n",
    "    'FE_MEBT:BPM_D1072:MAG_RD'  : 0, \n",
    "    'FE_MEBT:BPM_D1094:XPOS_RD' : 1.,     \n",
    "    'FE_MEBT:BPM_D1094:YPOS_RD' : 1.,     \n",
    "    'FE_MEBT:BPM_D1094:PHASE_RD': 3.,\n",
    "    'FE_MEBT:BPM_D1094:MAG_RD'  : 0,\n",
    "    'FE_MEBT:BCM_D1055:AVGPK_RD/FE_LEBT:BCM_D0989:AVGPK_RD': 0.05,\n",
    "    'FE_MEBT:FC_D1102:PKAVG_RD': 0.1*FC998,#0.1*FC814,\n",
    "    }"
   ]
  },
  {
   "cell_type": "code",
   "execution_count": null,
   "id": "sapphire-juice",
   "metadata": {},
   "outputs": [],
   "source": [
    "objective_weight = { \n",
    "    'FE_MEBT:BPM_D1056:XPOS_RD' : 0.5,     \n",
    "    'FE_MEBT:BPM_D1056:YPOS_RD' : 0.5,     \n",
    "    'FE_MEBT:BPM_D1056:PHASE_RD': 1., \n",
    "    'FE_MEBT:BPM_D1056:MAG_RD'  : 0., \n",
    "    'FE_MEBT:BPM_D1072:XPOS_RD' : 0.,     \n",
    "    'FE_MEBT:BPM_D1072:YPOS_RD' : 0.,     \n",
    "    'FE_MEBT:BPM_D1072:PHASE_RD': 0., \n",
    "    'FE_MEBT:BPM_D1072:MAG_RD'  : 0., \n",
    "    'FE_MEBT:BPM_D1094:XPOS_RD' : 0.0,     \n",
    "    'FE_MEBT:BPM_D1094:YPOS_RD' : 0.0,     \n",
    "    'FE_MEBT:BPM_D1094:PHASE_RD': 0.0,\n",
    "    'FE_MEBT:BPM_D1094:MAG_RD'  : 0,\n",
    "    'FE_MEBT:BCM_D1055:AVGPK_RD/FE_LEBT:BCM_D0989:AVGPK_RD': 3,\n",
    "    'FE_MEBT:FC_D1102:PKAVG_RD': 2.,\n",
    "    }"
   ]
  },
  {
   "cell_type": "markdown",
   "id": "painful-destruction",
   "metadata": {},
   "source": [
    "### regularization"
   ]
  },
  {
   "cell_type": "code",
   "execution_count": null,
   "id": "brave-squad",
   "metadata": {},
   "outputs": [],
   "source": [
    "reg_weight_ratio = 0.05\n",
    "\n",
    "reg_goal = {key:0.5*(val_max+val_min) if 'PSD' in key else 0 for key,val_min,val_max in zip(decision_CSETs,decision_min,decision_max)}\n",
    "reg_norm = {key:0.5*(val_max-val_min) for key,val_min,val_max in zip(decision_CSETs,decision_min,decision_max)}\n",
    "if len(decision_couplings) > 2:\n",
    "    reg_weight = {key:0.05 for key in decision_CSETs}\n",
    "else:  # account for coupled two V-Edipole\n",
    "    reg_weight = {key:0.1 if 'PSD' in key else 0.05 for key in decision_CSETs}   \n",
    "    \n",
    "ratio = np.sum(list(reg_weight.values()))/np.sum(list(objective_weight.values()))\n",
    "reg_weight = {k:reg_weight_ratio*v/ratio for k,v in reg_weight.items()}"
   ]
  },
  {
   "cell_type": "code",
   "execution_count": null,
   "id": "friendly-booth",
   "metadata": {},
   "outputs": [],
   "source": [
    "objective_goal.update(reg_goal)\n",
    "objective_norm.update(reg_norm)\n",
    "objective_weight.update(reg_weight)"
   ]
  },
  {
   "cell_type": "code",
   "execution_count": null,
   "id": "reported-solution",
   "metadata": {},
   "outputs": [],
   "source": [
    "# pd.DataFrame((objective_goal,objective_norm,objective_weight),index=['goal','norm','weight']).T"
   ]
  },
  {
   "cell_type": "markdown",
   "id": "contained-criminal",
   "metadata": {},
   "source": [
    "### construct objectives class"
   ]
  },
  {
   "cell_type": "code",
   "execution_count": null,
   "id": "beginning-robin",
   "metadata": {
    "scrolled": false
   },
   "outputs": [],
   "source": [
    "obj = maximize_FC.maximize_FC1102(\n",
    "    decision_CSETs = decision_CSETs,\n",
    "    decision_couplings = decision_couplings,\n",
    "    decision_min = decision_min,\n",
    "    decision_max = decision_max,\n",
    "    objective_goal = objective_goal,\n",
    "    objective_weight = objective_weight,\n",
    "    objective_norm = objective_norm,\n",
    "    apply_bilog = True,\n",
    "    history_logging_fname = fname,\n",
    "    history_logging_frequency = np.inf,\n",
    ")"
   ]
  },
  {
   "cell_type": "markdown",
   "id": "departmental-tennis",
   "metadata": {},
   "source": [
    "### Prepare plot callbacks"
   ]
  },
  {
   "cell_type": "code",
   "execution_count": null,
   "id": "mechanical-richardson",
   "metadata": {},
   "outputs": [],
   "source": [
    "# things to plot\n",
    "BPM_XYs = [key for key in obj.objective_weight.keys() if ':XPOS_' in key or ':YPOS_' in key]\n",
    "BPM_PHASEs = [key for key in obj.objective_weight.keys() if ':PHASE_' in key]\n",
    "BPM_MAGs = [key for key in obj.objective_weight.keys() if ':MAG_' in key]\n",
    "FCs = [key for key in obj.objective_weight.keys() if ':FC_' in key]\n",
    "BCMs = ['FE_LEBT:BCM_D0989:AVGPK_RD','FE_MEBT:BCM_D1055:AVGPK_RD']\n",
    "BCMratio = ['FE_MEBT:BCM_D1055:AVGPK_RD/FE_LEBT:BCM_D0989:AVGPK_RD']"
   ]
  },
  {
   "cell_type": "code",
   "execution_count": null,
   "id": "changed-sandwich",
   "metadata": {},
   "outputs": [],
   "source": [
    "# define what to plot\n",
    "plot_CSETs = plot_obj_history(\n",
    "                obj.history['decision_CSETs'],\n",
    "                keys=[ [key for key in obj.history['decision_CSETs']['names'] if 'PSD1' in key],\n",
    "                       [key for key in obj.history['decision_CSETs']['names'] if 'PSD2' in key],\n",
    "                       [key for key in obj.history['decision_CSETs']['names'] if 'PSC' in key],\n",
    "                     ],\n",
    "                title = 'decision_CSETs',\n",
    "                inline = True,\n",
    "                )\n",
    "plot_RDs = plot_obj_history(\n",
    "                obj.history['objective_RDs'],\n",
    "                keys=[ BPM_XYs, BPM_PHASEs, BCMs+FCs],\n",
    "                title = 'objective_RDs',\n",
    "                inline = True,\n",
    "                )\n",
    "plot_objs = plot_obj_history(\n",
    "            obj.history['objectives'],\n",
    "            keys=[ BPM_XYs, BPM_PHASEs, BCMratio, FCs],\n",
    "            title = 'objectives',\n",
    "            inline = True,\n",
    "            add_y_data = obj.history['objectives']['total'],\n",
    "            add_y_label = 'total obj'\n",
    "            )\n",
    "callbacks = [plot_CSETs,plot_RDs,plot_objs]\n",
    "\n",
    "if 'FE_LEBT:PSD1_D0833:V_CSET' in decision_CSETs:\n",
    "    plot_couplings = plot_obj_history(\n",
    "                       obj.history['coupled_decision_CSETs'],\n",
    "                       keys=[ [key for key in obj.history['coupled_decision_CSETs']['names'] if 'PSD1' in key],\n",
    "                              [key for key in obj.history['coupled_decision_CSETs']['names'] if 'PSD2' in key],\n",
    "                       ], \n",
    "                       title = 'decision_couplings',\n",
    "                       inline = True,\n",
    "                       )\n",
    "    callbacks.insert(1,plot_couplings)\n",
    "\n",
    "\n",
    "# evaluate objective and plot\n",
    "def obj_callbacks(x):\n",
    "    return obj(x,callbacks=callbacks)"
   ]
  },
  {
   "cell_type": "markdown",
   "id": "liable-olympus",
   "metadata": {},
   "source": [
    "# Run BO"
   ]
  },
  {
   "cell_type": "markdown",
   "id": "aboriginal-flood",
   "metadata": {},
   "source": [
    "### run BO until budget exhaust"
   ]
  },
  {
   "cell_type": "code",
   "execution_count": null,
   "id": "hybrid-prototype",
   "metadata": {
    "scrolled": false
   },
   "outputs": [],
   "source": [
    "# run optimizer\n",
    "bo, X_pending, Y_pending_future = pyBO.runBO(\n",
    "                                    obj_callbacks,  \n",
    "                                    bounds=obj.decision_bounds,\n",
    "                                    n_init=n_init,\n",
    "                                    budget = budget,\n",
    "                                    batch_size=1,\n",
    "#                                     timeout = 2+objFuncs._global_machineIO._fetch_data_time_span,\n",
    "                                    path=\"./log/\",\n",
    "                                    tag=fname+'_pyBO_history',\n",
    "                                    write_log = False)\n",
    "\n",
    "\n",
    "# exploit model for a few iteration\n",
    "acquisition_func_args = {'beta':0.01}\n",
    "X_pending, Y_pending_future= bo.loop( \n",
    "                                n_loop=2,  # number of additional optimization interation\n",
    "                                func_obj = obj_callbacks,\n",
    "                                bounds = obj.decision_bounds,\n",
    "                                acquisition_func_args = acquisition_func_args,\n",
    "                                X_pending = X_pending, \n",
    "                                Y_pending_future = Y_pending_future,\n",
    "                                batch_size = 1,\n",
    "                                write_log = False,\n",
    "                                )\n",
    "\n",
    "for f in callbacks:\n",
    "    f.close()"
   ]
  },
  {
   "cell_type": "code",
   "execution_count": null,
   "id": "pleasant-greece",
   "metadata": {},
   "outputs": [],
   "source": [
    "now1 = datetime.datetime.now()\n",
    "now1str = str(now1)[:str(now1).rfind(':')].replace(' ','_').replace(':','').replace('-','')\n",
    "time_delta = now1 - now0\n",
    "print(\"time took:\",str(time_delta.total_seconds()/60)[:4],'min')"
   ]
  },
  {
   "cell_type": "markdown",
   "id": "acknowledged-upper",
   "metadata": {},
   "source": [
    "### Fine Tune near current best"
   ]
  },
  {
   "cell_type": "code",
   "execution_count": null,
   "id": "grateful-airplane",
   "metadata": {},
   "outputs": [],
   "source": [
    "# local optimization near the best_solution\n",
    "bounds_diff = obj.decision_bounds[:,1] - obj.decision_bounds[:,0]\n",
    "for i in range(3):\n",
    "    x_best,y_best = bo.best_sofar()\n",
    "    bounds_best = np.array(list(zip(x_best-0.08*bounds_diff, x_best+0.08*bounds_diff)))\n",
    "    acquisition_func_args = {'beta':1}\n",
    "\n",
    "    X_pending, Y_pending_future= bo.loop( \n",
    "                                    n_loop=3,  # number of additional optimization interation\n",
    "                                    func_obj = obj_callbacks,\n",
    "                                    bounds = bounds_best,\n",
    "                                    acquisition_func_args = acquisition_func_args,\n",
    "                                    X_pending = X_pending, \n",
    "                                    Y_pending_future = Y_pending_future,\n",
    "                                    batch_size = 1,\n",
    "                                    write_log = False,\n",
    "                                    )\n",
    "for f in callbacks:\n",
    "    f.close()"
   ]
  },
  {
   "cell_type": "code",
   "execution_count": null,
   "id": "basic-sacrifice",
   "metadata": {},
   "outputs": [],
   "source": [
    "ax = bo.plot_obj_history()\n",
    "ax.vlines(n_init,*ax.get_ylim(),color='k')"
   ]
  },
  {
   "cell_type": "code",
   "execution_count": null,
   "id": "whole-watershed",
   "metadata": {},
   "outputs": [],
   "source": [
    "# set to best solution \n",
    "x_best,y_best_old = bo.best_sofar()\n",
    "y_best_new = obj(x_best)\n",
    "print(x_best,y_best_old[0],y_best_new)   # check if best solution objective value is consistent"
   ]
  },
  {
   "cell_type": "code",
   "execution_count": null,
   "id": "marine-reggae",
   "metadata": {},
   "outputs": [],
   "source": [
    "df = pd.DataFrame(obj.history['objective_RDs']['values'][-1], index=obj.history['objective_RDs']['names'])\n",
    "df"
   ]
  },
  {
   "cell_type": "code",
   "execution_count": null,
   "id": "emotional-beauty",
   "metadata": {},
   "outputs": [],
   "source": [
    "(df.loc[\"FE_MEBT:BCM_D1055:AVGPK_RD\"]/df.loc[\"FE_LEBT:BCM_D0989:AVGPK_RD\"]).values[0]"
   ]
  },
  {
   "cell_type": "code",
   "execution_count": null,
   "id": "wrapped-sterling",
   "metadata": {},
   "outputs": [],
   "source": [
    "obj.write_log(fname=os.path.join('./log',fname))"
   ]
  },
  {
   "cell_type": "markdown",
   "id": "assumed-bidder",
   "metadata": {},
   "source": [
    "# change objective goal/norm/weights. \n",
    "##### Note that if an objective weight were zero previously, that objective cannot be added.\n",
    "objFunc does not read nor record data corresponding to the zero weight"
   ]
  },
  {
   "cell_type": "code",
   "execution_count": null,
   "id": "experienced-magic",
   "metadata": {},
   "outputs": [],
   "source": [
    "# objective_weight = { \n",
    "#     'FE_MEBT:BPM_D1056:XPOS_RD' : 0.5,     \n",
    "#     'FE_MEBT:BPM_D1056:YPOS_RD' : 0.5,     \n",
    "#     'FE_MEBT:BPM_D1056:PHASE_RD': 1., \n",
    "#     'FE_MEBT:BPM_D1056:MAG_RD'  : 0., \n",
    "#     'FE_MEBT:BPM_D1072:XPOS_RD' : 0.,     \n",
    "#     'FE_MEBT:BPM_D1072:YPOS_RD' : 0.,     \n",
    "#     'FE_MEBT:BPM_D1072:PHASE_RD': 0., \n",
    "#     'FE_MEBT:BPM_D1072:MAG_RD'  : 0., \n",
    "#     'FE_MEBT:BPM_D1094:XPOS_RD' : 0.0,     \n",
    "#     'FE_MEBT:BPM_D1094:YPOS_RD' : 0.0,     \n",
    "#     'FE_MEBT:BPM_D1094:PHASE_RD': 0.0,\n",
    "#     'FE_MEBT:BPM_D1094:MAG_RD'  : 0,\n",
    "#     'FE_MEBT:BCM_D1055:AVGPK_RD/FE_LEBT:BCM_D0989:AVGPK_RD': 3,\n",
    "#     'FE_MEBT:FC_D1102:PKAVG_RD': 3.,\n",
    "#     }\n",
    "\n",
    "# obj.update_objective(objective_weight=objective_weight)\n",
    "\n",
    "# x = np.array(obj.history['decision_CSETs']['values'][:-1])\n",
    "# y = np.array(obj.history['objectives']['total'])[:-1,None]\n",
    "# bo.update_model(x=x,y=y)\n",
    "\n",
    "# x_best,y_best = bo.best_sofar()\n",
    "# print(x_best, y_best)"
   ]
  },
  {
   "cell_type": "code",
   "execution_count": null,
   "id": "organized-moses",
   "metadata": {},
   "outputs": [],
   "source": [
    "# acquisition_func_args = {'beta':9.}\n",
    "# X_pending, Y_pending_future= bo.loop( \n",
    "#                             n_loop=10,  # number of additional optimization interation\n",
    "#                             func_obj = obj_callbacks,\n",
    "#                             bounds = obj.decision_bounds,\n",
    "#                             acquisition_func_args = acquisition_func_args,\n",
    "#                             X_pending = X_pending, \n",
    "#                             Y_pending_future = Y_pending_future,\n",
    "#                             batch_size = 1,\n",
    "#                             write_log = False,\n",
    "#                             )\n",
    "# for f in callbacks:\n",
    "#     f.close()"
   ]
  },
  {
   "cell_type": "code",
   "execution_count": null,
   "id": "demographic-palmer",
   "metadata": {},
   "outputs": [],
   "source": [
    "# # local optimization near the best_solution\n",
    "# x_best,y_best = bo.best_sofar()\n",
    "# bounds_best = np.array([(x-0.1*AQ,x+0.1*AQ) for x in x_best])   \n",
    "# acquisition_func_args = {'beta':0.4}\n",
    "\n",
    "# X_pending, Y_pending_future= bo.loop( \n",
    "#                                 n_loop=4,  # number of additional optimization interation\n",
    "#                                 func_obj = obj_callbacks,\n",
    "#                                 bounds = bounds_best,\n",
    "#                                 acquisition_func_args = acquisition_func_args,\n",
    "#                                 X_pending = X_pending, \n",
    "#                                 Y_pending_future = Y_pending_future,\n",
    "#                                 batch_size = 1,\n",
    "#                                 write_log = False,\n",
    "#                                 )\n",
    "# for f in callbacks:\n",
    "#     f.close()"
   ]
  },
  {
   "cell_type": "code",
   "execution_count": null,
   "id": "occupational-riverside",
   "metadata": {},
   "outputs": [],
   "source": [
    "# ax = bo.plot_obj_history()\n",
    "# ax.vlines(n_init,*ax.get_ylim(),color='k')"
   ]
  },
  {
   "cell_type": "code",
   "execution_count": null,
   "id": "detailed-insulation",
   "metadata": {},
   "outputs": [],
   "source": [
    "# # set to best solution \n",
    "# x_best,y_best_old = bo.best_sofar()\n",
    "# y_best_new = obj(x_best)\n",
    "# print(x_best,y_best_old[0],y_best_new)   # check if best solution objective value is consistent"
   ]
  },
  {
   "cell_type": "code",
   "execution_count": null,
   "id": "dressed-taiwan",
   "metadata": {},
   "outputs": [],
   "source": [
    "# obj.write_log(fname=os.path.join('./log',fname))"
   ]
  },
  {
   "cell_type": "markdown",
   "id": "ceramic-stocks",
   "metadata": {},
   "source": [
    "# Visualize Surrogate model"
   ]
  },
  {
   "cell_type": "code",
   "execution_count": null,
   "id": "federal-sleep",
   "metadata": {},
   "outputs": [],
   "source": [
    "# fixed_values_for_each_dim = {2:x_best[2],3:x_best[3]}  # fix values to visualize high dim surrogate model\n",
    "fixed_values_for_each_dim = None                         # do not fix values but project maximum. Can take long time to plot\n",
    "batch_size = 1"
   ]
  },
  {
   "cell_type": "code",
   "execution_count": null,
   "id": "induced-loading",
   "metadata": {},
   "outputs": [],
   "source": [
    "# plot surrogate mean model of the last epoch. Can take long time for decision dim >= 4\n",
    "\n",
    "t0 = time.monotonic()\n",
    "from math import ceil\n",
    "nplot = int(0.5*len(obj.decision_CSETs))\n",
    "nrow = ceil(0.5*nplot)\n",
    "fig,ax = plt.subplots(nrow,2,figsize=(8,3*nrow))\n",
    "for i in range(nrow):\n",
    "    for j in range(2):\n",
    "        n = 2*i+j\n",
    "        if nrow>1:\n",
    "            ax_ = ax[i,j]\n",
    "        else:\n",
    "            ax_ = ax[j]\n",
    "        if n >= nplot:\n",
    "            ax_.set_visible(False)\n",
    "            break\n",
    "        bo.plot_model_2D_projection(project_maximum=True,\n",
    "                                    dim_xaxis = 2*n,\n",
    "                                    dim_yaxis = 2*n+1,\n",
    "                                    bounds = obj.decision_bounds,\n",
    "                                    grid_ponits_each_dim = 16,\n",
    "                                    fixed_values_for_each_dim=fixed_values_for_each_dim,\n",
    "                                            fig=fig,ax=ax_);\n",
    "        ax_.scatter(obj.x0[2*n],obj.x0[2*n+1],color='k',label='initial')\n",
    "        ax_.scatter(x_best[2*n],x_best[2*n+1],color='r',label='optimum')\n",
    "        ax_.set_xlabel(obj.decision_CSETs[2*n  ])\n",
    "        ax_.set_ylabel(obj.decision_CSETs[2*n+1])\n",
    "        ax_.legend()\n",
    "fig.tight_layout()\n",
    "\n",
    "    \n",
    "print('time took: ',time.monotonic()-t0)"
   ]
  }
 ],
 "metadata": {
  "kernelspec": {
   "display_name": "Python 3 (ipykernel)",
   "language": "python",
   "name": "python3"
  },
  "language_info": {
   "codemirror_mode": {
    "name": "ipython",
    "version": 3
   },
   "file_extension": ".py",
   "mimetype": "text/x-python",
   "name": "python",
   "nbconvert_exporter": "python",
   "pygments_lexer": "ipython3",
   "version": "3.9.7"
  }
 },
 "nbformat": 4,
 "nbformat_minor": 5
}
