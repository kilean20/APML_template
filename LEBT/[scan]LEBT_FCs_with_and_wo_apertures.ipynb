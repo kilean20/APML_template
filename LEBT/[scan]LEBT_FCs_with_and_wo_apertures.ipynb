{
 "cells": [
  {
   "cell_type": "code",
   "execution_count": 21,
   "id": "3ec6da45",
   "metadata": {},
   "outputs": [],
   "source": [
    "from phantasy import ensure_set,fetch_data\n",
    "from epics import caput,caget\n",
    "import re\n",
    "import pandas as pd"
   ]
  },
  {
   "cell_type": "code",
   "execution_count": 39,
   "id": "1dbab1bd",
   "metadata": {},
   "outputs": [
    {
     "data": {
      "text/html": [
       "<div>\n",
       "<style scoped>\n",
       "    .dataframe tbody tr th:only-of-type {\n",
       "        vertical-align: middle;\n",
       "    }\n",
       "\n",
       "    .dataframe tbody tr th {\n",
       "        vertical-align: top;\n",
       "    }\n",
       "\n",
       "    .dataframe thead th {\n",
       "        text-align: right;\n",
       "    }\n",
       "</style>\n",
       "<table border=\"1\" class=\"dataframe\">\n",
       "  <thead>\n",
       "    <tr style=\"text-align: right;\">\n",
       "      <th></th>\n",
       "      <th>IN_CMD</th>\n",
       "      <th>OUT_CMD</th>\n",
       "      <th>IN_STATUS</th>\n",
       "      <th>OUT_STATUS</th>\n",
       "    </tr>\n",
       "    <tr>\n",
       "      <th>D</th>\n",
       "      <th></th>\n",
       "      <th></th>\n",
       "      <th></th>\n",
       "      <th></th>\n",
       "    </tr>\n",
       "  </thead>\n",
       "  <tbody>\n",
       "    <tr>\n",
       "      <th>717</th>\n",
       "      <td>IN_CMD_DRV</td>\n",
       "      <td>OUT_CMD_DRV</td>\n",
       "      <td>LMNEG_RSTS_DRV</td>\n",
       "      <td>LMPOS_RSTS_DRV</td>\n",
       "    </tr>\n",
       "    <tr>\n",
       "      <th>814</th>\n",
       "      <td>IN_CMD_DRV</td>\n",
       "      <td>OUT_CMD_DRV</td>\n",
       "      <td>LMNEG_RSTS_DRV</td>\n",
       "      <td>LMPOS_RSTS_DRV</td>\n",
       "    </tr>\n",
       "    <tr>\n",
       "      <th>977</th>\n",
       "      <td>IN_CMD_DRV</td>\n",
       "      <td>OUT_CMD_DRV</td>\n",
       "      <td>LMNEG_RSTS_DRV</td>\n",
       "      <td>LMPOS_RSTS_DRV</td>\n",
       "    </tr>\n",
       "    <tr>\n",
       "      <th>998</th>\n",
       "      <td>IN_CMD</td>\n",
       "      <td>OUT_CMD</td>\n",
       "      <td>LMIN_RSTS</td>\n",
       "      <td>LMOUT_RSTS</td>\n",
       "    </tr>\n",
       "    <tr>\n",
       "      <th>1102</th>\n",
       "      <td>IN_CMD</td>\n",
       "      <td>OUT_CMD</td>\n",
       "      <td>LMIN_RSTS</td>\n",
       "      <td>LMOUT_RSTS</td>\n",
       "    </tr>\n",
       "  </tbody>\n",
       "</table>\n",
       "</div>"
      ],
      "text/plain": [
       "          IN_CMD      OUT_CMD       IN_STATUS      OUT_STATUS\n",
       "D                                                            \n",
       "717   IN_CMD_DRV  OUT_CMD_DRV  LMNEG_RSTS_DRV  LMPOS_RSTS_DRV\n",
       "814   IN_CMD_DRV  OUT_CMD_DRV  LMNEG_RSTS_DRV  LMPOS_RSTS_DRV\n",
       "977   IN_CMD_DRV  OUT_CMD_DRV  LMNEG_RSTS_DRV  LMPOS_RSTS_DRV\n",
       "998       IN_CMD  OUT_CMD           LMIN_RSTS      LMOUT_RSTS\n",
       "1102     IN_CMD   OUT_CMD           LMIN_RSTS      LMOUT_RSTS"
      ]
     },
     "execution_count": 39,
     "metadata": {},
     "output_type": "execute_result"
    }
   ],
   "source": [
    "FC_PV_conf =[\n",
    "    [717, \"IN_CMD_DRV\",\"OUT_CMD_DRV\",\"LMNEG_RSTS_DRV\",\"LMPOS_RSTS_DRV\"],\n",
    "    [738, \"IN_CMD_DRV\",\"OUT_CMD_DRV\",\"LMNEG_RSTS_DRV\",\"LMPOS_RSTS_DRV\"],\n",
    "    [814, \"IN_CMD_DRV\",\"OUT_CMD_DRV\",\"LMNEG_RSTS_DRV\",\"LMPOS_RSTS_DRV\"],\n",
    "    [977, \"IN_CMD_DRV\",\"OUT_CMD_DRV\",\"LMNEG_RSTS_DRV\",\"LMPOS_RSTS_DRV\"],\n",
    "    [998, \"IN_CMD\"    ,\"OUT_CMD    \",\"LMIN_RSTS\"     ,\"LMOUT_RSTS\"    ],\n",
    "    [1102,\"IN_CMD \"   ,\"OUT_CMD    \",\"LMIN_RSTS\"     ,\"LMOUT_RSTS\"    ],\n",
    "]\n",
    "FC_PV_conf = pd.DataFrame(FC_PV_conf,columns=['D','IN_CMD','OUT_CMD','IN_STATUS','OUT_STATUS']).set_index('D')\n",
    "FC_PV_conf"
   ]
  },
  {
   "cell_type": "code",
   "execution_count": 41,
   "id": "90e20326",
   "metadata": {},
   "outputs": [],
   "source": [
    "def get_FC_PVs(PVs):\n",
    "    \n",
    "    pv_data = []    \n",
    "        \n",
    "    for pv in PVs:\n",
    "        match=re.search(r\"_D(\\d+)\",pv)\n",
    "        dnum = int(match.group(1))\n",
    "        conf = FC_PV_conf.loc[dnum]\n",
    "        name = pv[:match.end()]\n",
    "        in_cmd     = name +\":\" + conf['IN_CMD']\n",
    "        out_cmd    = name +\":\" + conf['OUT_CMD']\n",
    "        in_status  = name +\":\" + conf['IN_STATUS']\n",
    "        out_status = name +\":\" + conf['OUT_STATUS']\n",
    "        pkrd = name +\":PKAVG_RD\"\n",
    "        pv_data.append( [dnum, in_cmd, out_cmd, in_status, out_status, pkrd] )\n",
    "        \n",
    "    pv_data = pd.DataFrame(pv_data,columns=['D','IN_CMD','OUT_CMD','IN_STATUS','OUT_STATUS',\"PKAVG\"]).set_index('D')\n",
    "    \n",
    "    return pv_data"
   ]
  },
  {
   "cell_type": "code",
   "execution_count": 43,
   "id": "4d962dba",
   "metadata": {},
   "outputs": [
    {
     "data": {
      "text/html": [
       "<div>\n",
       "<style scoped>\n",
       "    .dataframe tbody tr th:only-of-type {\n",
       "        vertical-align: middle;\n",
       "    }\n",
       "\n",
       "    .dataframe tbody tr th {\n",
       "        vertical-align: top;\n",
       "    }\n",
       "\n",
       "    .dataframe thead th {\n",
       "        text-align: right;\n",
       "    }\n",
       "</style>\n",
       "<table border=\"1\" class=\"dataframe\">\n",
       "  <thead>\n",
       "    <tr style=\"text-align: right;\">\n",
       "      <th></th>\n",
       "      <th>IN_CMD</th>\n",
       "      <th>OUT_CMD</th>\n",
       "      <th>IN_STATUS</th>\n",
       "      <th>OUT_STATUS</th>\n",
       "      <th>PKAVG</th>\n",
       "    </tr>\n",
       "    <tr>\n",
       "      <th>D</th>\n",
       "      <th></th>\n",
       "      <th></th>\n",
       "      <th></th>\n",
       "      <th></th>\n",
       "      <th></th>\n",
       "    </tr>\n",
       "  </thead>\n",
       "  <tbody>\n",
       "    <tr>\n",
       "      <th>717</th>\n",
       "      <td>FE_SCS2:FC_D0717:IN_CMD_DRV</td>\n",
       "      <td>FE_SCS2:FC_D0717:OUT_CMD_DRV</td>\n",
       "      <td>FE_SCS2:FC_D0717:LMNEG_RSTS_DRV</td>\n",
       "      <td>FE_SCS2:FC_D0717:LMPOS_RSTS_DRV</td>\n",
       "      <td>FE_SCS2:FC_D0717:PKAVG_RD</td>\n",
       "    </tr>\n",
       "  </tbody>\n",
       "</table>\n",
       "</div>"
      ],
      "text/plain": [
       "                          IN_CMD                       OUT_CMD  \\\n",
       "D                                                                \n",
       "717  FE_SCS2:FC_D0717:IN_CMD_DRV  FE_SCS2:FC_D0717:OUT_CMD_DRV   \n",
       "\n",
       "                           IN_STATUS                       OUT_STATUS  \\\n",
       "D                                                                       \n",
       "717  FE_SCS2:FC_D0717:LMNEG_RSTS_DRV  FE_SCS2:FC_D0717:LMPOS_RSTS_DRV   \n",
       "\n",
       "                         PKAVG  \n",
       "D                               \n",
       "717  FE_SCS2:FC_D0717:PKAVG_RD  "
      ]
     },
     "execution_count": 43,
     "metadata": {},
     "output_type": "execute_result"
    }
   ],
   "source": [
    "get_FC_PVs([\"FE_SCS2:FC_D0717\", \"FE_SCS1:FC_D0738\", \"FE_LEBT:FC_D0814\",\"FE_LEBT:FC_D0977\"])"
   ]
  },
  {
   "cell_type": "code",
   "execution_count": 14,
   "id": "97a34235",
   "metadata": {},
   "outputs": [
    {
     "data": {
      "text/plain": [
       "(array([1.]), None)"
      ]
     },
     "execution_count": 14,
     "metadata": {},
     "output_type": "execute_result"
    }
   ],
   "source": [
    "fetch_data([pv],0.1)"
   ]
  },
  {
   "cell_type": "code",
   "execution_count": 17,
   "id": "567b9cb8",
   "metadata": {},
   "outputs": [
    {
     "data": {
      "text/plain": [
       "717"
      ]
     },
     "execution_count": 17,
     "metadata": {},
     "output_type": "execute_result"
    }
   ],
   "source": [
    "pv = \"FE_SCS2:FC_D0717:IN_CMD_DRV\"\n",
    "match=re.search(r\"_D(\\d+)\",pv)\n",
    "dnum = int(match.group(1))\n",
    "dnum"
   ]
  },
  {
   "cell_type": "code",
   "execution_count": 11,
   "id": "aa83cf02",
   "metadata": {},
   "outputs": [
    {
     "data": {
      "text/plain": [
       "'FE_SCS2:FC_D0717'"
      ]
     },
     "execution_count": 11,
     "metadata": {},
     "output_type": "execute_result"
    }
   ],
   "source": [
    "pv[:16]"
   ]
  },
  {
   "cell_type": "code",
   "execution_count": null,
   "id": "a8e5c17d",
   "metadata": {},
   "outputs": [],
   "source": []
  }
 ],
 "metadata": {
  "kernelspec": {
   "display_name": "Python 3 (ipykernel)",
   "language": "python",
   "name": "python3"
  },
  "language_info": {
   "codemirror_mode": {
    "name": "ipython",
    "version": 3
   },
   "file_extension": ".py",
   "mimetype": "text/x-python",
   "name": "python",
   "nbconvert_exporter": "python",
   "pygments_lexer": "ipython3",
   "version": "3.11.2"
  }
 },
 "nbformat": 4,
 "nbformat_minor": 5
}
