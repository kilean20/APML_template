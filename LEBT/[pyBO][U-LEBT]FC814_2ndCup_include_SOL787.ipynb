{
 "cells": [
  {
   "cell_type": "code",
   "execution_count": null,
   "id": "desperate-violation",
   "metadata": {},
   "outputs": [],
   "source": [
    "# ! pip install -e /files/shared/ap/jupyter-notebook/pkgs/objFuncs\n",
    "# ! pip install -e /files/shared/ap/jupyter-notebook/pkgs/pyBO"
   ]
  },
  {
   "cell_type": "markdown",
   "id": "japanese-deadline",
   "metadata": {},
   "source": [
    " # please re-start kernel if these packages are installed for the first time"
   ]
  },
  {
   "cell_type": "code",
   "execution_count": 1,
   "id": "small-matter",
   "metadata": {},
   "outputs": [],
   "source": [
    "import numpy as np\n",
    "import os\n",
    "import matplotlib.pyplot as plt\n",
    "import time\n",
    "import datetime\n",
    "import concurrent\n",
    "from phantasy import caget,fetch_data"
   ]
  },
  {
   "cell_type": "code",
   "execution_count": 2,
   "id": "statewide-penalty",
   "metadata": {},
   "outputs": [
    {
     "name": "stdout",
     "output_type": "stream",
     "text": [
      "== default machineIOs are...\n",
      "   _test : False\n",
      "   _ensure_set_timeout : 30\n",
      "   _ensure_set_timewait_after_ramp : 0.25\n",
      "   _fetch_data_time_span : 2.05\n",
      "   _return_obj_var : False\n",
      "   _check_chopper_blocking : True\n"
     ]
    }
   ],
   "source": [
    "import objFuncs\n",
    "from objFuncs import maximize_FC\n",
    "from objFuncs.util import plot_obj_history\n",
    "from pyBO import pyBO"
   ]
  },
  {
   "cell_type": "code",
   "execution_count": 11,
   "id": "3de412e9",
   "metadata": {},
   "outputs": [],
   "source": [
    "budget = 48\n",
    "n_init = 24"
   ]
  },
  {
   "cell_type": "markdown",
   "id": "reported-separation",
   "metadata": {},
   "source": [
    "# check objFuncs machineIO, source and beam  "
   ]
  },
  {
   "cell_type": "code",
   "execution_count": 3,
   "id": "north-stereo",
   "metadata": {},
   "outputs": [],
   "source": [
    "objFuncs._global_machineIO._test = False\n",
    "objFuncs._global_machineIO._fetch_data_time_span = 2\n",
    "# objFuncs._global_machineIO.view()"
   ]
  },
  {
   "cell_type": "code",
   "execution_count": 4,
   "id": "diagnostic-parallel",
   "metadata": {},
   "outputs": [
    {
     "name": "stdout",
     "output_type": "stream",
     "text": [
      "SCS2 28Si11 A/Q= 2.5454545454545454\n"
     ]
    }
   ],
   "source": [
    "SCS = caget(\"ACS_DIAG:DEST:ACTIVE_ION_SOURCE\")\n",
    "ion = caget(\"FE_ISRC\"+str(SCS)+\":BEAM:ELMT_BOOK\")\n",
    "Q = caget(\"FE_ISRC\"+str(SCS)+\":BEAM:Q_BOOK\")\n",
    "A = caget(\"FE_ISRC\"+str(SCS)+\":BEAM:A_BOOK\")\n",
    "# AQ = caget(\"FE_ISRC2:BEAM:MOVRQ_BOOK\")\n",
    "AQ = A/Q\n",
    "ion = str(A)+ion+str(Q)\n",
    "print('SCS'+str(SCS), ion, 'A/Q=',AQ)"
   ]
  },
  {
   "cell_type": "code",
   "execution_count": null,
   "id": "ee6fb35f",
   "metadata": {},
   "outputs": [],
   "source": [
    "%%javascript\n",
    "IPython.notebook.kernel.execute('nb_name = \"' + IPython.notebook.notebook_name + '\"')"
   ]
  },
  {
   "cell_type": "code",
   "execution_count": null,
   "id": "c4e08352",
   "metadata": {},
   "outputs": [],
   "source": [
    "now0str = datetime.datetime.now().strftime('%Y%m%d_%H%M')\n",
    "fname = now0str+'['+ion+']'+nb_name.strip('.ipynb')\n",
    "fname"
   ]
  },
  {
   "cell_type": "markdown",
   "id": "municipal-richards",
   "metadata": {},
   "source": [
    "# preprare objective"
   ]
  },
  {
   "cell_type": "code",
   "execution_count": 12,
   "id": "loving-brazilian",
   "metadata": {},
   "outputs": [
    {
     "data": {
      "text/plain": [
       "[(-1.3393474845185058, -0.8302565754275966),\n",
       " (-1.0709170083574986, -0.5618260992665893),\n",
       " (0.45652623232499107, 0.9656171414159003),\n",
       " (1.2032588641578859, 1.7123497732487951),\n",
       " (26.73, 32.67)]"
      ]
     },
     "execution_count": 12,
     "metadata": {},
     "output_type": "execute_result"
    }
   ],
   "source": [
    "decision_CSETs = ['FE_LEBT:PSC2_D0773:I_CSET',\n",
    "                  'FE_LEBT:PSC1_D0773:I_CSET',\n",
    "                  'FE_LEBT:PSC2_D0790:I_CSET',\n",
    "                  'FE_LEBT:PSC1_D0790:I_CSET',\n",
    "                  'FE_LEBT:PSOL_D0787:I_CSET',\n",
    "                  ]\n",
    "\n",
    "x0,_ = fetch_data(decision_CSETs,0.1)\n",
    "\n",
    "bounds = []\n",
    "frac = 0.1\n",
    "for i,pv in enumerate(decision_CSETs):\n",
    "    if 'PSC' in pv:\n",
    "        bounds.append((x0[i]-frac*AQ, x0[i]+frac*AQ))\n",
    "    else:\n",
    "        if x0[i]>0:\n",
    "            bounds.append((0.9*x0[i], 1.1*x0[i]))\n",
    "        elif x0[i]<0:\n",
    "            bounds.append((1.1*x0[i], 0.9*x0[i]))\n",
    "        else:\n",
    "            bounds.append((-frac*AQ, frac*AQ))\n",
    "bounds = np.array(bounds)\n",
    "\n",
    "# bounds = np.array(\n",
    "#     [[ 0.15659717,  0.66568808],\n",
    "#     [-0.28209136,  0.22699955],\n",
    "#     [-1.13959094, -0.63050003],\n",
    "#     [ 1.36682776,  1.87591867],\n",
    "#     [ 8.6508    , 10.5732    ]]\n",
    "# )\n",
    "\n",
    "\n",
    "\n",
    "decision_min = bounds[:,0]\n",
    "decision_max = bounds[:,1]\n",
    "\n",
    "list(zip(decision_min, decision_max))  # bounds"
   ]
  },
  {
   "cell_type": "code",
   "execution_count": null,
   "id": "beginning-robin",
   "metadata": {
    "scrolled": false
   },
   "outputs": [],
   "source": [
    "obj = maximize_FC.maximize_FC814(\n",
    "    decision_CSETs=decision_CSETs,\n",
    "    decision_min = decision_min,\n",
    "    decision_max = decision_max,\n",
    "    objective_goal   = {'FE_LEBT:FC_D0814:PKAVG_RD': {'more than': 40}},\n",
    "    objective_weight = {'FE_LEBT:FC_D0814:PKAVG_RD': 1},\n",
    "    objective_norm   = {'FE_LEBT:FC_D0814:PKAVG_RD': 10},\n",
    "    objective_fill_none_by_init = True,\n",
    "    history_logging_fname = fname,\n",
    ")"
   ]
  },
  {
   "cell_type": "markdown",
   "id": "departmental-tennis",
   "metadata": {},
   "source": [
    " # Prepare plot callbacks"
   ]
  },
  {
   "cell_type": "code",
   "execution_count": null,
   "id": "changed-sandwich",
   "metadata": {},
   "outputs": [],
   "source": [
    "# define what to plot\n",
    "plot_CSETs = plot_obj_history(\n",
    "                obj.history['decision_CSETs'],\n",
    "                title = 'decision_CSETs',\n",
    "                inline = True,\n",
    "                )\n",
    "plot_RDs = plot_obj_history(\n",
    "                obj.history['objective_RDs'],\n",
    "                title = 'objective_RDs',\n",
    "                inline = True,\n",
    "                )\n",
    "plot_objs = plot_obj_history(\n",
    "            obj.history['objectives'],\n",
    "            title = 'objectives',\n",
    "            inline = True,\n",
    "            )\n",
    "callbacks = [plot_CSETs,plot_RDs,plot_objs]\n",
    "\n",
    "# evaluate objective and plot\n",
    "def obj_callbacks(x):\n",
    "    return obj(x,callbacks=callbacks)"
   ]
  },
  {
   "cell_type": "markdown",
   "id": "public-connection",
   "metadata": {},
   "source": [
    "# Run BO"
   ]
  },
  {
   "cell_type": "markdown",
   "id": "potential-indian",
   "metadata": {},
   "source": [
    "### run BO until budget exhaust"
   ]
  },
  {
   "cell_type": "code",
   "execution_count": null,
   "id": "hybrid-prototype",
   "metadata": {
    "scrolled": false
   },
   "outputs": [],
   "source": [
    "# run optimizer\n",
    "bo, X_pending, Y_pending_future = pyBO.runBO(\n",
    "                                    obj_callbacks,  \n",
    "                                    bounds=obj.decision_bounds,\n",
    "                                    n_init=n_init,\n",
    "                                    budget = budget,\n",
    "                                    batch_size=1,\n",
    "#                                     timeout = 2+objFuncs._global_machineIO._fetch_data_time_span,\n",
    "                                    path=\"./log/\",\n",
    "                                    tag=fname+'_pyBO_history',\n",
    "                                    write_log = False)\n",
    "\n",
    "\n",
    "# exploit model for a few iteration\n",
    "acquisition_func_args = {'beta':0.01}\n",
    "X_pending, Y_pending_future= bo.loop( \n",
    "                                n_loop=2,  # number of additional optimization interation\n",
    "                                func_obj = obj_callbacks,\n",
    "                                bounds = obj.decision_bounds,\n",
    "                                acquisition_func_args = acquisition_func_args,\n",
    "                                X_pending = X_pending, \n",
    "                                Y_pending_future = Y_pending_future,\n",
    "                                batch_size = 1,\n",
    "                                write_log = False,\n",
    "                                )\n",
    "\n",
    "for f in callbacks:\n",
    "    f.close()"
   ]
  },
  {
   "cell_type": "code",
   "execution_count": null,
   "id": "pleasant-greece",
   "metadata": {},
   "outputs": [],
   "source": [
    "now1 = datetime.datetime.now()\n",
    "now1str = str(now1)[:str(now1).rfind(':')].replace(' ','_').replace(':','').replace('-','')\n",
    "time_delta = now1 - now0\n",
    "print(\"time took:\",str(time_delta.total_seconds()/60)[:4],'min')"
   ]
  },
  {
   "cell_type": "markdown",
   "id": "equivalent-abuse",
   "metadata": {},
   "source": [
    "### Fine Tune near current best"
   ]
  },
  {
   "cell_type": "code",
   "execution_count": null,
   "id": "friendly-majority",
   "metadata": {},
   "outputs": [],
   "source": [
    "# local optimization near the best_solution\n",
    "bounds_diff = obj.decision_bounds[:,1] - obj.decision_bounds[:,0]\n",
    "for i in range(3):\n",
    "    x_best,y_best = bo.best_sofar()\n",
    "    bounds_best = np.array(list(zip(x_best-0.08*bounds_diff, x_best+0.08*bounds_diff)))\n",
    "    acquisition_func_args = {'beta':1}\n",
    "\n",
    "    X_pending, Y_pending_future= bo.loop( \n",
    "                                    n_loop=3,  # number of additional optimization interation\n",
    "                                    func_obj = obj_callbacks,\n",
    "                                    bounds = bounds_best,\n",
    "                                    acquisition_func_args = acquisition_func_args,\n",
    "                                    X_pending = X_pending, \n",
    "                                    Y_pending_future = Y_pending_future,\n",
    "                                    batch_size = 1,\n",
    "                                    write_log = False,\n",
    "                                    )\n",
    "for f in callbacks:\n",
    "    f.close()"
   ]
  },
  {
   "cell_type": "code",
   "execution_count": null,
   "id": "basic-sacrifice",
   "metadata": {},
   "outputs": [],
   "source": [
    "ax = bo.plot_obj_history()\n",
    "ax.vlines(n_init,*ax.get_ylim(),color='k')"
   ]
  },
  {
   "cell_type": "code",
   "execution_count": null,
   "id": "scheduled-funds",
   "metadata": {},
   "outputs": [],
   "source": [
    "# set to best solution \n",
    "x_best,y_best_old = bo.best_sofar()\n",
    "y_best_new = obj(x_best)\n",
    "print(x_best,y_best_old[0],y_best_new)   # check if best solution objective value is consistent"
   ]
  },
  {
   "cell_type": "code",
   "execution_count": null,
   "id": "waiting-discovery",
   "metadata": {},
   "outputs": [],
   "source": [
    "obj.write_log(fname=os.path.join('./log',fname))"
   ]
  },
  {
   "cell_type": "markdown",
   "id": "hundred-writing",
   "metadata": {},
   "source": [
    "# Visualize Surrogate model"
   ]
  },
  {
   "cell_type": "code",
   "execution_count": null,
   "id": "metallic-frank",
   "metadata": {},
   "outputs": [],
   "source": [
    "# fixed_values_for_each_dim = {2:x_best[2],3:x_best[3]}  # fix values to visualize high dim surrogate model\n",
    "fixed_values_for_each_dim = None                         # do not fix values but project maximum. Can take long time to plot\n",
    "batch_size = 1"
   ]
  },
  {
   "cell_type": "code",
   "execution_count": null,
   "id": "environmental-bernard",
   "metadata": {},
   "outputs": [],
   "source": [
    "# # plot acuquisition functions for the first 4 epochs. Can take long time for decision dim >= 4\n",
    "# for epoch in range(4):   \n",
    "#     fig,ax = plt.subplots(1,batch_size,figsize=(4*batch_size,3))\n",
    "#     if batch_size ==1:\n",
    "#         ax = [ax]\n",
    "#     for i in range(batch_size):\n",
    "#         bo.plot_acquisition_2D_projection(project_maximum=True,\n",
    "#                                           epoch=epoch,\n",
    "#                                           i_query=i,\n",
    "#                                           grid_ponits_each_dim = 16,\n",
    "#                                           fixed_values_for_each_dim=fixed_values_for_each_dim,\n",
    "#                                           fig=fig,ax=ax[i],);\n",
    "#         ax[i].legend()\n",
    "#         ax[i].set_xlabel(obj.decision_CSETs[0])\n",
    "#         ax[i].set_ylabel(obj.decision_CSETs[1])\n",
    "#     fig.tight_layout()"
   ]
  },
  {
   "cell_type": "code",
   "execution_count": null,
   "id": "julian-mountain",
   "metadata": {},
   "outputs": [],
   "source": [
    "# # plot acuquisition functions for the last 4 epochs. Can take long time for decision dim >= 4\n",
    "# for epoch in range(-6,-2):\n",
    "#     fig,ax = plt.subplots(1,batch_size,figsize=(4*batch_size,3))\n",
    "#     if batch_size ==1:\n",
    "#         ax = [ax]\n",
    "#     for i in range(batch_size):\n",
    "#         bo.plot_acquisition_2D_projection(project_maximum=True,\n",
    "#                                           epoch=epoch,\n",
    "#                                           i_query=i,\n",
    "#                                           grid_ponits_each_dim = 16,\n",
    "#                                           fixed_values_for_each_dim=fixed_values_for_each_dim,\n",
    "#                                           fig=fig,ax=ax[i],);\n",
    "#         ax[i].legend()\n",
    "#         ax[i].set_xlabel(obj.decision_CSETs[0])\n",
    "#         ax[i].set_ylabel(obj.decision_CSETs[1])\n",
    "#     fig.tight_layout()"
   ]
  },
  {
   "cell_type": "code",
   "execution_count": null,
   "id": "graphic-analyst",
   "metadata": {},
   "outputs": [],
   "source": [
    "# plot surrogate mean model of the last epoch. Can take long time for decision dim >= 4\n",
    "\n",
    "t0 = time.monotonic()\n",
    "from math import ceil\n",
    "nplot = int(0.5*len(obj.decision_CSETs))\n",
    "nrow = ceil(0.5*nplot)\n",
    "fig,ax = plt.subplots(nrow,2,figsize=(8,3*nrow))\n",
    "for i in range(nrow):\n",
    "    for j in range(2):\n",
    "        n = 2*i+j\n",
    "        if nrow>1:\n",
    "            ax_ = ax[i,j]\n",
    "        else:\n",
    "            ax_ = ax[j]\n",
    "        if n >= nplot:\n",
    "            ax_.set_visible(False)\n",
    "            break\n",
    "        bo.plot_model_2D_projection(project_maximum=True,\n",
    "                                    dim_xaxis = 2*n,\n",
    "                                    dim_yaxis = 2*n+1,\n",
    "                                    grid_ponits_each_dim = 16,\n",
    "                                    fixed_values_for_each_dim=fixed_values_for_each_dim,\n",
    "                                            fig=fig,ax=ax_);\n",
    "        ax_.set_xlabel(obj.decision_CSETs[2*n  ])\n",
    "        ax_.set_ylabel(obj.decision_CSETs[2*n+1])\n",
    "        ax_.legend()\n",
    "fig.tight_layout()\n",
    "\n",
    "    \n",
    "print('time took: ',time.monotonic()-t0)"
   ]
  },
  {
   "cell_type": "code",
   "execution_count": null,
   "id": "949440b3",
   "metadata": {},
   "outputs": [],
   "source": []
  }
 ],
 "metadata": {
  "kernelspec": {
   "display_name": "Python 3 (ipykernel)",
   "language": "python",
   "name": "python3"
  },
  "language_info": {
   "codemirror_mode": {
    "name": "ipython",
    "version": 3
   },
   "file_extension": ".py",
   "mimetype": "text/x-python",
   "name": "python",
   "nbconvert_exporter": "python",
   "pygments_lexer": "ipython3",
   "version": "3.9.7"
  }
 },
 "nbformat": 4,
 "nbformat_minor": 5
}
