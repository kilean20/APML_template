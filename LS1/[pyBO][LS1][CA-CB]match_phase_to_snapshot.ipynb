{
 "cells": [
  {
   "cell_type": "code",
   "execution_count": null,
   "id": "deluxe-directive",
   "metadata": {},
   "outputs": [],
   "source": [
    "# !pip install -e /files/shared/ap/jupyter-notebook/pkgs/objFuncs \n",
    "# !pip install -e /files/shared/ap/jupyter-notebook/pkgs/pyBO"
   ]
  },
  {
   "cell_type": "markdown",
   "id": "aggregate-professor",
   "metadata": {},
   "source": [
    " # please re-start kernel if these packages are installed for the first time"
   ]
  },
  {
   "cell_type": "code",
   "execution_count": null,
   "id": "small-matter",
   "metadata": {},
   "outputs": [],
   "source": [
    "import numpy as np\n",
    "import pandas as pd\n",
    "import os\n",
    "import matplotlib.pyplot as plt\n",
    "import time\n",
    "import datetime\n",
    "import concurrent\n",
    "from phantasy import caget, fetch_data"
   ]
  },
  {
   "cell_type": "code",
   "execution_count": null,
   "id": "statewide-penalty",
   "metadata": {},
   "outputs": [],
   "source": [
    "import objFuncs\n",
    "from objFuncs.util import read_BPMoverview_snapshot\n",
    "from objFuncs import maximize_FC\n",
    "from objFuncs.util import plot_obj_history\n",
    "from pyBO import pyBO"
   ]
  },
  {
   "cell_type": "code",
   "execution_count": null,
   "id": "dcd3ddb8",
   "metadata": {},
   "outputs": [],
   "source": [
    "budget = 16\n",
    "n_init = 8"
   ]
  },
  {
   "cell_type": "markdown",
   "id": "alive-biography",
   "metadata": {},
   "source": [
    "# check objFuncs machineIO, source and beam  "
   ]
  },
  {
   "cell_type": "code",
   "execution_count": null,
   "id": "welsh-stewart",
   "metadata": {},
   "outputs": [],
   "source": [
    "objFuncs._global_machineIO._test = False\n",
    "objFuncs._global_machineIO._fetch_data_time_span = 5.05\n",
    "objFuncs._global_machineIO._ensure_set_timewait_after_ramp = 0.5\n",
    "# objFuncs._global_machineIO.view()"
   ]
  },
  {
   "cell_type": "code",
   "execution_count": null,
   "id": "pediatric-duplicate",
   "metadata": {},
   "outputs": [],
   "source": [
    "SCS = caget(\"ACS_DIAG:DEST:ACTIVE_ION_SOURCE\")\n",
    "ion = caget(\"FE_ISRC\"+str(SCS)+\":BEAM:ELMT_BOOK\")\n",
    "Q = caget(\"FE_ISRC\"+str(SCS)+\":BEAM:Q_BOOK\")\n",
    "A = caget(\"FE_ISRC\"+str(SCS)+\":BEAM:A_BOOK\")\n",
    "# AQ = caget(\"FE_ISRC2:BEAM:MOVRQ_BOOK\")\n",
    "AQ = A/Q\n",
    "ion = str(A)+ion+str(Q)\n",
    "print('SCS'+str(SCS), ion, 'A/Q=',AQ)"
   ]
  },
  {
   "cell_type": "code",
   "execution_count": null,
   "id": "fe4e7692",
   "metadata": {},
   "outputs": [],
   "source": [
    "now0 = datetime.datetime.now()\n",
    "now0str = now0.strftime('%Y%m%d_%H%M')\n",
    "fname = now0str+'['+ion+'][pyBO][LS1][CA]match_phase_to_snapshot'\n",
    "fname"
   ]
  },
  {
   "cell_type": "markdown",
   "id": "unique-bowling",
   "metadata": {},
   "source": [
    "# preprare objective"
   ]
  },
  {
   "cell_type": "code",
   "execution_count": null,
   "id": "loving-brazilian",
   "metadata": {},
   "outputs": [],
   "source": [
    "decision_CSETs=['FE_MEBT:RFC_D1066:PHA_CSET'   , 'FE_MEBT:RFC_D1107:PHA_CSET'   ]\n",
    "decision_RDs = ['FE_MEBT:RFC_D1066:PHA_RD_CAVS', 'FE_MEBT:RFC_D1107:PHA_RD_CAVS']\n",
    "decision_tols = [0.05, 0.05]\n",
    "ave,_ = fetch_data(decision_CSETs,0.1)\n",
    "\n",
    "decision_min = ave - 1.5\n",
    "decision_max = ave + 1.5\n",
    "\n",
    "print(decision_min)\n",
    "print(decision_max)"
   ]
  },
  {
   "cell_type": "code",
   "execution_count": null,
   "id": "palestinian-headline",
   "metadata": {},
   "outputs": [],
   "source": [
    "BPM_snapshot_fname = '20230525_16O6_reference/20230527_1146_16O6_140p6MeVu_LS3_completed.bpm'\n",
    "objective_goal = read_BPMoverview_snapshot(BPM_snapshot_fname,Dnum_from=1100,Dnum_to=1477)\n",
    "objective_goal"
   ]
  },
  {
   "cell_type": "code",
   "execution_count": null,
   "id": "australian-tolerance",
   "metadata": {},
   "outputs": [],
   "source": [
    "# objective_goal = {\n",
    "#     'FE_MEBT:BPM_D1056:XPOS_RD': -1.0940998392596917,\n",
    "#     'FE_MEBT:BPM_D1056:YPOS_RD': -0.019491418399209,\n",
    "#     'FE_MEBT:BPM_D1056:PHASE_RD': 76.90770742747644,\n",
    "#     'FE_MEBT:BPM_D1056:MAG_RD': {'more than': None},\n",
    "#     'FE_MEBT:BPM_D1072:XPOS_RD': 0.032766532755004,\n",
    "#     'FE_MEBT:BPM_D1072:YPOS_RD': -0.021836802378343904,\n",
    "#     'FE_MEBT:BPM_D1072:PHASE_RD': -26.787524830576125,\n",
    "#     'FE_MEBT:BPM_D1072:MAG_RD': {'more than': None},\n",
    "#     'FE_MEBT:BPM_D1094:XPOS_RD': 0.10449399372712796,\n",
    "#     'FE_MEBT:BPM_D1094:YPOS_RD': -0.15601053214377406,\n",
    "#     'FE_MEBT:BPM_D1094:PHASE_RD': -16.359215751371813,\n",
    "#     'FE_MEBT:BPM_D1094:MAG_RD': {'more than': None},\n",
    "#     'FE_MEBT:BCM_D1055:AVGPK_RD/FE_LEBT:BCM_D0989:AVGPK_RD': {'more than': 0.98},\n",
    "#     'FE_MEBT:FC_D1102:PKAVG_RD': {'more than': 0.8*FC998} #0.8*FC814\n",
    "# }"
   ]
  },
  {
   "cell_type": "code",
   "execution_count": null,
   "id": "criminal-homework",
   "metadata": {},
   "outputs": [],
   "source": [
    "objective_norm = {k:1. for k in objective_goal.keys()}\n",
    "objective_weight = {k:1. for k in objective_goal.keys()}"
   ]
  },
  {
   "cell_type": "code",
   "execution_count": null,
   "id": "beginning-robin",
   "metadata": {
    "scrolled": false
   },
   "outputs": [],
   "source": [
    "obj = objFuncs.objFuncGoals(\n",
    "    decision_CSETs=decision_CSETs,\n",
    "    decision_RDs = decision_RDs,\n",
    "    decision_min = decision_min,\n",
    "    decision_max = decision_max,\n",
    "    decision_tols = decision_tols,\n",
    "    objective_goal = objective_goal,\n",
    "    objective_weight = objective_weight,\n",
    "    objective_norm = objective_norm,\n",
    "    apply_bilog = True,\n",
    ")"
   ]
  },
  {
   "cell_type": "markdown",
   "id": "departmental-tennis",
   "metadata": {},
   "source": [
    " # Prepare plot callbacks"
   ]
  },
  {
   "cell_type": "code",
   "execution_count": null,
   "id": "changed-sandwich",
   "metadata": {},
   "outputs": [],
   "source": [
    "# define what to plot\n",
    "plot_CSETs = plot_obj_history(\n",
    "                obj.history['decision_CSETs'],\n",
    "                title = 'decision_CSETs',\n",
    "                inline = True,\n",
    "                )\n",
    "plot_RDs = plot_obj_history(\n",
    "                obj.history['objective_RDs'],\n",
    "                title = 'objective_RDs',\n",
    "                inline = True,\n",
    "                )\n",
    "plot_objs = plot_obj_history(\n",
    "            obj.history['objectives'],\n",
    "            title = 'objectives',\n",
    "            inline = True,\n",
    "            add_y_data = obj.history['objectives']['total'],\n",
    "            add_y_label = 'total obj'\n",
    "            )\n",
    "callbacks = [plot_CSETs,plot_RDs,plot_objs]\n",
    "\n",
    "# evaluate objective and plot\n",
    "def obj_callbacks(x):\n",
    "    return obj(x,callbacks=callbacks)"
   ]
  },
  {
   "cell_type": "markdown",
   "id": "liable-olympus",
   "metadata": {},
   "source": [
    "# Run BO"
   ]
  },
  {
   "cell_type": "markdown",
   "id": "aboriginal-flood",
   "metadata": {},
   "source": [
    "### run BO until budget exhaust"
   ]
  },
  {
   "cell_type": "code",
   "execution_count": null,
   "id": "jewish-graduate",
   "metadata": {
    "scrolled": false
   },
   "outputs": [],
   "source": [
    "# run optimizer\n",
    "bo, X_pending, Y_pending_future = pyBO.runBO(\n",
    "                                    obj_callbacks,  \n",
    "                                    bounds=obj.decision_bounds,\n",
    "                                    n_init=n_init,\n",
    "                                    x0 = obj.x0,\n",
    "                                    budget = budget,\n",
    "                                    batch_size=1,\n",
    "#                                     timeout = 2+objFuncs._global_machineIO._fetch_data_time_span,\n",
    "                                    path=\"./log/\",\n",
    "                                    tag=fname+'_pyBO_history',\n",
    "                                    write_log = False)\n",
    "for f in callbacks:\n",
    "    f.close()"
   ]
  },
  {
   "cell_type": "code",
   "execution_count": null,
   "id": "narrative-shareware",
   "metadata": {
    "scrolled": false
   },
   "outputs": [],
   "source": [
    "# # uncomment and run if more iteration needed\n",
    "# X_pending, Y_pending_future= bo.loop( \n",
    "#                                 n_loop=4,  # number of additional optimization interation\n",
    "#                                 func_obj = obj_callbacks,\n",
    "#                                 X_pending = X_pending, \n",
    "#                                 Y_pending_future = Y_pending_future,\n",
    "#                                 batch_size = 1,\n",
    "#                                 write_log = False,\n",
    "#                                 )\n",
    "# for f in callbacks:\n",
    "#     f.close()"
   ]
  },
  {
   "cell_type": "markdown",
   "id": "acknowledged-upper",
   "metadata": {},
   "source": [
    "### Fine Tune near current best"
   ]
  },
  {
   "cell_type": "code",
   "execution_count": null,
   "id": "grateful-airplane",
   "metadata": {},
   "outputs": [],
   "source": [
    "# local optimization near the best_solution\n",
    "for i in range(3):\n",
    "    x_best,y_best = bo.best_sofar()\n",
    "    bounds_best = np.array([(x-0.1*AQ,x+0.1*AQ) for x in x_best])   \n",
    "    acquisition_func_args = {'beta':0.1}\n",
    "\n",
    "    X_pending, Y_pending_future= bo.loop( \n",
    "                                    n_loop=2,  # number of additional optimization interation\n",
    "                                    func_obj = obj_callbacks,\n",
    "                                    bounds = bounds_best,\n",
    "                                    acquisition_func_args = acquisition_func_args,\n",
    "                                    X_pending = X_pending, \n",
    "                                    Y_pending_future = Y_pending_future,\n",
    "                                    batch_size = 1,\n",
    "                                    write_log = False,\n",
    "                                    )\n",
    "for f in callbacks:\n",
    "    f.close()"
   ]
  },
  {
   "cell_type": "code",
   "execution_count": null,
   "id": "basic-sacrifice",
   "metadata": {},
   "outputs": [],
   "source": [
    "ax = bo.plot_obj_history()\n",
    "ax.vlines(n_init,*ax.get_ylim(),color='k')"
   ]
  },
  {
   "cell_type": "markdown",
   "id": "numerical-desire",
   "metadata": {},
   "source": [
    "### set to best solution "
   ]
  },
  {
   "cell_type": "code",
   "execution_count": null,
   "id": "whole-watershed",
   "metadata": {},
   "outputs": [],
   "source": [
    "x_best,y_best_old = bo.best_sofar()\n",
    "y_best_new = obj(x_best)\n",
    "print(x_best,y_best_old[0],y_best_new)   # check if best solution objective value is consistent"
   ]
  },
  {
   "cell_type": "code",
   "execution_count": null,
   "id": "wrapped-sterling",
   "metadata": {},
   "outputs": [],
   "source": [
    "obj.write_log(fname=os.path.join('./log',fname))"
   ]
  },
  {
   "cell_type": "code",
   "execution_count": null,
   "id": "737b516b",
   "metadata": {},
   "outputs": [],
   "source": [
    "now1 = datetime.datetime.now()\n",
    "now1str = now1.strftime('%Y%m%d_%H%M')\n",
    "time_delta = now1 - now0\n",
    "print(\"time took:\",str(time_delta.total_seconds()/60)[:4],'min')"
   ]
  },
  {
   "cell_type": "markdown",
   "id": "assumed-bidder",
   "metadata": {},
   "source": [
    "# change objective goal/norm/weights. \n",
    "##### Note that if an objective weight were zero previously, that objective cannot be added.\n",
    "objFunc does not read nor record data corresponding to the zero weight"
   ]
  },
  {
   "cell_type": "code",
   "execution_count": null,
   "id": "experienced-magic",
   "metadata": {},
   "outputs": [],
   "source": [
    "# objective_weight = { \n",
    "#     'FE_MEBT:BPM_D1056:XPOS_RD' : 0.5,     \n",
    "#     'FE_MEBT:BPM_D1056:YPOS_RD' : 0.5,     \n",
    "#     'FE_MEBT:BPM_D1056:PHASE_RD': 1., \n",
    "#     'FE_MEBT:BPM_D1056:MAG_RD'  : 0., \n",
    "#     'FE_MEBT:BPM_D1072:XPOS_RD' : 0.,     \n",
    "#     'FE_MEBT:BPM_D1072:YPOS_RD' : 0.,     \n",
    "#     'FE_MEBT:BPM_D1072:PHASE_RD': 0., \n",
    "#     'FE_MEBT:BPM_D1072:MAG_RD'  : 0., \n",
    "#     'FE_MEBT:BPM_D1094:XPOS_RD' : 0.0,     \n",
    "#     'FE_MEBT:BPM_D1094:YPOS_RD' : 0.0,     \n",
    "#     'FE_MEBT:BPM_D1094:PHASE_RD': 0.0,\n",
    "#     'FE_MEBT:BPM_D1094:MAG_RD'  : 0,\n",
    "#     'FE_MEBT:BCM_D1055:AVGPK_RD/FE_LEBT:BCM_D0989:AVGPK_RD': 3,\n",
    "#     'FE_MEBT:FC_D1102:PKAVG_RD': 3.,\n",
    "#     }\n",
    "\n",
    "# obj.update_objective(objective_weight=objective_weight)\n",
    "\n",
    "# x = np.array(obj.history['decision_CSETs']['values'][:-1])\n",
    "# y = np.array(obj.history['objectives']['total'])[:-1,None]\n",
    "# bo.update_model(x=x,y=y)\n",
    "\n",
    "# x_best,y_best = bo.best_sofar()\n",
    "# print(x_best, y_best)"
   ]
  },
  {
   "cell_type": "code",
   "execution_count": null,
   "id": "organized-moses",
   "metadata": {},
   "outputs": [],
   "source": [
    "# acquisition_func_args = {'beta':9.}\n",
    "# X_pending, Y_pending_future= bo.loop( \n",
    "#                             n_loop=10,  # number of additional optimization interation\n",
    "#                             func_obj = obj_callbacks,\n",
    "#                             bounds = obj.decision_bounds,\n",
    "#                             acquisition_func_args = acquisition_func_args,\n",
    "#                             X_pending = X_pending, \n",
    "#                             Y_pending_future = Y_pending_future,\n",
    "#                             batch_size = 1,\n",
    "#                             write_log = False,\n",
    "#                             )\n",
    "# for f in callbacks:\n",
    "#     f.close()"
   ]
  },
  {
   "cell_type": "code",
   "execution_count": null,
   "id": "demographic-palmer",
   "metadata": {},
   "outputs": [],
   "source": [
    "# # local optimization near the best_solution\n",
    "# x_best,y_best = bo.best_sofar()\n",
    "# bounds_best = np.array([(x-0.1*AQ,x+0.1*AQ) for x in x_best])   \n",
    "# acquisition_func_args = {'beta':0.4}\n",
    "\n",
    "# X_pending, Y_pending_future= bo.loop( \n",
    "#                                 n_loop=4,  # number of additional optimization interation\n",
    "#                                 func_obj = obj_callbacks,\n",
    "#                                 bounds = bounds_best,\n",
    "#                                 acquisition_func_args = acquisition_func_args,\n",
    "#                                 X_pending = X_pending, \n",
    "#                                 Y_pending_future = Y_pending_future,\n",
    "#                                 batch_size = 1,\n",
    "#                                 write_log = False,\n",
    "#                                 )\n",
    "# for f in callbacks:\n",
    "#     f.close()"
   ]
  },
  {
   "cell_type": "code",
   "execution_count": null,
   "id": "occupational-riverside",
   "metadata": {},
   "outputs": [],
   "source": [
    "# ax = bo.plot_obj_history()\n",
    "# ax.vlines(n_init,*ax.get_ylim(),color='k')"
   ]
  },
  {
   "cell_type": "code",
   "execution_count": null,
   "id": "detailed-insulation",
   "metadata": {},
   "outputs": [],
   "source": [
    "# # set to best solution \n",
    "# x_best,y_best_old = bo.best_sofar()\n",
    "# y_best_new = obj(x_best)\n",
    "# print(x_best,y_best_old[0],y_best_new)   # check if best solution objective value is consistent"
   ]
  },
  {
   "cell_type": "code",
   "execution_count": null,
   "id": "dressed-taiwan",
   "metadata": {},
   "outputs": [],
   "source": [
    "# obj.write_log(fname=os.path.join('./log',fname))"
   ]
  },
  {
   "cell_type": "markdown",
   "id": "played-montgomery",
   "metadata": {},
   "source": [
    "# Visualize Surrogate model"
   ]
  },
  {
   "cell_type": "code",
   "execution_count": null,
   "id": "palestinian-newman",
   "metadata": {},
   "outputs": [],
   "source": [
    "# fixed_values_for_each_dim = {2:x_best[2],3:x_best[3]}  # fix values to visualize high dim surrogate model\n",
    "fixed_values_for_each_dim = None                         # do not fix values but project maximum. Can take long time to plot\n",
    "batch_size = 1"
   ]
  },
  {
   "cell_type": "code",
   "execution_count": null,
   "id": "tamil-directive",
   "metadata": {},
   "outputs": [],
   "source": [
    "# plot surrogate mean model of the last epoch. Can take long time for decision dim >= 4\n",
    "\n",
    "t0 = time.monotonic()\n",
    "from math import ceil\n",
    "nplot = int(0.5*len(obj.decision_CSETs))\n",
    "nrow = ceil(0.5*nplot)\n",
    "fig,ax = plt.subplots(nrow,2,figsize=(8,3*nrow))\n",
    "for i in range(nrow):\n",
    "    for j in range(2):\n",
    "        n = 2*i+j\n",
    "        if nrow>1:\n",
    "            ax_ = ax[i,j]\n",
    "        else:\n",
    "            ax_ = ax[j]\n",
    "        if n >= nplot:\n",
    "            ax_.set_visible(False)\n",
    "            break\n",
    "        bo.plot_model_2D_projection(project_maximum=True,\n",
    "                                    dim_xaxis = 2*n,\n",
    "                                    dim_yaxis = 2*n+1,\n",
    "                                    grid_ponits_each_dim = 16,\n",
    "                                    fixed_values_for_each_dim=fixed_values_for_each_dim,\n",
    "                                            fig=fig,ax=ax_);\n",
    "        ax_.scatter(obj.x0[2*n],obj.x0[2*n+1],color='k',label='initial')\n",
    "        ax_.scatter(x_best[2*n],x_best[2*n+1],color='r',label='optimum')\n",
    "        ax_.set_xlabel(obj.decision_CSETs[2*n  ])\n",
    "        ax_.set_ylabel(obj.decision_CSETs[2*n+1])\n",
    "        ax_.legend()\n",
    "fig.tight_layout()\n",
    "\n",
    "    \n",
    "print('time took: ',time.monotonic()-t0)"
   ]
  },
  {
   "cell_type": "code",
   "execution_count": null,
   "id": "copyrighted-allen",
   "metadata": {},
   "outputs": [],
   "source": [
    "obj.x0"
   ]
  },
  {
   "cell_type": "code",
   "execution_count": null,
   "id": "monetary-catch",
   "metadata": {},
   "outputs": [],
   "source": [
    "x_best"
   ]
  },
  {
   "cell_type": "code",
   "execution_count": null,
   "id": "animated-windsor",
   "metadata": {},
   "outputs": [],
   "source": [
    "# obj(obj.x0)"
   ]
  },
  {
   "cell_type": "code",
   "execution_count": null,
   "id": "civil-manhattan",
   "metadata": {},
   "outputs": [],
   "source": [
    "# obj(x_best)"
   ]
  },
  {
   "cell_type": "code",
   "execution_count": null,
   "id": "proved-palestine",
   "metadata": {},
   "outputs": [],
   "source": []
  }
 ],
 "metadata": {
  "kernelspec": {
   "display_name": "Python 3 (ipykernel)",
   "language": "python",
   "name": "python3"
  },
  "language_info": {
   "codemirror_mode": {
    "name": "ipython",
    "version": 3
   },
   "file_extension": ".py",
   "mimetype": "text/x-python",
   "name": "python",
   "nbconvert_exporter": "python",
   "pygments_lexer": "ipython3",
   "version": "3.11.2"
  }
 },
 "nbformat": 4,
 "nbformat_minor": 5
}
