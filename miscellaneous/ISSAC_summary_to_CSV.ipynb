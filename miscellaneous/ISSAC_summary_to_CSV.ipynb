{
 "cells": [
  {
   "cell_type": "code",
   "execution_count": 1,
   "id": "ddcc4fd1",
   "metadata": {},
   "outputs": [],
   "source": [
    "import pandas as pd\n",
    "import json"
   ]
  },
  {
   "cell_type": "code",
   "execution_count": 2,
   "id": "acf88cae",
   "metadata": {},
   "outputs": [],
   "source": [
    "data =json.load(open(\"summary_20231013_125725.json\",'r'))"
   ]
  },
  {
   "cell_type": "code",
   "execution_count": 3,
   "id": "b5ea3cf8",
   "metadata": {},
   "outputs": [
    {
     "data": {
      "text/plain": [
       "dict_keys(['putPVvall', 'getPVvall', 'res_monitorl'])"
      ]
     },
     "execution_count": 3,
     "metadata": {},
     "output_type": "execute_result"
    }
   ],
   "source": [
    "scan_data = data['scan_data']\n",
    "scan_data[0].keys()"
   ]
  },
  {
   "cell_type": "code",
   "execution_count": 4,
   "id": "c28007ae",
   "metadata": {},
   "outputs": [
    {
     "data": {
      "text/plain": [
       "{'name': 'FE_LEBT:PM_D0783',\n",
       " 'file': './/FE_LEBT_PM_D0783_20231013_113934.dat',\n",
       " 'coord': 'Luvx',\n",
       " 'sum1': 34.01806060419108,\n",
       " 'sum2': 34.31367282079661,\n",
       " 'sum3': 49.2908065665499,\n",
       " 'cen1': 10.68625311575087,\n",
       " 'cen2': 0.10552463016348956,\n",
       " 'cen3': 7.205496887448874,\n",
       " 'cen01': -81.28374688424913,\n",
       " 'cen02': -82.89447536983651,\n",
       " 'cen03': -199.70549688744887,\n",
       " 'rms1': 5.651356602090513,\n",
       " 'rms2': 5.745035307551085,\n",
       " 'rms3': 9.371202689319976,\n",
       " 'r90p1': 8.969091520670013,\n",
       " 'r90p2': 9.481747079819208,\n",
       " 'r90p3': 15.983737569658466,\n",
       " 'r95p1': 10.61601791907794,\n",
       " 'r95p2': 12.461071433233286,\n",
       " 'r95p3': 20.147912686438673,\n",
       " 'xrms': 6.626440969491766,\n",
       " 'yrms': 4.586233989543234,\n",
       " 'urms': 5.651356602090513,\n",
       " 'vrms': 5.745035307551085,\n",
       " 'x90p': 11.302209224211687,\n",
       " 'y90p': 6.527495464874644,\n",
       " 'u90p': 8.969091520670013,\n",
       " 'v90p': 9.481747079819208,\n",
       " 'x95p': 14.246725687335255,\n",
       " 'y95p': 8.06281246911699,\n",
       " 'u95p': 10.61601791907794,\n",
       " 'v95p': 12.461071433233286,\n",
       " 'x99p': 20.257082442289068,\n",
       " 'y99p': 12.945771369410382,\n",
       " 'u99p': 15.84723034211595,\n",
       " 'v99p': 18.077822764554952,\n",
       " 'xcen': 6.288380286493082,\n",
       " 'ycen': 7.630939225194117,\n",
       " 'ucen': 10.68625311575087,\n",
       " 'vcen': 0.10552463016348956,\n",
       " 'cxy': -0.01756473971611337,\n",
       " 'cxy90p': -0.06410647010466398,\n",
       " 'cxy95p': -0.18533540094100817,\n",
       " 'cxy99p': -0.144279933878853,\n",
       " 'sig1': 'none',\n",
       " 'pos1': 'none',\n",
       " 'sig2': 'none',\n",
       " 'pos2': 'none',\n",
       " 'sig3': 'none',\n",
       " 'pos3': 'none'}"
      ]
     },
     "execution_count": 4,
     "metadata": {},
     "output_type": "execute_result"
    }
   ],
   "source": [
    "scan_data[0]['res_monitorl'][0]"
   ]
  },
  {
   "cell_type": "code",
   "execution_count": 5,
   "id": "d515a62a",
   "metadata": {},
   "outputs": [
    {
     "data": {
      "text/plain": [
       "{'FE_LEBT:PSQ2_D0770:V_CSET': 1718.182, 'FE_LEBT:PSQ2_D0776:V_CSET': -2290.909}"
      ]
     },
     "execution_count": 5,
     "metadata": {},
     "output_type": "execute_result"
    }
   ],
   "source": [
    "scan_data[0]['putPVvall']"
   ]
  },
  {
   "cell_type": "code",
   "execution_count": 6,
   "id": "20fd6c96",
   "metadata": {},
   "outputs": [
    {
     "data": {
      "text/plain": [
       "[1718.182, -2290.909]"
      ]
     },
     "execution_count": 6,
     "metadata": {},
     "output_type": "execute_result"
    }
   ],
   "source": [
    "list(scan_data[0]['putPVvall'].values())"
   ]
  },
  {
   "cell_type": "code",
   "execution_count": 7,
   "id": "675044ef",
   "metadata": {},
   "outputs": [],
   "source": [
    "data = []\n",
    "PVs = list(scan_data[0]['putPVvall'].keys())\n",
    "RDs = ['xrms','yrms','urms','vrms','cxy']\n",
    "\n",
    "for i in range(len(scan_data)):\n",
    "    sd = scan_data[i]\n",
    "    pvval = list(sd['putPVvall'].values())\n",
    "    rdval = [sd['res_monitorl'][0][c] for c in RDs] \n",
    "    data.append(pvval + rdval)"
   ]
  },
  {
   "cell_type": "code",
   "execution_count": 8,
   "id": "998b3fad",
   "metadata": {},
   "outputs": [],
   "source": [
    "pd.DataFrame(data,columns=PVs+RDs).to_csv('ISSACsummary.csv',index = False)"
   ]
  },
  {
   "cell_type": "code",
   "execution_count": 9,
   "id": "fcc9eea3",
   "metadata": {},
   "outputs": [
    {
     "data": {
      "text/html": [
       "<div>\n",
       "<style scoped>\n",
       "    .dataframe tbody tr th:only-of-type {\n",
       "        vertical-align: middle;\n",
       "    }\n",
       "\n",
       "    .dataframe tbody tr th {\n",
       "        vertical-align: top;\n",
       "    }\n",
       "\n",
       "    .dataframe thead th {\n",
       "        text-align: right;\n",
       "    }\n",
       "</style>\n",
       "<table border=\"1\" class=\"dataframe\">\n",
       "  <thead>\n",
       "    <tr style=\"text-align: right;\">\n",
       "      <th></th>\n",
       "      <th>FE_LEBT:PSQ2_D0770:V_CSET</th>\n",
       "      <th>FE_LEBT:PSQ2_D0776:V_CSET</th>\n",
       "      <th>xrms</th>\n",
       "      <th>yrms</th>\n",
       "      <th>urms</th>\n",
       "      <th>vrms</th>\n",
       "      <th>cxy</th>\n",
       "    </tr>\n",
       "  </thead>\n",
       "  <tbody>\n",
       "    <tr>\n",
       "      <th>0</th>\n",
       "      <td>1718.1820</td>\n",
       "      <td>-2290.90900</td>\n",
       "      <td>6.626441</td>\n",
       "      <td>4.586234</td>\n",
       "      <td>5.651357</td>\n",
       "      <td>5.745035</td>\n",
       "      <td>-0.017565</td>\n",
       "    </tr>\n",
       "    <tr>\n",
       "      <th>1</th>\n",
       "      <td>2004.5000</td>\n",
       "      <td>-2290.90900</td>\n",
       "      <td>5.690840</td>\n",
       "      <td>4.730627</td>\n",
       "      <td>5.782045</td>\n",
       "      <td>4.618706</td>\n",
       "      <td>0.224722</td>\n",
       "    </tr>\n",
       "    <tr>\n",
       "      <th>2</th>\n",
       "      <td>2290.9000</td>\n",
       "      <td>-2290.90900</td>\n",
       "      <td>5.791979</td>\n",
       "      <td>5.018804</td>\n",
       "      <td>6.373774</td>\n",
       "      <td>4.255634</td>\n",
       "      <td>0.387263</td>\n",
       "    </tr>\n",
       "    <tr>\n",
       "      <th>3</th>\n",
       "      <td>2577.3000</td>\n",
       "      <td>-2290.90900</td>\n",
       "      <td>6.687833</td>\n",
       "      <td>5.509555</td>\n",
       "      <td>7.288638</td>\n",
       "      <td>4.685943</td>\n",
       "      <td>0.422914</td>\n",
       "    </tr>\n",
       "    <tr>\n",
       "      <th>4</th>\n",
       "      <td>2863.6000</td>\n",
       "      <td>-2290.90900</td>\n",
       "      <td>7.951947</td>\n",
       "      <td>6.131979</td>\n",
       "      <td>8.374172</td>\n",
       "      <td>5.541468</td>\n",
       "      <td>0.404204</td>\n",
       "    </tr>\n",
       "    <tr>\n",
       "      <th>5</th>\n",
       "      <td>3150.0000</td>\n",
       "      <td>-2290.90900</td>\n",
       "      <td>10.260941</td>\n",
       "      <td>5.037502</td>\n",
       "      <td>9.340122</td>\n",
       "      <td>6.589799</td>\n",
       "      <td>0.423804</td>\n",
       "    </tr>\n",
       "    <tr>\n",
       "      <th>6</th>\n",
       "      <td>3436.4000</td>\n",
       "      <td>-2290.90900</td>\n",
       "      <td>10.735994</td>\n",
       "      <td>7.366287</td>\n",
       "      <td>10.725159</td>\n",
       "      <td>7.382053</td>\n",
       "      <td>0.382720</td>\n",
       "    </tr>\n",
       "    <tr>\n",
       "      <th>7</th>\n",
       "      <td>3722.7000</td>\n",
       "      <td>-2290.90900</td>\n",
       "      <td>11.882791</td>\n",
       "      <td>8.417877</td>\n",
       "      <td>11.690543</td>\n",
       "      <td>8.682890</td>\n",
       "      <td>0.306296</td>\n",
       "    </tr>\n",
       "    <tr>\n",
       "      <th>8</th>\n",
       "      <td>2290.9000</td>\n",
       "      <td>-2290.90900</td>\n",
       "      <td>5.779868</td>\n",
       "      <td>5.190310</td>\n",
       "      <td>6.526552</td>\n",
       "      <td>4.213111</td>\n",
       "      <td>0.414102</td>\n",
       "    </tr>\n",
       "    <tr>\n",
       "      <th>9</th>\n",
       "      <td>2290.9000</td>\n",
       "      <td>-2577.30000</td>\n",
       "      <td>6.082231</td>\n",
       "      <td>3.286220</td>\n",
       "      <td>5.367175</td>\n",
       "      <td>4.357316</td>\n",
       "      <td>0.245662</td>\n",
       "    </tr>\n",
       "    <tr>\n",
       "      <th>10</th>\n",
       "      <td>2290.9000</td>\n",
       "      <td>-2863.60000</td>\n",
       "      <td>6.405135</td>\n",
       "      <td>2.596830</td>\n",
       "      <td>4.554586</td>\n",
       "      <td>5.198560</td>\n",
       "      <td>-0.188804</td>\n",
       "    </tr>\n",
       "    <tr>\n",
       "      <th>11</th>\n",
       "      <td>2290.9000</td>\n",
       "      <td>-3150.00000</td>\n",
       "      <td>6.735257</td>\n",
       "      <td>3.505645</td>\n",
       "      <td>4.106534</td>\n",
       "      <td>6.386675</td>\n",
       "      <td>-0.506662</td>\n",
       "    </tr>\n",
       "    <tr>\n",
       "      <th>12</th>\n",
       "      <td>2290.9000</td>\n",
       "      <td>-3436.40000</td>\n",
       "      <td>7.100380</td>\n",
       "      <td>5.285962</td>\n",
       "      <td>4.139060</td>\n",
       "      <td>7.824639</td>\n",
       "      <td>-0.587402</td>\n",
       "    </tr>\n",
       "    <tr>\n",
       "      <th>13</th>\n",
       "      <td>2290.9000</td>\n",
       "      <td>-3722.36300</td>\n",
       "      <td>7.513350</td>\n",
       "      <td>7.270712</td>\n",
       "      <td>4.634434</td>\n",
       "      <td>9.372071</td>\n",
       "      <td>-0.607367</td>\n",
       "    </tr>\n",
       "    <tr>\n",
       "      <th>14</th>\n",
       "      <td>1547.9457</td>\n",
       "      <td>-2001.93553</td>\n",
       "      <td>6.246517</td>\n",
       "      <td>5.862692</td>\n",
       "      <td>6.088586</td>\n",
       "      <td>6.026545</td>\n",
       "      <td>0.010262</td>\n",
       "    </tr>\n",
       "  </tbody>\n",
       "</table>\n",
       "</div>"
      ],
      "text/plain": [
       "    FE_LEBT:PSQ2_D0770:V_CSET  FE_LEBT:PSQ2_D0776:V_CSET       xrms      yrms  \\\n",
       "0                   1718.1820                -2290.90900   6.626441  4.586234   \n",
       "1                   2004.5000                -2290.90900   5.690840  4.730627   \n",
       "2                   2290.9000                -2290.90900   5.791979  5.018804   \n",
       "3                   2577.3000                -2290.90900   6.687833  5.509555   \n",
       "4                   2863.6000                -2290.90900   7.951947  6.131979   \n",
       "5                   3150.0000                -2290.90900  10.260941  5.037502   \n",
       "6                   3436.4000                -2290.90900  10.735994  7.366287   \n",
       "7                   3722.7000                -2290.90900  11.882791  8.417877   \n",
       "8                   2290.9000                -2290.90900   5.779868  5.190310   \n",
       "9                   2290.9000                -2577.30000   6.082231  3.286220   \n",
       "10                  2290.9000                -2863.60000   6.405135  2.596830   \n",
       "11                  2290.9000                -3150.00000   6.735257  3.505645   \n",
       "12                  2290.9000                -3436.40000   7.100380  5.285962   \n",
       "13                  2290.9000                -3722.36300   7.513350  7.270712   \n",
       "14                  1547.9457                -2001.93553   6.246517  5.862692   \n",
       "\n",
       "         urms      vrms       cxy  \n",
       "0    5.651357  5.745035 -0.017565  \n",
       "1    5.782045  4.618706  0.224722  \n",
       "2    6.373774  4.255634  0.387263  \n",
       "3    7.288638  4.685943  0.422914  \n",
       "4    8.374172  5.541468  0.404204  \n",
       "5    9.340122  6.589799  0.423804  \n",
       "6   10.725159  7.382053  0.382720  \n",
       "7   11.690543  8.682890  0.306296  \n",
       "8    6.526552  4.213111  0.414102  \n",
       "9    5.367175  4.357316  0.245662  \n",
       "10   4.554586  5.198560 -0.188804  \n",
       "11   4.106534  6.386675 -0.506662  \n",
       "12   4.139060  7.824639 -0.587402  \n",
       "13   4.634434  9.372071 -0.607367  \n",
       "14   6.088586  6.026545  0.010262  "
      ]
     },
     "execution_count": 9,
     "metadata": {},
     "output_type": "execute_result"
    }
   ],
   "source": [
    "pd.DataFrame(data,columns=PVs+RDs)"
   ]
  },
  {
   "cell_type": "code",
   "execution_count": null,
   "id": "5dc178e5",
   "metadata": {},
   "outputs": [],
   "source": []
  }
 ],
 "metadata": {
  "kernelspec": {
   "display_name": "Python 3 (ipykernel)",
   "language": "python",
   "name": "python3"
  },
  "language_info": {
   "codemirror_mode": {
    "name": "ipython",
    "version": 3
   },
   "file_extension": ".py",
   "mimetype": "text/x-python",
   "name": "python",
   "nbconvert_exporter": "python",
   "pygments_lexer": "ipython3",
   "version": "3.11.2"
  }
 },
 "nbformat": 4,
 "nbformat_minor": 5
}
