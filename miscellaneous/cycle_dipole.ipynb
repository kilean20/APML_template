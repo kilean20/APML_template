{
 "cells": [
  {
   "cell_type": "code",
   "execution_count": 3,
   "id": "rocky-galaxy",
   "metadata": {},
   "outputs": [],
   "source": [
    "# artemis two dipoles\n",
    "from epics import caget, caput\n",
    "# from phantasy import ensure_set, fetch_data"
   ]
  },
  {
   "cell_type": "code",
   "execution_count": null,
   "id": "discrete-lesbian",
   "metadata": {},
   "outputs": [],
   "source": [
    "def cycle(PVs, Imax, time_span=70):\n",
    "    Inow = [caget(pv) for pv in PVs]\n",
    "    for pv,imax in zip(PVs,Imax):\n",
    "        caput(pv,imax)\n",
    "    time.sleep(time_span)\n",
    "    for pv,inow in zip(PVs,Inow):\n",
    "        caput(pv,inow)"
   ]
  },
  {
   "cell_type": "markdown",
   "id": "directed-entry",
   "metadata": {},
   "source": [
    "### ARTEMIS two dipoles"
   ]
  },
  {
   "cell_type": "code",
   "execution_count": 4,
   "id": "respiratory-glucose",
   "metadata": {},
   "outputs": [],
   "source": [
    "PVs = ['FE_SCS1:PSD_D0717:I_CSET','FE_LEBT:PSD_D0759:I_CSET'] \n",
    "Imax = [200, 200]"
   ]
  },
  {
   "cell_type": "code",
   "execution_count": null,
   "id": "brown-literature",
   "metadata": {},
   "outputs": [],
   "source": [
    "cycle(PVs,Imax)"
   ]
  }
 ],
 "metadata": {
  "kernelspec": {
   "display_name": "Python 3",
   "language": "python",
   "name": "python3"
  },
  "language_info": {
   "codemirror_mode": {
    "name": "ipython",
    "version": 3
   },
   "file_extension": ".py",
   "mimetype": "text/x-python",
   "name": "python",
   "nbconvert_exporter": "python",
   "pygments_lexer": "ipython3",
   "version": "3.9.2"
  }
 },
 "nbformat": 4,
 "nbformat_minor": 5
}
