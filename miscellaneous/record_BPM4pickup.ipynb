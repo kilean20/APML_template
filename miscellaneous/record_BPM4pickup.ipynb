{
 "cells": [
  {
   "cell_type": "code",
   "execution_count": 1,
   "id": "1c63615b",
   "metadata": {},
   "outputs": [],
   "source": [
    "from epics import caget\n",
    "from BPM_export import read_all_BPM\n",
    "import datetime"
   ]
  },
  {
   "cell_type": "code",
   "execution_count": 2,
   "id": "4430f3d0",
   "metadata": {},
   "outputs": [
    {
     "name": "stdout",
     "output_type": "stream",
     "text": [
      "SCS2 18O7 A/Q= 2.5714285714285716\n"
     ]
    }
   ],
   "source": [
    "SCS = caget(\"ACS_DIAG:DEST:ACTIVE_ION_SOURCE\")\n",
    "ion = caget(\"FE_ISRC\"+str(SCS)+\":BEAM:ELMT_BOOK\")\n",
    "Q = caget(\"FE_ISRC\"+str(SCS)+\":BEAM:Q_BOOK\")\n",
    "A = caget(\"FE_ISRC\"+str(SCS)+\":BEAM:A_BOOK\")\n",
    "# AQ = caget(\"FE_ISRC2:BEAM:MOVRQ_BOOK\")\n",
    "AQ = A/Q\n",
    "ion = str(A)+ion+str(Q)\n",
    "print('SCS'+str(SCS), ion, 'A/Q=',AQ)"
   ]
  },
  {
   "cell_type": "code",
   "execution_count": 3,
   "id": "536fe1ca",
   "metadata": {},
   "outputs": [
    {
     "data": {
      "text/plain": [
       "'20240212_1752_18O7_BPM_4PickUp.pkl'"
      ]
     },
     "execution_count": 3,
     "metadata": {},
     "output_type": "execute_result"
    }
   ],
   "source": [
    "now0 = datetime.datetime.now()\n",
    "now0str = now0.strftime('%Y%m%d_%H%M')\n",
    "fname = now0str+'_'+ion+'_BPM_4PickUp.pkl'\n",
    "fname"
   ]
  },
  {
   "cell_type": "code",
   "execution_count": 4,
   "id": "821eb790",
   "metadata": {},
   "outputs": [
    {
     "name": "stderr",
     "output_type": "stream",
     "text": [
      "warning: Dropping of nuisance columns in DataFrame reductions (with 'numeric_only=None') is deprecated; in a future version this will raise TypeError.  Select only valid columns before calling the reduction.\n"
     ]
    }
   ],
   "source": [
    "ave,std,raw = read_all_BPM(time_span = 5)\n",
    "raw.to_pickle(fname)"
   ]
  },
  {
   "cell_type": "code",
   "execution_count": null,
   "id": "4e220100",
   "metadata": {},
   "outputs": [],
   "source": []
  },
  {
   "cell_type": "code",
   "execution_count": null,
   "id": "0fb8b292",
   "metadata": {},
   "outputs": [],
   "source": []
  }
 ],
 "metadata": {
  "kernelspec": {
   "display_name": "Python 3 (ipykernel)",
   "language": "python",
   "name": "python3"
  },
  "language_info": {
   "codemirror_mode": {
    "name": "ipython",
    "version": 3
   },
   "file_extension": ".py",
   "mimetype": "text/x-python",
   "name": "python",
   "nbconvert_exporter": "python",
   "pygments_lexer": "ipython3",
   "version": "3.11.2"
  }
 },
 "nbformat": 4,
 "nbformat_minor": 5
}
