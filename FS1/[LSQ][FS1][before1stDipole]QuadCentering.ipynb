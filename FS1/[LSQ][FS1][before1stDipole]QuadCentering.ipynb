{
 "cells": [
  {
   "cell_type": "code",
   "execution_count": null,
   "id": "baf323f3",
   "metadata": {},
   "outputs": [],
   "source": [
    "# !pip install -e /files/shared/ap/jupyter-notebook/pkgs/objFuncs --break-system-packages\n",
    "# !pip install -e /files/shared/ap/jupyter-notebook/pkgs/pyBO --break-system-packages"
   ]
  },
  {
   "cell_type": "code",
   "execution_count": null,
   "id": "822c83e7",
   "metadata": {},
   "outputs": [],
   "source": [
    "# !pip install -e /files/shared/ap/jupyter-notebook/pkgs/objFuncs\n",
    "# !pip install -e /files/shared/ap/jupyter-notebook/pkgs/pyBO"
   ]
  },
  {
   "cell_type": "code",
   "execution_count": null,
   "id": "d34dea84",
   "metadata": {},
   "outputs": [],
   "source": [
    "import os\n",
    "import numpy as np\n",
    "import pandas as pd\n",
    "import matplotlib.pyplot as plt\n",
    "import time\n",
    "import datetime\n",
    "from phantasy import caget"
   ]
  },
  {
   "cell_type": "code",
   "execution_count": null,
   "id": "e930ee3e",
   "metadata": {},
   "outputs": [],
   "source": [
    "import objFuncs\n",
    "from objFuncs import residuals\n",
    "from objFuncs.util import plot_obj_history, plot_multi_obj_history"
   ]
  },
  {
   "cell_type": "markdown",
   "id": "extreme-horizon",
   "metadata": {},
   "source": [
    "# check machineIO, source and beam "
   ]
  },
  {
   "cell_type": "code",
   "execution_count": null,
   "id": "sublime-karen",
   "metadata": {},
   "outputs": [],
   "source": [
    "objFuncs._global_machineIO._test = False\n",
    "objFuncs._ensure_set_timeout = 60\n",
    "objFuncs._global_machineIO._fetch_data_time_span = 3.0\n",
    "objFuncs._global_machineIO._ensure_set_timewait_after_ramp : 0.25\n",
    "objFuncs._global_machineIO.view()"
   ]
  },
  {
   "cell_type": "code",
   "execution_count": null,
   "id": "polyphonic-hamburg",
   "metadata": {},
   "outputs": [],
   "source": [
    "SCS = caget(\"ACS_DIAG:DEST:ACTIVE_ION_SOURCE\")\n",
    "ion = caget(\"FE_ISRC\"+str(SCS)+\":BEAM:ELMT_BOOK\")\n",
    "# Q = caget(\"FE_ISRC\"+str(SCS)+\":BEAM:Q_BOOK\")\n",
    "Q = caget(\"ACC_OPS:BEAM:Q_STRIP\")\n",
    "A = caget(\"FE_ISRC\"+str(SCS)+\":BEAM:A_BOOK\")\n",
    "# AQ = caget(\"FE_ISRC2:BEAM:MOVRQ_BOOK\")\n",
    "AQ = A/Q\n",
    "ion = str(A)+ion+str(Q)\n",
    "print(ion, 'A/Q=',AQ)"
   ]
  },
  {
   "cell_type": "markdown",
   "id": "earlier-victoria",
   "metadata": {},
   "source": [
    "# preprare objective (for residual construction)"
   ]
  },
  {
   "cell_type": "code",
   "execution_count": null,
   "id": "professional-compound",
   "metadata": {},
   "outputs": [],
   "source": [
    "now0 = datetime.datetime.now()\n",
    "fname = now0.strftime('%Y%m%d_%H%M')+'['+ion+'][LSQ][FS1][before1stDipole]QuadCentering'\n",
    "fname"
   ]
  },
  {
   "cell_type": "code",
   "execution_count": null,
   "id": "hybrid-combination",
   "metadata": {},
   "outputs": [],
   "source": [
    "decision_CSETs=[\n",
    "#     'FS1_CSS:PSC2_D2276:I_CSET',\n",
    "#     'FS1_CSS:PSC1_D2276:I_CSET',\n",
    "    'FS1_CSS:PSC2_D2351:I_CSET',\n",
    "    'FS1_CSS:PSC1_D2351:I_CSET',\n",
    "    'FS1_CSS:PSC2_D2367:I_CSET',\n",
    "    'FS1_CSS:PSC1_D2367:I_CSET'\n",
    "]\n",
    "decision_min = [-2*AQ]*len(decision_CSETs)\n",
    "decision_max = [ 2*AQ]*len(decision_CSETs)\n",
    "\n",
    "print(f'decision_min: {decision_min}')\n",
    "print(f'decision_max: {decision_max}')"
   ]
  },
  {
   "cell_type": "code",
   "execution_count": null,
   "id": "b091e337",
   "metadata": {},
   "outputs": [],
   "source": [
    "objective_goal = { \n",
    "    'FS1_BBS:BPM_D2421:XPOS_RD' : 0.0,\n",
    "    'FS1_BBS:BPM_D2421:YPOS_RD' : 0.0,\n",
    "    'FS1_BBS:BPM_D2466:XPOS_RD' : 0.0,\n",
    "    'FS1_BBS:BPM_D2466:YPOS_RD' : 0.0,\n",
    "    'FS1_BMS:BPM_D2502:XPOS_RD' : 0.0,\n",
    "    'FS1_BMS:BPM_D2502:YPOS_RD' : 0.0,\n",
    "}\n",
    "objective_norm = {pv:1.0 for pv in objective_goal.keys()}\n",
    "objective_weight = {pv:1.0 for pv in objective_goal.keys()}\n",
    "objective_RDs = list(objective_goal.keys())"
   ]
  },
  {
   "cell_type": "code",
   "execution_count": null,
   "id": "intensive-purpose",
   "metadata": {},
   "outputs": [],
   "source": [
    "conditional_SETs = {\n",
    "#     'FS1_CSS:PSQ_D2356:I_CSET':[],\n",
    "#     'FS1_CSS:PSQ_D2362:I_CSET':[],\n",
    "    'FS1_CSS:PSQ_D2372:I_CSET':[],\n",
    "    'FS1_CSS:PSQ_D2377:I_CSET':[],\n",
    "}"
   ]
  },
  {
   "cell_type": "code",
   "execution_count": null,
   "id": "211ef17c",
   "metadata": {},
   "outputs": [],
   "source": [
    "# 3-point Q-scan\n",
    "# for i,PV in enumerate(conditional_SETs.keys()):\n",
    "#     x0 = caget(PV)\n",
    "#     conditional_SETs[PV] = [x0]*(2*len(conditional_SETs)+1)\n",
    "#     conditional_SETs[PV][2*i+1] = x0 - 5*AQ\n",
    "#     conditional_SETs[PV][2*i+2] = x0 + 5*AQ"
   ]
  },
  {
   "cell_type": "code",
   "execution_count": null,
   "id": "30a1e0fc",
   "metadata": {},
   "outputs": [],
   "source": [
    "# 2-point Q-scan\n",
    "for i,PV in enumerate(conditional_SETs.keys()):\n",
    "    x0 = caget(PV)\n",
    "    conditional_SETs[PV] = [x0]*(len(conditional_SETs)+1)\n",
    "    conditional_SETs[PV][i+1] = x0 + 10*AQ"
   ]
  },
  {
   "cell_type": "code",
   "execution_count": null,
   "id": "de53850c",
   "metadata": {},
   "outputs": [],
   "source": [
    "n_condition = len(list(conditional_SETs.values())[0])\n",
    "conditional_SETs"
   ]
  },
  {
   "cell_type": "code",
   "execution_count": null,
   "id": "working-debate",
   "metadata": {
    "scrolled": false
   },
   "outputs": [],
   "source": [
    "res = residuals.residualObjMultiConditionalVar(  \n",
    "    decision_CSETs = decision_CSETs,\n",
    "    decision_min = decision_min,\n",
    "    decision_max =  decision_max,\n",
    "    objective_goal = objective_goal,\n",
    "    objective_norm = objective_norm,\n",
    "    objective_weight = objective_weight,\n",
    "    conditional_SETs = conditional_SETs,\n",
    "    var_obj_weight_fraction = 1.0,\n",
    "    )"
   ]
  },
  {
   "cell_type": "code",
   "execution_count": null,
   "id": "generic-witness",
   "metadata": {},
   "outputs": [],
   "source": [
    "plot_decision = plot_obj_history(\n",
    "    res.history['decision_CSETs'],\n",
    "    title='decision_CSETs',\n",
    ")\n",
    "plot_conditions_RDs = plot_multi_obj_history(\n",
    "    histories = [res.history['condition'+str(i)]['objective_RDs'] for i in range(n_condition)],\n",
    "    history_labels = ['C'+str(i) for i in range(n_condition)],\n",
    "    title='multi-condition_obj_RDs',\n",
    ")\n",
    "plot_objectives_var = plot_obj_history(\n",
    "    res.history['objectives_var'],\n",
    "    title='objectives_var',\n",
    ")\n",
    "plot_cond_control = plot_obj_history(\n",
    "    res.history['condition controller']['decision_CSETs'],\n",
    "    title='condition controller',\n",
    ")\n",
    "callbacks = [plot_decision,plot_conditions_RDs,plot_objectives_var,plot_cond_control]\n",
    "# callbacks = []"
   ]
  },
  {
   "cell_type": "code",
   "execution_count": null,
   "id": "finished-official",
   "metadata": {
    "scrolled": false
   },
   "outputs": [],
   "source": [
    "result = res.lsq_linear(jac_use3points=True,callbacks=callbacks)\n",
    "res.condition_controller._set_decision(res.condition_controller.x0)\n",
    "for f in callbacks:\n",
    "    f.close()"
   ]
  },
  {
   "cell_type": "code",
   "execution_count": null,
   "id": "27096487",
   "metadata": {},
   "outputs": [],
   "source": [
    "objectives_var_hist = [np.sum(res.history['objectives_var']['values'][i]**2) for i in range(len(res.history['objectives_var']['values']))]\n",
    "imin = np.argmin(objectives_var_hist)\n",
    "x_best = res.history['decision_CSETs']['values'][imin]\n",
    "res(x_best)"
   ]
  },
  {
   "cell_type": "code",
   "execution_count": null,
   "id": "0bb410fe",
   "metadata": {},
   "outputs": [],
   "source": [
    "res.condition_controller._set_decision(res.condition_controller.x0)\n",
    "res.write_log(fname=os.path.join('./log',fname))"
   ]
  },
  {
   "cell_type": "code",
   "execution_count": null,
   "id": "29757fe9",
   "metadata": {},
   "outputs": [],
   "source": [
    "objectives_var_hist"
   ]
  }
 ],
 "metadata": {
  "kernelspec": {
   "display_name": "Python 3 (ipykernel)",
   "language": "python",
   "name": "python3"
  },
  "language_info": {
   "codemirror_mode": {
    "name": "ipython",
    "version": 3
   },
   "file_extension": ".py",
   "mimetype": "text/x-python",
   "name": "python",
   "nbconvert_exporter": "python",
   "pygments_lexer": "ipython3",
   "version": "3.11.2"
  }
 },
 "nbformat": 4,
 "nbformat_minor": 5
}
