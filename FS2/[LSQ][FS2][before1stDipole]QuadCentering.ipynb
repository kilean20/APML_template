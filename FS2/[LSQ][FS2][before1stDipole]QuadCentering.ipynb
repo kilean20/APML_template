{
 "cells": [
  {
   "cell_type": "code",
   "execution_count": null,
   "id": "baf323f3",
   "metadata": {},
   "outputs": [],
   "source": [
    "# !pip install -e /files/shared/ap/jupyter-notebook/pkgs/objFuncs --break-system-packages\n",
    "# !pip install -e /files/shared/ap/jupyter-notebook/pkgs/pyBO --break-system-packages"
   ]
  },
  {
   "cell_type": "code",
   "execution_count": null,
   "id": "822c83e7",
   "metadata": {},
   "outputs": [],
   "source": [
    "# !pip install -e /files/shared/ap/jupyter-notebook/pkgs/objFuncs\n",
    "# !pip install -e /files/shared/ap/jupyter-notebook/pkgs/pyBO"
   ]
  },
  {
   "cell_type": "code",
   "execution_count": null,
   "id": "cd5be174",
   "metadata": {},
   "outputs": [],
   "source": [
    "# !pip install -e ../../objFuncs\n",
    "# !pip install -e ../../pyBO"
   ]
  },
  {
   "cell_type": "code",
   "execution_count": 3,
   "id": "constant-health",
   "metadata": {},
   "outputs": [],
   "source": [
    "import IPython\n",
    "import os"
   ]
  },
  {
   "cell_type": "code",
   "execution_count": 4,
   "id": "d34dea84",
   "metadata": {},
   "outputs": [],
   "source": [
    "import numpy as np\n",
    "import pandas as pd\n",
    "import matplotlib.pyplot as plt\n",
    "import time\n",
    "import datetime\n",
    "from phantasy import caget"
   ]
  },
  {
   "cell_type": "code",
   "execution_count": 5,
   "id": "e930ee3e",
   "metadata": {},
   "outputs": [],
   "source": [
    "import objFuncs\n",
    "from objFuncs import residuals\n",
    "from objFuncs.util import plot_obj_history\n",
    "from objFuncs import flame_utils_kilean as flame_utils"
   ]
  },
  {
   "cell_type": "markdown",
   "id": "extreme-horizon",
   "metadata": {},
   "source": [
    "# check machineIO, source and beam "
   ]
  },
  {
   "cell_type": "code",
   "execution_count": null,
   "id": "sublime-karen",
   "metadata": {},
   "outputs": [],
   "source": [
    "objFuncs._global_machineIO._test = False\n",
    "objFuncs._global_machineIO._fetch_data_time_span = 2.05\n",
    "objFuncs._global_machineIO._ensure_set_timewait_after_ramp : 0.25\n",
    "objFuncs._global_machineIO.view()"
   ]
  },
  {
   "cell_type": "code",
   "execution_count": 8,
   "id": "polyphonic-hamburg",
   "metadata": {},
   "outputs": [
    {
     "name": "stdout",
     "output_type": "stream",
     "text": [
      "SCS1 16O8 A/Q= 2.0\n"
     ]
    }
   ],
   "source": [
    "SCS = caget(\"ACS_DIAG:DEST:ACTIVE_ION_SOURCE\")\n",
    "ion = caget(\"FE_ISRC\"+str(SCS)+\":BEAM:ELMT_BOOK\")\n",
    "Q = caget(\"FE_ISRC\"+str(SCS)+\":BEAM:Q_BOOK\")\n",
    "A = caget(\"FE_ISRC\"+str(SCS)+\":BEAM:A_BOOK\")\n",
    "# AQ = caget(\"FE_ISRC2:BEAM:MOVRQ_BOOK\")\n",
    "AQ = A/Q\n",
    "ion = str(A)+ion+str(Q)\n",
    "print('SCS'+str(SCS), ion, 'A/Q=',AQ)"
   ]
  },
  {
   "cell_type": "markdown",
   "id": "earlier-victoria",
   "metadata": {},
   "source": [
    "# preprare objective (for residual construction)"
   ]
  },
  {
   "cell_type": "code",
   "execution_count": 9,
   "id": "local-innocent",
   "metadata": {},
   "outputs": [
    {
     "data": {
      "application/javascript": [
       "IPython.notebook.kernel.execute('nb_name = \"' + IPython.notebook.notebook_name + '\"')\n"
      ],
      "text/plain": [
       "<IPython.core.display.Javascript object>"
      ]
     },
     "metadata": {},
     "output_type": "display_data"
    }
   ],
   "source": [
    "%%javascript\n",
    "IPython.notebook.kernel.execute('nb_name = \"' + IPython.notebook.notebook_name + '\"')"
   ]
  },
  {
   "cell_type": "code",
   "execution_count": 10,
   "id": "professional-compound",
   "metadata": {},
   "outputs": [
    {
     "data": {
      "text/plain": [
       "'20231215_1002[16O8][LSQ][FS2][before1stDipole]QuadCentering'"
      ]
     },
     "execution_count": 10,
     "metadata": {},
     "output_type": "execute_result"
    }
   ],
   "source": [
    "now0str = datetime.datetime.now().strftime('%Y%m%d_%H%M')\n",
    "fname = now0str+'['+ion+']'+nb_name.strip('.ipynb')\n",
    "fname"
   ]
  },
  {
   "cell_type": "code",
   "execution_count": null,
   "id": "hybrid-combination",
   "metadata": {},
   "outputs": [],
   "source": [
    "decision_CSETs=[\n",
    "    'FS2_BTS:PSC2_D3930:I_CSET',\n",
    "    'FS2_BTS:PSC2_D3945:I_CSET',\n",
    "]\n",
    "decision_min = [-5*AQ]\n",
    "decision_max = [ 5*AQ]\n",
    "\n",
    "print(f'decision_min: {decision_min}')\n",
    "print(f'decision_max: {decision_max}')"
   ]
  },
  {
   "cell_type": "code",
   "execution_count": null,
   "id": "b091e337",
   "metadata": {},
   "outputs": [],
   "source": [
    "objective_goal = { \n",
    "    'FS2_BTS:BPM_D4006:XPOS_RD' : 0.0,\n",
    "    'FS2_BMS:BPM_D4142:XPOS_RD' : 0.0,\n",
    "}\n",
    "objective_norm = {pv:1.0 for pv in objective_goal.keys()}\n",
    "objective_weight = {pv:1.0 for pv in objective_goal.keys()}\n",
    "objective_RDs = list(objective_goal.keys())"
   ]
  },
  {
   "cell_type": "code",
   "execution_count": null,
   "id": "intensive-purpose",
   "metadata": {},
   "outputs": [],
   "source": [
    "conditional_SETs = {\n",
    "#     'FS2_BTS:PSQ_D3934:I_CSET':[80,100, 80],\n",
    "#     'FS2_BTS:PSQ_D3940:I_CSET':[80, 80,100],\n",
    "    'FS2_BTS:PSQ_D3950:I_CSET':[80, 80,100],\n",
    "    'FS2_BTS:PSQ_D3955:I_CSET':[80, 80,100],\n",
    "}"
   ]
  },
  {
   "cell_type": "code",
   "execution_count": null,
   "id": "working-debate",
   "metadata": {
    "scrolled": false
   },
   "outputs": [],
   "source": [
    "res = residuals.residualObjMultiConditionalVar(  \n",
    "    decision_CSETs = decision_CSETs,\n",
    "    decision_min = decision_min,\n",
    "    decision_max =  decision_max,\n",
    "    objective_goal = objective_goal,\n",
    "    objective_norm = objective_norm,\n",
    "    objective_weight = objective_weight,\n",
    "    conditional_SETs = conditional_SETs,\n",
    "    var_obj_weight_fraction = 0.9,\n",
    "    )"
   ]
  },
  {
   "cell_type": "code",
   "execution_count": null,
   "id": "generic-witness",
   "metadata": {},
   "outputs": [],
   "source": [
    "plot_decision = plot_obj_history(\n",
    "    res.history['decision_CSETs'],\n",
    "    title='decision_CSETs',\n",
    ")\n",
    "plot_conditions_RDs = plot_multi_obj_history(\n",
    "    histories = [res.history['condition'+str(i)]['objective_RDs'] for i in range(n_condition)],\n",
    "    history_labels = ['C'+str(i) for i in range(n_condition)],\n",
    "    title='multi-condition_obj_RDs',\n",
    ")\n",
    "plot_objectives_var = plot_obj_history(\n",
    "    res.history['objectives_var'],\n",
    "    title='objectives_var',\n",
    ")\n",
    "callbacks = [plot_decision,plot_conditions_RDs,plot_objectives_var]\n",
    "# callbacks = []"
   ]
  },
  {
   "cell_type": "code",
   "execution_count": null,
   "id": "finished-official",
   "metadata": {
    "scrolled": false
   },
   "outputs": [],
   "source": [
    "result = res.lsq_linear(jac_use3points=False,callbacks=callbacks)\n",
    "for f in callbacks:\n",
    "    f.close()"
   ]
  },
  {
   "cell_type": "code",
   "execution_count": null,
   "id": "further-intelligence",
   "metadata": {},
   "outputs": [],
   "source": [
    "for name, val in zip(res.history['jacobian_var']['names'], res.history['jacobian_var']['values'][0]):\n",
    "    print( name, val )"
   ]
  },
  {
   "cell_type": "code",
   "execution_count": null,
   "id": "czech-chorus",
   "metadata": {},
   "outputs": [],
   "source": [
    "obj.write_log(fname=os.path.join('./log',fname))"
   ]
  }
 ],
 "metadata": {
  "kernelspec": {
   "display_name": "Python 3",
   "language": "python",
   "name": "python3"
  },
  "language_info": {
   "codemirror_mode": {
    "name": "ipython",
    "version": 3
   },
   "file_extension": ".py",
   "mimetype": "text/x-python",
   "name": "python",
   "nbconvert_exporter": "python",
   "pygments_lexer": "ipython3",
   "version": "3.9.2"
  }
 },
 "nbformat": 4,
 "nbformat_minor": 5
}
