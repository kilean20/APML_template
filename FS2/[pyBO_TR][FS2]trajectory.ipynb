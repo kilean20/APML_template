{
 "cells": [
  {
   "cell_type": "code",
   "execution_count": 11,
   "id": "desperate-violation",
   "metadata": {},
   "outputs": [],
   "source": [
    "# ! pip install -e /files/shared/ap/jupyter-notebook/pkgs/objFuncs\n",
    "# ! pip install -e /files/shared/ap/jupyter-notebook/pkgs/pyBO"
   ]
  },
  {
   "cell_type": "markdown",
   "id": "japanese-deadline",
   "metadata": {},
   "source": [
    " # please re-start kernel if these packages are installed for the first time"
   ]
  },
  {
   "cell_type": "code",
   "execution_count": 12,
   "id": "small-matter",
   "metadata": {},
   "outputs": [],
   "source": [
    "import numpy as np\n",
    "import os\n",
    "import matplotlib.pyplot as plt\n",
    "import time\n",
    "import datetime\n",
    "import concurrent\n",
    "from phantasy import caget,fetch_data"
   ]
  },
  {
   "cell_type": "code",
   "execution_count": 13,
   "id": "statewide-penalty",
   "metadata": {},
   "outputs": [],
   "source": [
    "import objFuncs\n",
    "from objFuncs import objFuncGoals\n",
    "from objFuncs.util import plot_obj_history\n",
    "from pyBO import pyBO"
   ]
  },
  {
   "cell_type": "code",
   "execution_count": 14,
   "id": "7ef420e4",
   "metadata": {},
   "outputs": [],
   "source": [
    "# increase budget a little more (+20?) if need +1~2% more beam\n",
    "budget = 50\n",
    "is_close_to_opt = True\n",
    "if not is_close_to_opt:\n",
    "    budget += 15"
   ]
  },
  {
   "cell_type": "markdown",
   "id": "reported-separation",
   "metadata": {},
   "source": [
    "# check objFuncs machineIO, source and beam  "
   ]
  },
  {
   "cell_type": "code",
   "execution_count": 15,
   "id": "north-stereo",
   "metadata": {},
   "outputs": [
    {
     "name": "stdout",
     "output_type": "stream",
     "text": [
      "   _test : False\n",
      "   _ensure_set_timeout : 30\n",
      "   _ensure_set_timewait_after_ramp : 0.25\n",
      "   _fetch_data_time_span : 4\n",
      "   _return_obj_var : False\n",
      "   _check_chopper_blocking : True\n",
      "   _n_popup_ramping_not_OK : 0\n",
      "   _verbose : False\n"
     ]
    }
   ],
   "source": [
    "objFuncs._global_machineIO._test = False\n",
    "objFuncs._global_machineIO._fetch_data_time_span = 4\n",
    "objFuncs._global_machineIO._ensure_set_timewait_after_ramp : 0.25\n",
    "objFuncs._global_machineIO.view()"
   ]
  },
  {
   "cell_type": "code",
   "execution_count": 16,
   "id": "diagnostic-parallel",
   "metadata": {},
   "outputs": [
    {
     "name": "stdout",
     "output_type": "stream",
     "text": [
      "SCS2 18O7 A/Q= 2.5714285714285716\n"
     ]
    }
   ],
   "source": [
    "SCS = caget(\"ACS_DIAG:DEST:ACTIVE_ION_SOURCE\")\n",
    "ion = caget(\"FE_ISRC\"+str(SCS)+\":BEAM:ELMT_BOOK\")\n",
    "Q = caget(\"FE_ISRC\"+str(SCS)+\":BEAM:Q_BOOK\")\n",
    "A = caget(\"FE_ISRC\"+str(SCS)+\":BEAM:A_BOOK\")\n",
    "# AQ = caget(\"FE_ISRC2:BEAM:MOVRQ_BOOK\")\n",
    "AQ = A/Q\n",
    "ion = str(A)+ion+str(Q)\n",
    "print('SCS'+str(SCS), ion, 'A/Q=',AQ)"
   ]
  },
  {
   "cell_type": "code",
   "execution_count": 17,
   "id": "3fa6d30b",
   "metadata": {},
   "outputs": [
    {
     "data": {
      "text/plain": [
       "'20240210_1551[18O7][pyBO_TR][FS2]trajectory'"
      ]
     },
     "execution_count": 17,
     "metadata": {},
     "output_type": "execute_result"
    }
   ],
   "source": [
    "now0 = datetime.datetime.now()\n",
    "now0str = now0.strftime('%Y%m%d_%H%M')\n",
    "fname = now0str+'['+ion+'][pyBO_TR][FS2]trajectory'\n",
    "fname"
   ]
  },
  {
   "cell_type": "markdown",
   "id": "municipal-richards",
   "metadata": {},
   "source": [
    "# preprare objective"
   ]
  },
  {
   "cell_type": "code",
   "execution_count": 18,
   "id": "loving-brazilian",
   "metadata": {},
   "outputs": [
    {
     "name": "stdout",
     "output_type": "stream",
     "text": [
      "decision_min : [-2.0, -113.4971812799999, -114.06222912000004, -114.10431311999997, -114.48707712000008]\n",
      "decision_max : [2.0, -113.04409871999988, -113.60689088000004, -113.64880687999997, -114.03004288000007]\n",
      "decision_tols: [0.3, 0.04, 0.04, 0.04, 0.04]\n"
     ]
    }
   ],
   "source": [
    "decision_CSETs = [\n",
    "                  'FS2_BTS:PSC2_D3962:I_CSET',\n",
    "                  'FS2_BBS:PSD_D3979:I_CSET',\n",
    "                  'FS2_BBS:PSD_D4034:I_CSET',\n",
    "                  'FS2_BBS:PSD_D4072:I_CSET',\n",
    "                  'FS2_BBS:PSD_D4127:I_CSET',\n",
    "                  ]\n",
    "decision_min = []\n",
    "decision_max = []\n",
    "decision_tols = []\n",
    "\n",
    "for pv in decision_CSETs:\n",
    "    x0 = caget(pv)\n",
    "    if x0 is None:\n",
    "        raise ValueError(f'pv: {pv} is not connected')\n",
    "    if \"PSD\" in pv:\n",
    "        if x0<0.0:\n",
    "            decision_min.append(x0*(1+0.002))\n",
    "            decision_max.append(x0*(1-0.002))\n",
    "        else:\n",
    "            decision_min.append(x0*(1-0.002))\n",
    "            decision_max.append(x0*(1+0.002))\n",
    "        decision_tols.append(0.04)    \n",
    "    elif \"PSC\" in pv:\n",
    "        decision_min.append(-2.0)\n",
    "        decision_max.append( 2.0)\n",
    "        decision_tols.append(0.2)\n",
    "    else:\n",
    "        raise ValueError(f'cannot auto-determine bounds of pv: {pv}')\n",
    "            \n",
    "print(f'decision_min : {decision_min}')\n",
    "print(f'decision_max : {decision_max}')\n",
    "print(f'decision_tols: {decision_tols}')"
   ]
  },
  {
   "cell_type": "code",
   "execution_count": null,
   "id": "beginning-robin",
   "metadata": {
    "scrolled": false
   },
   "outputs": [],
   "source": [
    "obj = objFuncGoals(\n",
    "    decision_CSETs=decision_CSETs,\n",
    "    decision_min = decision_min,\n",
    "    decision_max = decision_max,\n",
    "    decision_tols= decision_tols,\n",
    "    objective_goal   = {\n",
    "                        'FS2_BBS:BPM_D4019:XPOS_RD': 0,\n",
    "                        'FS2_BBS:BPM_D4054:XPOS_RD': 0,\n",
    "                        'FS2_BBS:BPM_D4087:XPOS_RD': 0,\n",
    "                        'FS2_BMS:BPM_D4142:XPOS_RD': 0,\n",
    "                        'FS2_BMS:BPM_D4164:XPOS_RD': 0,\n",
    "                        'FS2_BMS:BPM_D4177:XPOS_RD': 0,\n",
    "                        },\n",
    "    objective_weight = {\n",
    "                        'FS2_BBS:BPM_D4019:XPOS_RD': 1.0,\n",
    "                        'FS2_BBS:BPM_D4054:XPOS_RD': 1.0,\n",
    "                        'FS2_BBS:BPM_D4087:XPOS_RD': 1.0,\n",
    "                        'FS2_BMS:BPM_D4142:XPOS_RD': 1.0,\n",
    "                        'FS2_BMS:BPM_D4164:XPOS_RD': 1.0,\n",
    "                        'FS2_BMS:BPM_D4177:XPOS_RD': 1.0,\n",
    "                        },\n",
    "    objective_norm   = {\n",
    "                        'FS2_BBS:BPM_D4019:XPOS_RD': 2,\n",
    "                        'FS2_BBS:BPM_D4054:XPOS_RD': 2,\n",
    "                        'FS2_BBS:BPM_D4087:XPOS_RD': 2,\n",
    "                        'FS2_BMS:BPM_D4142:XPOS_RD': 1,\n",
    "                        'FS2_BMS:BPM_D4164:XPOS_RD': 1,\n",
    "                        'FS2_BMS:BPM_D4177:XPOS_RD': 1,\n",
    "                        },\n",
    "    objective_fill_none_by_init = True,\n",
    ")"
   ]
  },
  {
   "cell_type": "markdown",
   "id": "departmental-tennis",
   "metadata": {},
   "source": [
    " # Prepare plot callbacks"
   ]
  },
  {
   "cell_type": "code",
   "execution_count": null,
   "id": "changed-sandwich",
   "metadata": {},
   "outputs": [],
   "source": [
    "# define what to plot\n",
    "plot_CSETs = plot_obj_history(\n",
    "                obj.history['decision_CSETs'],\n",
    "                title = 'decision_CSETs',\n",
    "                inline = True,\n",
    "                )\n",
    "plot_RDs = plot_obj_history(\n",
    "                obj.history['objective_RDs'],\n",
    "                title = 'objective_RDs',\n",
    "                inline = True,\n",
    "                )\n",
    "plot_objs = plot_obj_history(\n",
    "            obj.history['objectives'],\n",
    "            title = 'objectives',\n",
    "            inline = True,\n",
    "            )\n",
    "callbacks = [plot_CSETs,plot_RDs,plot_objs]\n",
    "\n",
    "# evaluate objective and plot\n",
    "def obj_callbacks(x):\n",
    "    return obj(x,callbacks=callbacks)"
   ]
  },
  {
   "cell_type": "markdown",
   "id": "public-connection",
   "metadata": {},
   "source": [
    "# Run TR-BO"
   ]
  },
  {
   "cell_type": "code",
   "execution_count": null,
   "id": "hybrid-prototype",
   "metadata": {
    "scrolled": false
   },
   "outputs": [],
   "source": [
    "# run optimizer\n",
    "bounds_diff = obj.decision_bounds[:,1] - obj.decision_bounds[:,0]\n",
    "if is_close_to_opt:\n",
    "    bounds = np.array(list(zip(obj.x0-0.075*bounds_diff, obj.x0+0.075*bounds_diff)))\n",
    "    n_init = len(obj.x0)\n",
    "else:\n",
    "    bounds = obj.decision_bounds\n",
    "    n_init = min(max(int(budget/4) , 2*len(obj.x0)) , budget)\n",
    "    \n",
    "print(bounds)\n",
    "bo, X_pending, Y_pending_future = pyBO.runBO(\n",
    "                                    obj_callbacks,  \n",
    "                                    bounds = bounds,\n",
    "                                    n_init = n_init,\n",
    "                                    x0 = obj.x0,\n",
    "                                    budget = n_init+1,\n",
    "                                    batch_size=1,\n",
    "                                    path=\"./log/\",\n",
    "                                    tag=fname+'_pyBO_history',\n",
    "                                    write_log = False)\n",
    "beta = 9\n",
    "for i in range(budget-n_init-3):\n",
    "    x_best,y_best = bo.best_sofar()\n",
    "    # if all FC reading data is below 0.5 uA do the global search.\n",
    "    if np.max(obj.history['objective_RDs']['values'])<0.5 and not is_close_to_opt:\n",
    "        bounds = obj.decision_bounds\n",
    "    else:\n",
    "        bounds = np.array(list(zip(x_best-0.05*bounds_diff, x_best+0.05*bounds_diff)))\n",
    "        beta *= 0.9\n",
    "    print(bounds)    \n",
    "    acquisition_func_args = {'beta':max(beta,1)}\n",
    "    X_pending, Y_pending_future= bo.loop( \n",
    "                                    n_loop=1,  # number of additional optimization interation\n",
    "                                    func_obj = obj_callbacks,\n",
    "                                    bounds = bounds,\n",
    "                                    acquisition_func_args = acquisition_func_args,\n",
    "                                    X_pending = X_pending, \n",
    "                                    Y_pending_future = Y_pending_future,\n",
    "                                    batch_size = 1,\n",
    "                                    write_log = False,\n",
    "                                    )\n",
    "\n",
    "for i in range(2):\n",
    "    x_best,y_best = bo.best_sofar()\n",
    "    bounds = np.array(list(zip(x_best-0.05*bounds_diff, x_best+0.05*bounds_diff)))\n",
    "    acquisition_func_args = {'beta':0.01}\n",
    "    X_pending, Y_pending_future= bo.loop( \n",
    "                                    n_loop=1,  # number of additional optimization interation\n",
    "                                    func_obj = obj_callbacks,\n",
    "                                    bounds = bounds,\n",
    "                                    acquisition_func_args = acquisition_func_args,\n",
    "                                    X_pending = X_pending, \n",
    "                                    Y_pending_future = Y_pending_future,\n",
    "                                    batch_size = 1,\n",
    "                                    write_log = False,\n",
    "                                    polarity_change_time = 0,\n",
    "                                    )\n",
    "for f in callbacks:\n",
    "    f.close()"
   ]
  },
  {
   "cell_type": "code",
   "execution_count": null,
   "id": "basic-sacrifice",
   "metadata": {},
   "outputs": [],
   "source": [
    "ax = bo.plot_obj_history()"
   ]
  },
  {
   "cell_type": "code",
   "execution_count": null,
   "id": "scheduled-funds",
   "metadata": {},
   "outputs": [],
   "source": [
    "# set to best solution \n",
    "x_best,y_best_old = bo.best_sofar()\n",
    "y_best_new = obj(x_best)\n",
    "print(x_best,y_best_old[0],y_best_new)   # check if best solution objective value is consistent"
   ]
  },
  {
   "cell_type": "code",
   "execution_count": null,
   "id": "waiting-discovery",
   "metadata": {},
   "outputs": [],
   "source": [
    "if not objFuncs._global_machineIO._test:\n",
    "    obj.write_log(fname=os.path.join('/files/shared/ap/jupyter-notebook/data/objFuncs_log/',fname))"
   ]
  },
  {
   "cell_type": "code",
   "execution_count": null,
   "id": "e05e7e48",
   "metadata": {},
   "outputs": [],
   "source": [
    "now1 = datetime.datetime.now()\n",
    "now1str = str(now1)[:str(now1).rfind(':')].replace(' ','_').replace(':','').replace('-','')\n",
    "time_delta = now1 - now0\n",
    "print(\"time took:\",str(time_delta.total_seconds()/60)[:4],'min')"
   ]
  },
  {
   "cell_type": "markdown",
   "id": "hundred-writing",
   "metadata": {},
   "source": [
    "# Visualize Surrogate model"
   ]
  },
  {
   "cell_type": "code",
   "execution_count": null,
   "id": "metallic-frank",
   "metadata": {},
   "outputs": [],
   "source": [
    "# fixed_values_for_each_dim = {2:x_best[2],3:x_best[3]}  # fix values to visualize high dim surrogate model\n",
    "fixed_values_for_each_dim = None                         # do not fix values but project maximum. Can take long time to plot\n",
    "batch_size = 1"
   ]
  },
  {
   "cell_type": "code",
   "execution_count": null,
   "id": "environmental-bernard",
   "metadata": {},
   "outputs": [],
   "source": [
    "# # plot acuquisition functions for the first 4 epochs. Can take long time for decision dim >= 4\n",
    "# for epoch in range(4):   \n",
    "#     fig,ax = plt.subplots(1,batch_size,figsize=(4*batch_size,3))\n",
    "#     if batch_size ==1:\n",
    "#         ax = [ax]\n",
    "#     for i in range(batch_size):\n",
    "#         bo.plot_acquisition_2D_projection(project_maximum=True,\n",
    "#                                           epoch=epoch,\n",
    "#                                           i_query=i,\n",
    "#                                           grid_ponits_each_dim = 16,\n",
    "#                                           fixed_values_for_each_dim=fixed_values_for_each_dim,\n",
    "#                                           fig=fig,ax=ax[i],);\n",
    "#         ax[i].legend()\n",
    "#         ax[i].set_xlabel(obj.decision_CSETs[0])\n",
    "#         ax[i].set_ylabel(obj.decision_CSETs[1])\n",
    "#     fig.tight_layout()"
   ]
  },
  {
   "cell_type": "code",
   "execution_count": null,
   "id": "julian-mountain",
   "metadata": {},
   "outputs": [],
   "source": [
    "# # plot acuquisition functions for the last 4 epochs. Can take long time for decision dim >= 4\n",
    "# for epoch in range(-6,-2):\n",
    "#     fig,ax = plt.subplots(1,batch_size,figsize=(4*batch_size,3))\n",
    "#     if batch_size ==1:\n",
    "#         ax = [ax]\n",
    "#     for i in range(batch_size):\n",
    "#         bo.plot_acquisition_2D_projection(project_maximum=True,\n",
    "#                                           epoch=epoch,\n",
    "#                                           i_query=i,\n",
    "#                                           grid_ponits_each_dim = 16,\n",
    "#                                           fixed_values_for_each_dim=fixed_values_for_each_dim,\n",
    "#                                           fig=fig,ax=ax[i],);\n",
    "#         ax[i].legend()\n",
    "#         ax[i].set_xlabel(obj.decision_CSETs[0])\n",
    "#         ax[i].set_ylabel(obj.decision_CSETs[1])\n",
    "#     fig.tight_layout()"
   ]
  },
  {
   "cell_type": "code",
   "execution_count": null,
   "id": "graphic-analyst",
   "metadata": {},
   "outputs": [],
   "source": [
    "# plot surrogate mean model of the last epoch. Can take long time for decision dim >= 4\n",
    "\n",
    "t0 = time.monotonic()\n",
    "from math import ceil\n",
    "nplot = int(0.5*len(obj.decision_CSETs))\n",
    "nrow = ceil(0.5*nplot)\n",
    "fig,ax = plt.subplots(nrow,2,figsize=(8,3*nrow))\n",
    "for i in range(nrow):\n",
    "    for j in range(2):\n",
    "        n = 2*i+j\n",
    "        if nrow>1:\n",
    "            ax_ = ax[i,j]\n",
    "        else:\n",
    "            ax_ = ax[j]\n",
    "        if n >= nplot:\n",
    "            ax_.set_visible(False)\n",
    "            break\n",
    "        bo.plot_model_2D_projection(project_maximum=True,\n",
    "                                    dim_xaxis = 2*n,\n",
    "                                    dim_yaxis = 2*n+1,\n",
    "                                    grid_ponits_each_dim = 16,\n",
    "                                    fixed_values_for_each_dim=fixed_values_for_each_dim,\n",
    "                                            fig=fig,ax=ax_);\n",
    "        ax_.set_xlabel(obj.decision_CSETs[2*n  ])\n",
    "        ax_.set_ylabel(obj.decision_CSETs[2*n+1])\n",
    "        ax_.legend()\n",
    "fig.tight_layout()\n",
    "\n",
    "    \n",
    "print('time took: ',time.monotonic()-t0)"
   ]
  },
  {
   "cell_type": "code",
   "execution_count": null,
   "id": "hollywood-swiss",
   "metadata": {},
   "outputs": [],
   "source": []
  }
 ],
 "metadata": {
  "kernelspec": {
   "display_name": "Python 3 (ipykernel)",
   "language": "python",
   "name": "python3"
  },
  "language_info": {
   "codemirror_mode": {
    "name": "ipython",
    "version": 3
   },
   "file_extension": ".py",
   "mimetype": "text/x-python",
   "name": "python",
   "nbconvert_exporter": "python",
   "pygments_lexer": "ipython3",
   "version": "3.11.2"
  }
 },
 "nbformat": 4,
 "nbformat_minor": 5
}
