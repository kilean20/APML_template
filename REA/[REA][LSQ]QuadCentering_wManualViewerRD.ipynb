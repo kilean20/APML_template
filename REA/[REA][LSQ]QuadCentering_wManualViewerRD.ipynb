{
 "cells": [
  {
   "cell_type": "code",
   "execution_count": 1,
   "id": "cd5be174",
   "metadata": {},
   "outputs": [],
   "source": [
    "# !pip install -e /user/rea3/AP-ReA/jupyter-ML/pkgs/objFuncs\n",
    "# !pip install -e /user/rea3/AP-ReA/jupyter-ML/pkgs/pyBO"
   ]
  },
  {
   "cell_type": "code",
   "execution_count": 2,
   "id": "d34dea84",
   "metadata": {},
   "outputs": [],
   "source": [
    "import numpy as np\n",
    "import pandas as pd\n",
    "import matplotlib.pyplot as plt\n",
    "import time\n",
    "import datetime\n",
    "from phantasy import caget"
   ]
  },
  {
   "cell_type": "code",
   "execution_count": 3,
   "id": "e930ee3e",
   "metadata": {},
   "outputs": [
    {
     "name": "stderr",
     "output_type": "stream",
     "text": [
      "[17:03:38.416] INFO: phantasy.library.operation.core: Load new machine: 'FRIB', segment: 'LINAC'\n",
      "[17:03:38.418] INFO: phantasy.library.parser.config: Importing FRIB from /projects/rea3/data/CrispAnalysis/phantasy-machines/FRIB\n",
      "[17:03:38.419] INFO: phantasy.library.parser.config: Loading machine configuration from /projects/rea3/data/CrispAnalysis/phantasy-machines/FRIB/phantasy.ini\n",
      "[17:03:38.420] INFO: phantasy.library.operation.lattice: Loading segment: 'LINAC'\n",
      "[17:03:38.452] ERROR: phantasy.library.operation.core: Cannot load machine: FRIB segment: LINAC\n"
     ]
    },
    {
     "name": "stdout",
     "output_type": "stream",
     "text": [
      "   _test : False\n",
      "   _ensure_set_timeout : 30\n",
      "   _ensure_set_timewait_after_ramp : 0.25\n",
      "   _fetch_data_time_span : 2.05\n",
      "   _return_obj_var : False\n",
      "   _check_chopper_blocking : False\n"
     ]
    }
   ],
   "source": [
    "import objFuncs\n",
    "from objFuncs import residuals\n",
    "from objFuncs.util import plot_obj_history"
   ]
  },
  {
   "cell_type": "code",
   "execution_count": 4,
   "id": "493da1c2",
   "metadata": {},
   "outputs": [
    {
     "name": "stdout",
     "output_type": "stream",
     "text": [
      "   _test : True\n",
      "   _ensure_set_timeout : 30\n",
      "   _ensure_set_timewait_after_ramp : 0.25\n",
      "   _fetch_data_time_span : 2.05\n",
      "   _return_obj_var : False\n",
      "   _check_chopper_blocking : False\n",
      "   _n_popup_ramping_not_OK : 0\n"
     ]
    }
   ],
   "source": [
    "objFuncs._global_machineIO._test = False\n",
    "objFuncs._global_machineIO._fetch_data_time_span = 2.05\n",
    "objFuncs._global_machineIO._ensure_set_timewait_after_ramp : 0.25\n",
    "# objFuncs._global_machineIO.view()"
   ]
  },
  {
   "cell_type": "code",
   "execution_count": 5,
   "id": "ordered-sunglasses",
   "metadata": {},
   "outputs": [
    {
     "name": "stdout",
     "output_type": "stream",
     "text": [
      "20Ne8 A/Q= 2.5\n"
     ]
    }
   ],
   "source": [
    "ion = caget(\"REA_EXP:ELMT\")\n",
    "Q = int(caget(\"REA_EXP:Q\"))\n",
    "A = int(caget(\"REA_EXP:A\"))\n",
    "# AQ = caget(\"FE_ISRC2:BEAM:MOVRQ_BOOK\")\n",
    "AQ = A/Q\n",
    "ion = str(A)+ion+str(Q)\n",
    "print(ion, 'A/Q=',AQ)"
   ]
  },
  {
   "cell_type": "code",
   "execution_count": null,
   "id": "2639ddbd",
   "metadata": {},
   "outputs": [],
   "source": [
    "%%javascript\n",
    "IPython.notebook.kernel.execute('nb_name = \"' + IPython.notebook.notebook_name + '\"')"
   ]
  },
  {
   "cell_type": "code",
   "execution_count": 6,
   "id": "daily-device",
   "metadata": {},
   "outputs": [
    {
     "data": {
      "text/plain": [
       "'[REA][LSQ]20231208_1703_20Ne8_Qcentering'"
      ]
     },
     "execution_count": 6,
     "metadata": {},
     "output_type": "execute_result"
    }
   ],
   "source": [
    "now0 = datetime.datetime.now()\n",
    "now0str = now0.strftime('%Y%m%d_%H%M')\n",
    "fname = now0str+'['+ion+']'+nb_name.strip('.ipynb')\n",
    "fname"
   ]
  },
  {
   "cell_type": "markdown",
   "id": "bottom-farming",
   "metadata": {},
   "source": [
    "# Decision parameters and range"
   ]
  },
  {
   "cell_type": "code",
   "execution_count": 8,
   "id": "collected-steal",
   "metadata": {},
   "outputs": [],
   "source": [
    "decision_CSETs = ['REA_BTS31:DCH_D1393:I_CSET',\n",
    "                  'REA_BTS31:DCV_D1393:I_CSET',\n",
    "                  'REA_BTS31:DCH_D1423:I_CSET',\n",
    "                  'REA_BTS31:DCV_D1423:I_CSET',\n",
    "                  ]\n",
    "decision_min = [-15*AQ,-135*AQ,-135*AQ,-135*AQ]\n",
    "decision_max = [ 15*AQ, 135*AQ, 135*AQ, 135*AQ]\n",
    "print(decision_min)\n",
    "print(decision_max)"
   ]
  },
  {
   "cell_type": "markdown",
   "id": "digital-horizontal",
   "metadata": {},
   "source": [
    "# Conditions over which the variation of objective will be minimized"
   ]
  },
  {
   "cell_type": "markdown",
   "id": "sapphire-resolution",
   "metadata": {},
   "source": [
    "##### example:\n",
    "The following:\n",
    "\n",
    "    conditional_SETs = {\n",
    "        'Q1:I_CSET':[100,120,100],\n",
    "        'Q2:I_CSET':[100,100,120],\n",
    "    }\n",
    "    \n",
    "means that we will evaluate objectives, (at given decision parameters, x) at 3 different conditions:\n",
    "\n",
    "    Obj1(x) at Q1,Q2=(100,100),\n",
    "    Obj2(x) at Q1,Q2=(120,100), \n",
    "    Obj3(x) at Q1,Q2=(100,120),\n",
    "    \n",
    "Then find root of \"Obj2(x)-Obj1(x)\" and \"Obj3(x)-Obj1(x)\" by deciding the decision paratemers under linear response assumption. In other words, we minimize variation of objectives over different conditions."
   ]
  },
  {
   "cell_type": "code",
   "execution_count": 9,
   "id": "continuous-divorce",
   "metadata": {},
   "outputs": [],
   "source": [
    "conditional_SETs = {\n",
    "    'REA_BTS31:Q_D1431:I_CSET':[100,120,100],\n",
    "    'REA_BTS31:Q_D1435:I_CSET':[100,100,120],\n",
    "}\n",
    "\n",
    "n_condition = None\n",
    "for k,v in conditional_SETs.items():\n",
    "    if not n_condition:\n",
    "        n_condition = len(v) \n",
    "    else:\n",
    "        assert len(v) == n_condition"
   ]
  },
  {
   "cell_type": "code",
   "execution_count": 11,
   "id": "adverse-series",
   "metadata": {},
   "outputs": [],
   "source": [
    "#  the values objective_goal is not meaningful unless \"var_obj_weight_fraction < 1\" \n",
    "#  \"var_obj_weight_fraction\" is used in the \"residualObjMultiConditionalVar\" class instantiation\n",
    "#  \"var_obj_weight_fraction = 1\" will optimize only the variation of objective values over different conditions\n",
    "objective_goal = { \n",
    "        'SOMEWHERE:VIWER:XPOS_RD' : 0.0,     \n",
    "        'SOMEWHERE:VIWER:YPOS_RD' : 0.0, \n",
    "        }\n",
    "#  objective_norm and objective_weight is important as they define the relative importance of each objective\n",
    "objective_norm = { \n",
    "        'SOMEWHERE:VIWER:XPOS_RD' : 1.0,     #(mm)\n",
    "        'SOMEWHERE:VIWER:YPOS_RD' : 1.0,  \n",
    "        }\n",
    "objective_weight = { \n",
    "        'SOMEWHERE:VIWER:XPOS_RD' : 1.0,     #(mm)\n",
    "        'SOMEWHERE:VIWER:YPOS_RD' : 1.0,  \n",
    "        }"
   ]
  },
  {
   "cell_type": "code",
   "execution_count": 12,
   "id": "d9392981",
   "metadata": {
    "scrolled": false
   },
   "outputs": [
    {
     "name": "stderr",
     "output_type": "stream",
     "text": [
      "warning: Initial decision point is out of the decision bounds.\n"
     ]
    },
    {
     "name": "stdout",
     "output_type": "stream",
     "text": [
      "======== class info ========\n",
      "init_time: 2023-12-08 17:03:41.654789\n",
      "class_hierarchy: [\n",
      "    objFuncBase]\n",
      "machineIO: <objFuncs.construct_machineIO.construct_machineIO object at 0x7f63e60b2d00>\n",
      "decision_CSETs: [\n",
      "    REA_BTS30:PSQ_D1221:I_CSET, REA_BTS30:PSQ_D1228:I_CSET]\n",
      "decision_min: [100. 100.]\n",
      "decision_max: [120. 120.]\n",
      "decision_bounds: [[100 120]\n",
      " [100 120]]\n",
      "decision_RDs: [\n",
      "    REA_BTS30:PSQ_D1221:I_RD, REA_BTS30:PSQ_D1228:I_RD]\n",
      "decision_tols: [1. 2.]\n",
      "decision_couplings: None\n",
      "history_buffer_size: None\n",
      "logging_frequency: inf\n",
      "logging_tag: condition_controler\n",
      "logging_fname: None\n",
      "x0: [ 50.50365558 -50.61015153]\n",
      "\n",
      "self._objective_weight_arr [1. 1.]\n",
      "self._objective_weight_arr.mean() 1.0\n",
      "======== class info ========\n",
      "init_time: 2023-12-08 17:03:50.011674\n",
      "class_hierarchy: [\n",
      "    residualObj, objFuncBase]\n",
      "machineIO: <objFuncs.construct_machineIO.construct_machineIO object at 0x7f63e60b2ee0>\n",
      "decision_CSETs: [\n",
      "    REA_BTS25:PSC2_D1172:I_CSET, REA_BTS25:PSC1_D1172:I_CSET, REA_BTS30:PSC2_D1219:I_CSET\n",
      "    REA_BTS30:PSC1_D1219:I_CSET]\n",
      "decision_min: [ -37.5 -337.5 -337.5 -337.5]\n",
      "decision_max: [ 37.5 337.5 337.5 337.5]\n",
      "decision_bounds: [[ -37.5   37.5]\n",
      " [-337.5  337.5]\n",
      " [-337.5  337.5]\n",
      " [-337.5  337.5]]\n",
      "decision_RDs: [\n",
      "    REA_BTS25:PSC2_D1172:I_RD, REA_BTS25:PSC1_D1172:I_RD, REA_BTS30:PSC2_D1219:I_RD\n",
      "    REA_BTS30:PSC1_D1219:I_RD]\n",
      "decision_tols: [2. 2. 2. 2.]\n",
      "decision_couplings: None\n",
      "history_buffer_size: None\n",
      "logging_frequency: inf\n",
      "logging_tag: .residual_condition0\n",
      "logging_fname: None\n",
      "x0: [-22.  20.  -6.  -7.]\n",
      "objective_goal:\n",
      "    SOMEWHERE:VIWER:XPOS_RD: 0.0\n",
      "    SOMEWHERE:VIWER:YPOS_RD: 0.0\n",
      "objective_norm:\n",
      "    SOMEWHERE:VIWER:XPOS_RD: 1.0\n",
      "    SOMEWHERE:VIWER:YPOS_RD: 1.0\n",
      "objective_weight:\n",
      "    SOMEWHERE:VIWER:XPOS_RD: 1.0\n",
      "    SOMEWHERE:VIWER:YPOS_RD: 1.0\n",
      "_objective_weight_arr: [1. 1.]\n",
      "objective_RDs: [\n",
      "    SOMEWHERE:VIWER:XPOS_RD, SOMEWHERE:VIWER:YPOS_RD]\n",
      "\n",
      "self._objective_weight_arr [1. 1.]\n",
      "self._objective_weight_arr.mean() 1.0\n",
      "======== class info ========\n",
      "init_time: 2023-12-08 17:03:59.287744\n",
      "class_hierarchy: [\n",
      "    residualObj, objFuncBase]\n",
      "machineIO: <objFuncs.construct_machineIO.construct_machineIO object at 0x7f63e60b9a00>\n",
      "decision_CSETs: [\n",
      "    REA_BTS25:PSC2_D1172:I_CSET, REA_BTS25:PSC1_D1172:I_CSET, REA_BTS30:PSC2_D1219:I_CSET\n",
      "    REA_BTS30:PSC1_D1219:I_CSET]\n",
      "decision_min: [ -37.5 -337.5 -337.5 -337.5]\n",
      "decision_max: [ 37.5 337.5 337.5 337.5]\n",
      "decision_bounds: [[ -37.5   37.5]\n",
      " [-337.5  337.5]\n",
      " [-337.5  337.5]\n",
      " [-337.5  337.5]]\n",
      "decision_RDs: [\n",
      "    REA_BTS25:PSC2_D1172:I_RD, REA_BTS25:PSC1_D1172:I_RD, REA_BTS30:PSC2_D1219:I_RD\n",
      "    REA_BTS30:PSC1_D1219:I_RD]\n",
      "decision_tols: [2. 2. 2. 2.]\n",
      "decision_couplings: None\n",
      "history_buffer_size: None\n",
      "logging_frequency: inf\n",
      "logging_tag: .residual_condition1\n",
      "logging_fname: None\n",
      "x0: [-22.  20.  -6.  -7.]\n",
      "objective_goal:\n",
      "    SOMEWHERE:VIWER:XPOS_RD: 0.0\n",
      "    SOMEWHERE:VIWER:YPOS_RD: 0.0\n",
      "objective_norm:\n",
      "    SOMEWHERE:VIWER:XPOS_RD: 1.0\n",
      "    SOMEWHERE:VIWER:YPOS_RD: 1.0\n",
      "objective_weight:\n",
      "    SOMEWHERE:VIWER:XPOS_RD: 1.0\n",
      "    SOMEWHERE:VIWER:YPOS_RD: 1.0\n",
      "_objective_weight_arr: [1. 1.]\n",
      "objective_RDs: [\n",
      "    SOMEWHERE:VIWER:XPOS_RD, SOMEWHERE:VIWER:YPOS_RD]\n",
      "\n",
      "self._objective_weight_arr [1. 1.]\n",
      "self._objective_weight_arr.mean() 1.0\n",
      "======== class info ========\n",
      "init_time: 2023-12-08 17:04:08.599693\n",
      "class_hierarchy: [\n",
      "    residualObj, objFuncBase]\n",
      "machineIO: <objFuncs.construct_machineIO.construct_machineIO object at 0x7f63e60bcc70>\n",
      "decision_CSETs: [\n",
      "    REA_BTS25:PSC2_D1172:I_CSET, REA_BTS25:PSC1_D1172:I_CSET, REA_BTS30:PSC2_D1219:I_CSET\n",
      "    REA_BTS30:PSC1_D1219:I_CSET]\n",
      "decision_min: [ -37.5 -337.5 -337.5 -337.5]\n",
      "decision_max: [ 37.5 337.5 337.5 337.5]\n",
      "decision_bounds: [[ -37.5   37.5]\n",
      " [-337.5  337.5]\n",
      " [-337.5  337.5]\n",
      " [-337.5  337.5]]\n",
      "decision_RDs: [\n",
      "    REA_BTS25:PSC2_D1172:I_RD, REA_BTS25:PSC1_D1172:I_RD, REA_BTS30:PSC2_D1219:I_RD\n",
      "    REA_BTS30:PSC1_D1219:I_RD]\n",
      "decision_tols: [2. 2. 2. 2.]\n",
      "decision_couplings: None\n",
      "history_buffer_size: None\n",
      "logging_frequency: inf\n",
      "logging_tag: .residual_condition2\n",
      "logging_fname: None\n",
      "x0: [-22.  20.  -6.  -7.]\n",
      "objective_goal:\n",
      "    SOMEWHERE:VIWER:XPOS_RD: 0.0\n",
      "    SOMEWHERE:VIWER:YPOS_RD: 0.0\n",
      "objective_norm:\n",
      "    SOMEWHERE:VIWER:XPOS_RD: 1.0\n",
      "    SOMEWHERE:VIWER:YPOS_RD: 1.0\n",
      "objective_weight:\n",
      "    SOMEWHERE:VIWER:XPOS_RD: 1.0\n",
      "    SOMEWHERE:VIWER:YPOS_RD: 1.0\n",
      "_objective_weight_arr: [1. 1.]\n",
      "objective_RDs: [\n",
      "    SOMEWHERE:VIWER:XPOS_RD, SOMEWHERE:VIWER:YPOS_RD]\n",
      "\n",
      "======== class info ========\n",
      "init_time: 2023-12-08 17:03:38.573781\n",
      "class_hierarchy: [\n",
      "    residualObjMultiConditionalVar, residualObjMultiConditional, objFuncBase]\n",
      "machineIO: <objFuncs.construct_machineIO.construct_machineIO object at 0x7f63e60b9730>\n",
      "decision_CSETs: [\n",
      "    REA_BTS25:PSC2_D1172:I_CSET, REA_BTS25:PSC1_D1172:I_CSET, REA_BTS30:PSC2_D1219:I_CSET\n",
      "    REA_BTS30:PSC1_D1219:I_CSET]\n",
      "decision_min: [ -37.5 -337.5 -337.5 -337.5]\n",
      "decision_max: [ 37.5 337.5 337.5 337.5]\n",
      "decision_bounds: [[ -37.5   37.5]\n",
      " [-337.5  337.5]\n",
      " [-337.5  337.5]\n",
      " [-337.5  337.5]]\n",
      "decision_RDs: [\n",
      "    REA_BTS25:PSC2_D1172:I_RD, REA_BTS25:PSC1_D1172:I_RD, REA_BTS30:PSC2_D1219:I_RD\n",
      "    REA_BTS30:PSC1_D1219:I_RD]\n",
      "decision_tols: [2. 2. 2. 2.]\n",
      "decision_couplings: None\n",
      "history_buffer_size: None\n",
      "logging_frequency: inf\n",
      "logging_tag: \n",
      "logging_fname: None\n",
      "x0: [-22.  20.  -6.  -7.]\n",
      "n_condition: 3\n",
      "conditional_SETs:\n",
      "    REA_BTS30:PSQ_D1221:I_CSET: [\n",
      "        100, 120, 100]\n",
      "    REA_BTS30:PSQ_D1228:I_CSET: [\n",
      "        100, 100, 120]\n",
      "conditional_control_cost_more: True\n",
      "condition_controller: <objFuncs.objFuncs.objFuncBase object at 0x7f63e6f98d90>\n",
      "n_object: 2\n",
      "each_condition_objective_weights: [0.33333333 0.33333333 0.33333333]\n",
      "residualObj: [\n",
      "    <objFuncs.residuals.residualObj object at 0x7f63e60c1190>, <objFuncs.residuals.residualObj object at 0x7f63e60bcc70>, <objFuncs.residuals.residualObj object at 0x7f63e60bc820>]\n",
      "objective_RDs: [\n",
      "    SOMEWHERE:VIWER:XPOS_RD, SOMEWHERE:VIWER:YPOS_RD]\n",
      "var_obj_weight_fraction: 1\n",
      "\n"
     ]
    }
   ],
   "source": [
    "res = residuals.residualObjMultiConditionalVar(  \n",
    "    decision_CSETs = decision_CSETs,\n",
    "    decision_min   = decision_min,\n",
    "    decision_max   = decision_max,\n",
    "    objective_goal = objective_goal,\n",
    "    objective_norm = objective_norm,\n",
    "    objective_weight = objective_weight,\n",
    "    conditional_SETs = conditional_SETs,\n",
    "    var_obj_weight_fraction = 1,\n",
    "    )"
   ]
  },
  {
   "cell_type": "code",
   "execution_count": 13,
   "id": "b6b16972",
   "metadata": {},
   "outputs": [],
   "source": [
    "plot_decision = plot_obj_history(\n",
    "            res.history['decision_CSETs'],\n",
    "            )\n",
    "plot_RDs = plot_obj_history(\n",
    "            res.history['condition0']['objective_RDs'],\n",
    "            )\n",
    "plot_objs = plot_obj_history(\n",
    "            res.history['condition0']['objectives'],\n",
    "            )\n",
    "callbacks = [plot_decision,plot_RDs,plot_objs]"
   ]
  },
  {
   "cell_type": "code",
   "execution_count": 14,
   "id": "classified-pricing",
   "metadata": {},
   "outputs": [],
   "source": [
    "# this will allow manual input of Viewer reading\n",
    "_manual_fetcher = objFuncs.construct_machineIO.construct_manual_fetch_data(objective_goal.keys())\n",
    "objFuncs._global_machineIO.fetch_data = _manual_fetcher"
   ]
  },
  {
   "cell_type": "markdown",
   "id": "designed-johns",
   "metadata": {},
   "source": [
    "# Run optimization\n",
    "except: n_read = (n_decision+2) $\\times$ n_condition"
   ]
  },
  {
   "cell_type": "code",
   "execution_count": 28,
   "id": "speaking-watson",
   "metadata": {},
   "outputs": [
    {
     "ename": "NameError",
     "evalue": "name 'n_condition' is not defined",
     "output_type": "error",
     "traceback": [
      "\u001b[0;31m---------------------------------------------------------------------------\u001b[0m",
      "\u001b[0;31mNameError\u001b[0m                                 Traceback (most recent call last)",
      "\u001b[0;32m<ipython-input-28-b5d0b437df55>\u001b[0m in \u001b[0;36m<module>\u001b[0;34m\u001b[0m\n\u001b[0;32m----> 1\u001b[0;31m \u001b[0;34m(\u001b[0m\u001b[0mlen\u001b[0m\u001b[0;34m(\u001b[0m\u001b[0mdecision_CSETs\u001b[0m\u001b[0;34m)\u001b[0m\u001b[0;34m+\u001b[0m\u001b[0;36m2\u001b[0m\u001b[0;34m)\u001b[0m\u001b[0;34m*\u001b[0m\u001b[0mn_condition\u001b[0m\u001b[0;34m\u001b[0m\u001b[0;34m\u001b[0m\u001b[0m\n\u001b[0m",
      "\u001b[0;31mNameError\u001b[0m: name 'n_condition' is not defined"
     ]
    }
   ],
   "source": [
    "print( (len(decision_CSETs)+2)*n_condition )"
   ]
  },
  {
   "cell_type": "code",
   "execution_count": 15,
   "id": "d934c70c",
   "metadata": {
    "scrolled": false
   },
   "outputs": [
    {
     "name": "stdout",
     "output_type": "stream",
     "text": [
      "=== Manual Input. Leave blank for automatic data read. ===\n",
      "SOMEWHERE:VIWER:XPOS_RD: n\n",
      "Input not accepatble format\n",
      "trying caget SOMEWHERE:VIWER:XPOS_RD...\n",
      "cannot connect to SOMEWHERE:VIWER:XPOS_RD\n",
      "SOMEWHERE:VIWER:XPOS_RD: f\n",
      "Input not accepatble format\n",
      "SOMEWHERE:VIWER:XPOS_RD: f\n",
      "Input not accepatble format\n",
      "SOMEWHERE:VIWER:XPOS_RD: g\n",
      "Input not accepatble format\n",
      "SOMEWHERE:VIWER:XPOS_RD: j\n",
      "Input not accepatble format\n",
      "SOMEWHERE:VIWER:XPOS_RD: 8\n",
      "SOMEWHERE:VIWER:YPOS_RD: sdf\n",
      "Input not accepatble format\n",
      "trying caget SOMEWHERE:VIWER:YPOS_RD...\n",
      "cannot connect to SOMEWHERE:VIWER:YPOS_RD\n",
      "SOMEWHERE:VIWER:YPOS_RD: 0\n",
      "=== Manual Input. Leave blank for automatic data read. ===\n",
      "SOMEWHERE:VIWER:XPOS_RD: 0\n",
      "SOMEWHERE:VIWER:YPOS_RD: 0\n",
      "=== Manual Input. Leave blank for automatic data read. ===\n",
      "SOMEWHERE:VIWER:XPOS_RD: 0\n",
      "SOMEWHERE:VIWER:YPOS_RD: 0\n",
      "=== Manual Input. Leave blank for automatic data read. ===\n",
      "SOMEWHERE:VIWER:XPOS_RD: 0\n",
      "SOMEWHERE:VIWER:YPOS_RD: 0\n",
      "=== Manual Input. Leave blank for automatic data read. ===\n",
      "SOMEWHERE:VIWER:XPOS_RD: 0\n",
      "SOMEWHERE:VIWER:YPOS_RD: 0\n",
      "=== Manual Input. Leave blank for automatic data read. ===\n",
      "SOMEWHERE:VIWER:XPOS_RD: 0\n",
      "SOMEWHERE:VIWER:YPOS_RD: 0\n",
      "=== Manual Input. Leave blank for automatic data read. ===\n",
      "SOMEWHERE:VIWER:XPOS_RD: 0\n",
      "SOMEWHERE:VIWER:YPOS_RD: 0\n",
      "=== Manual Input. Leave blank for automatic data read. ===\n",
      "SOMEWHERE:VIWER:XPOS_RD: 0\n",
      "SOMEWHERE:VIWER:YPOS_RD: 0\n",
      "=== Manual Input. Leave blank for automatic data read. ===\n",
      "SOMEWHERE:VIWER:XPOS_RD: 00\n",
      "SOMEWHERE:VIWER:YPOS_RD: 0\n",
      "=== Manual Input. Leave blank for automatic data read. ===\n",
      "SOMEWHERE:VIWER:XPOS_RD: 0\n",
      "SOMEWHERE:VIWER:YPOS_RD: 0\n",
      "=== Manual Input. Leave blank for automatic data read. ===\n",
      "SOMEWHERE:VIWER:XPOS_RD: 0\n",
      "SOMEWHERE:VIWER:YPOS_RD: 0\n",
      "=== Manual Input. Leave blank for automatic data read. ===\n",
      "SOMEWHERE:VIWER:XPOS_RD: 00\n",
      "SOMEWHERE:VIWER:YPOS_RD: 0\n",
      "=== Manual Input. Leave blank for automatic data read. ===\n",
      "SOMEWHERE:VIWER:XPOS_RD: 0\n",
      "SOMEWHERE:VIWER:YPOS_RD: 0\n",
      "=== Manual Input. Leave blank for automatic data read. ===\n",
      "SOMEWHERE:VIWER:XPOS_RD: 0\n",
      "SOMEWHERE:VIWER:YPOS_RD: 0\n",
      "=== Manual Input. Leave blank for automatic data read. ===\n",
      "SOMEWHERE:VIWER:XPOS_RD: 0\n",
      "SOMEWHERE:VIWER:YPOS_RD: 0\n",
      "=== Manual Input. Leave blank for automatic data read. ===\n",
      "SOMEWHERE:VIWER:XPOS_RD: 0\n",
      "SOMEWHERE:VIWER:YPOS_RD: 0\n",
      "=== Manual Input. Leave blank for automatic data read. ===\n",
      "SOMEWHERE:VIWER:XPOS_RD: 0\n",
      "SOMEWHERE:VIWER:YPOS_RD: 0\n",
      "=== Manual Input. Leave blank for automatic data read. ===\n",
      "SOMEWHERE:VIWER:XPOS_RD: 0\n",
      "SOMEWHERE:VIWER:YPOS_RD: 0\n"
     ]
    },
    {
     "data": {
      "image/png": "[encoded data removed]",
      "text/plain": [
       "<Figure size 1080x432 with 1 Axes>"
      ]
     },
     "metadata": {},
     "output_type": "display_data"
    },
    {
     "data": {
      "image/png": "[encoded data removed]",
      "text/plain": [
       "<Figure size 1080x432 with 1 Axes>"
      ]
     },
     "metadata": {},
     "output_type": "display_data"
    },
    {
     "data": {
      "image/png": "[encoded data removed]",
      "text/plain": [
       "<Figure size 1080x432 with 1 Axes>"
      ]
     },
     "metadata": {},
     "output_type": "display_data"
    }
   ],
   "source": [
    "# Whenver prompt is active, just read and type in\n",
    "result = res.lsq_linear(jac_use3points=False,callbacks=callbacks)\n",
    "for f in callbacks:\n",
    "    f.close()"
   ]
  },
  {
   "cell_type": "code",
   "execution_count": 31,
   "id": "broad-services",
   "metadata": {},
   "outputs": [
    {
     "name": "stdout",
     "output_type": "stream",
     "text": [
      "== Final decision ==\n",
      "  REA_BTS25:PSC2_D1172:I_CSET -21.0625\n",
      "  REA_BTS25:PSC1_D1172:I_CSET 28.4375\n",
      "  REA_BTS30:PSC2_D1219:I_CSET 2.4375\n",
      "  REA_BTS30:PSC1_D1219:I_CSET 1.4375\n"
     ]
    }
   ],
   "source": [
    "print(\"== Final decisions ==\")\n",
    "for pv,x in zip(decision_CSETs,result.x):\n",
    "    print(\" \",pv,x)"
   ]
  },
  {
   "cell_type": "code",
   "execution_count": 17,
   "id": "7e606570",
   "metadata": {
    "scrolled": true
   },
   "outputs": [
    {
     "data": {
      "text/plain": [
       "[array([-8.,  0., -8.,  0.]),\n",
       " array([0., 0., 0., 0.]),\n",
       " array([0., 0., 0., 0.]),\n",
       " array([0., 0., 0., 0.]),\n",
       " array([0., 0., 0., 0.]),\n",
       " array([0., 0., 0., 0.])]"
      ]
     },
     "execution_count": 17,
     "metadata": {},
     "output_type": "execute_result"
    }
   ],
   "source": [
    "res.history['objectives_var'][\"values\"]"
   ]
  },
  {
   "cell_type": "code",
   "execution_count": 18,
   "id": "random-hamburg",
   "metadata": {},
   "outputs": [
    {
     "data": {
      "text/plain": [
       "['D10_SOMEWHERE:VIWER:XPOS_RD',\n",
       " 'D10_SOMEWHERE:VIWER:YPOS_RD',\n",
       " 'D20_SOMEWHERE:VIWER:XPOS_RD',\n",
       " 'D20_SOMEWHERE:VIWER:YPOS_RD']"
      ]
     },
     "execution_count": 18,
     "metadata": {},
     "output_type": "execute_result"
    }
   ],
   "source": [
    "res.history['objectives_var']['names']"
   ]
  },
  {
   "cell_type": "code",
   "execution_count": 19,
   "id": "transsexual-increase",
   "metadata": {},
   "outputs": [
    {
     "name": "stdout",
     "output_type": "stream",
     "text": [
      "d (D10 SOMEWHERE:VIWER:XPOS_RD)/d REA_BTS25:PSC2_D1172:I_CSET 2.1333333333333306\n",
      "d (D10 SOMEWHERE:VIWER:XPOS_RD)/d REA_BTS25:PSC1_D1172:I_CSET 0.23703703703703674\n",
      "d (D10 SOMEWHERE:VIWER:XPOS_RD)/d REA_BTS30:PSC2_D1219:I_CSET 0.23703703703703674\n",
      "d (D10 SOMEWHERE:VIWER:XPOS_RD)/d REA_BTS30:PSC1_D1219:I_CSET 0.23703703703703674\n",
      "d (D10 SOMEWHERE:VIWER:YPOS_RD)/d REA_BTS25:PSC2_D1172:I_CSET 0.0\n",
      "d (D10 SOMEWHERE:VIWER:YPOS_RD)/d REA_BTS25:PSC1_D1172:I_CSET 0.0\n",
      "d (D10 SOMEWHERE:VIWER:YPOS_RD)/d REA_BTS30:PSC2_D1219:I_CSET 0.0\n",
      "d (D10 SOMEWHERE:VIWER:YPOS_RD)/d REA_BTS30:PSC1_D1219:I_CSET 0.0\n",
      "d (D20 SOMEWHERE:VIWER:XPOS_RD)/d REA_BTS25:PSC2_D1172:I_CSET 2.1333333333333306\n",
      "d (D20 SOMEWHERE:VIWER:XPOS_RD)/d REA_BTS25:PSC1_D1172:I_CSET 0.23703703703703674\n",
      "d (D20 SOMEWHERE:VIWER:XPOS_RD)/d REA_BTS30:PSC2_D1219:I_CSET 0.23703703703703674\n",
      "d (D20 SOMEWHERE:VIWER:XPOS_RD)/d REA_BTS30:PSC1_D1219:I_CSET 0.23703703703703674\n",
      "d (D20 SOMEWHERE:VIWER:YPOS_RD)/d REA_BTS25:PSC2_D1172:I_CSET 0.0\n",
      "d (D20 SOMEWHERE:VIWER:YPOS_RD)/d REA_BTS25:PSC1_D1172:I_CSET 0.0\n",
      "d (D20 SOMEWHERE:VIWER:YPOS_RD)/d REA_BTS30:PSC2_D1219:I_CSET 0.0\n",
      "d (D20 SOMEWHERE:VIWER:YPOS_RD)/d REA_BTS30:PSC1_D1219:I_CSET 0.0\n"
     ]
    }
   ],
   "source": [
    "for n,v in zip(res.history['jacobian_var']['names'], res.history['jacobian_var']['values'][0]):\n",
    "    print(n,v)"
   ]
  },
  {
   "cell_type": "code",
   "execution_count": 20,
   "id": "difficult-trance",
   "metadata": {},
   "outputs": [
    {
     "data": {
      "text/plain": [
       "[]"
      ]
     },
     "execution_count": 20,
     "metadata": {},
     "output_type": "execute_result"
    }
   ],
   "source": [
    "res.history['condition0']['jacobian'][\"values\"]"
   ]
  },
  {
   "cell_type": "code",
   "execution_count": 21,
   "id": "completed-merchant",
   "metadata": {},
   "outputs": [
    {
     "data": {
      "text/plain": [
       "[]"
      ]
     },
     "execution_count": 21,
     "metadata": {},
     "output_type": "execute_result"
    }
   ],
   "source": [
    "res.history['condition1']['jacobian'][\"values\"]"
   ]
  },
  {
   "cell_type": "code",
   "execution_count": 22,
   "id": "trained-addiction",
   "metadata": {},
   "outputs": [
    {
     "data": {
      "text/plain": [
       "[]"
      ]
     },
     "execution_count": 22,
     "metadata": {},
     "output_type": "execute_result"
    }
   ],
   "source": [
    "res.history['condition2']['jacobian'][\"values\"]"
   ]
  }
 ],
 "metadata": {
  "kernelspec": {
   "display_name": "Python 3 (ipykernel)",
   "language": "python",
   "name": "python3"
  },
  "language_info": {
   "codemirror_mode": {
    "name": "ipython",
    "version": 3
   },
   "file_extension": ".py",
   "mimetype": "text/x-python",
   "name": "python",
   "nbconvert_exporter": "python",
   "pygments_lexer": "ipython3",
   "version": "3.11.2"
  }
 },
 "nbformat": 4,
 "nbformat_minor": 5
}
