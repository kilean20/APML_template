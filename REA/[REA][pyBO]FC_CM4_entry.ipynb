{
 "cells": [
  {
   "cell_type": "markdown",
   "id": "suspended-miami",
   "metadata": {},
   "source": [
    " ### please re-start kernel if these packages are installed for the first time"
   ]
  },
  {
   "cell_type": "code",
   "execution_count": null,
   "id": "desperate-violation",
   "metadata": {},
   "outputs": [],
   "source": [
    "# !pip install -e /projects/rea3/AP-ReA/jupyter-ML/pkgs/objFuncs\n",
    "# !pip install -e /projects/rea3/AP-ReA/jupyter-ML/pkgs/pyBO"
   ]
  },
  {
   "cell_type": "markdown",
   "id": "ebcddd89",
   "metadata": {},
   "source": [
    "### This template is for\n",
    "- objFuncs: v1.0.4  \n",
    "- pyBO: v1.0.2"
   ]
  },
  {
   "cell_type": "code",
   "execution_count": null,
   "id": "small-matter",
   "metadata": {},
   "outputs": [],
   "source": [
    "import objFuncs\n",
    "from objFuncs import objFuncGoals, construct_machineIO\n",
    "from objFuncs.util import get_MEBT_objective_goal_from_BPMoverview\n",
    "from objFuncs.preset import get_preset, get_tolerance, get_limits\n",
    "from pyBO import pyBO"
   ]
  },
  {
   "cell_type": "code",
   "execution_count": null,
   "id": "9807fd10",
   "metadata": {},
   "outputs": [],
   "source": [
    "import numpy as np\n",
    "import os\n",
    "import matplotlib.pyplot as plt\n",
    "import time\n",
    "import datetime\n",
    "from phantasy import caget,fetch_data\n",
    "import pandas as pd"
   ]
  },
  {
   "cell_type": "markdown",
   "id": "a2a8d5ac",
   "metadata": {},
   "source": [
    "# user inputs\n",
    "### check and adjust decision (control knobs) and objectives later"
   ]
  },
  {
   "cell_type": "code",
   "execution_count": null,
   "id": "47db7d9e",
   "metadata": {},
   "outputs": [],
   "source": [
    "is_close_to_opt = False     # True for local optimization. \n",
    "timespan_for_average = 4.0  # sec  \n",
    "additional_wait_after_powersupply_ramp  = 0.25 # sec\n",
    "\n",
    "##== Faraday-Cup PV and goal\n",
    "FC='REA_BTS40:MTER_N0001:I_RD'\n",
    "FCgoal = 50e-12"
   ]
  },
  {
   "cell_type": "code",
   "execution_count": null,
   "id": "950e9f65",
   "metadata": {},
   "outputs": [],
   "source": [
    "if is_close_to_opt:\n",
    "    n_init_budget       = 5   # recommended: number of decision parameters \n",
    "    n_global_opt_budget = 0\n",
    "    n_local_opt_budget  = 25\n",
    "    n_finetune_budget   = 5   # recommended: less than number of decision parameters \n",
    "else:\n",
    "    n_init_budget       = 25          \n",
    "    n_global_opt_budget = 25\n",
    "    n_local_opt_budget  = 25\n",
    "    n_finetune_budget   = 5    # recommended: less than number of decision parameters \n",
    "\n",
    "budget = n_init_budget +n_global_opt_budget +n_local_opt_budget +n_finetune_budget\n",
    "print(f\"budget: {budget}\")"
   ]
  },
  {
   "cell_type": "markdown",
   "id": "5faadd46",
   "metadata": {},
   "source": [
    "# check machineIO, source and beam  "
   ]
  },
  {
   "cell_type": "code",
   "execution_count": null,
   "id": "exciting-making",
   "metadata": {},
   "outputs": [],
   "source": [
    "objFuncs._global_machineIO._test = False\n",
    "objFuncs._global_machineIO._fetch_data_time_span = timespan_for_average\n",
    "objFuncs._global_machineIO._ensure_set_timewait_after_ramp = additional_wait_after_powersupply_ramp\n",
    "objFuncs._global_machineIO._check_chopper_blocking = False"
   ]
  },
  {
   "cell_type": "code",
   "execution_count": null,
   "id": "diagnostic-parallel",
   "metadata": {},
   "outputs": [],
   "source": [
    "ion = caget(\"REA_EXP:ELMT\")\n",
    "Q = int(caget(\"REA_EXP:Q\"))\n",
    "A = int(caget(\"REA_EXP:A\"))\n",
    "AQ = A/Q\n",
    "ion = str(A)+ion+str(Q)\n",
    "print(ion, 'A/Q=',AQ)"
   ]
  },
  {
   "cell_type": "code",
   "execution_count": null,
   "id": "collected-quarter",
   "metadata": {},
   "outputs": [],
   "source": [
    "now0 = datetime.datetime.now()\n",
    "fname = now0.strftime('%Y%m%d_%H%M')+'['+ion+'][REA][pyBO]FC_CM4_entry'\n",
    "fname"
   ]
  },
  {
   "cell_type": "markdown",
   "id": "greenhouse-discharge",
   "metadata": {},
   "source": [
    "# preprare decision ( control knob)"
   ]
  },
  {
   "cell_type": "code",
   "execution_count": null,
   "id": "normal-satisfaction",
   "metadata": {},
   "outputs": [],
   "source": [
    "decision_CSETs = ['REA_BTS26:DCH_D1219:I_CSET',\n",
    "                  'REA_BTS26:DCV_D1219:I_CSET',\n",
    "                  'REA_BTS30:DCH_D1270:I_CSET',\n",
    "                  'REA_BTS30:DCV_D1270:I_CSET',\n",
    "                  ]"
   ]
  },
  {
   "cell_type": "code",
   "execution_count": null,
   "id": "employed-arabic",
   "metadata": {},
   "outputs": [],
   "source": [
    "ave, _ = fetch_data(decision_CSETs,0.01)\n",
    "decision_Lo_limit, decision_Hi_limit = get_limits(decision_CSETs)\n",
    "decision_limit_half_size = 0.5*(decision_Hi_limit - decision_Lo_limit)\n",
    "decision_bound_half_size = AQ*0.1*decision_limit_half_size\n",
    "\n",
    "decision_mid  = np.array([0 if ':DC' in pv else v for v,pv in zip(ave,decision_CSETs)])\n",
    "decision_tols = 0.01*decision_limit_half_size\n",
    "decision_min  = decision_mid - decision_bound_half_size\n",
    "decision_max  = decision_mid + decision_bound_half_size\n",
    "\n",
    "##== Manually set decision bounds and tolerance\n",
    "# decision_min = [ -5, -5, -5, -5]\n",
    "# decision_max = [  5,  5,  5,  5]\n",
    "# decision_tol = [0.2,0.2,0.2,0.2]\n",
    "         \n",
    "assert len(decision_CSETs) == len(decision_min) == len(decision_max) == len(decision_tols)\n",
    "decition_Lo_limit, decition_Hi_limit = get_limits(decision_CSETs)\n",
    "decision_min = np.clip(decision_min, a_min = decition_Lo_limit, a_max = None)\n",
    "decision_max = np.clip(decision_max, a_min = None, a_max = decition_Hi_limit)\n",
    "assert np.all(np.array(decision_min)<np.array(decision_max))\n",
    "\n",
    "##== Display decision parameter info\n",
    "pd.DataFrame(np.array([ave,decision_min,decision_max,decision_tols,decition_Lo_limit,decition_Hi_limit]).T,\n",
    "             index=decision_CSETs, \n",
    "             columns=['current value','decision min','decision max','tol','LoLim','HiLim'])"
   ]
  },
  {
   "cell_type": "markdown",
   "id": "rotary-radiation",
   "metadata": {},
   "source": [
    "# preprare objective function"
   ]
  },
  {
   "cell_type": "code",
   "execution_count": null,
   "id": "identical-roads",
   "metadata": {},
   "outputs": [],
   "source": [
    "objective_goal   = {FC: {'more than': FCgoal}}\n",
    "objective_norm   = {FC: 0.2*FCgoal}\n",
    "objective_weight = {FC: 1}\n",
    "\n",
    "##== Display objective info\n",
    "pd.DataFrame([objective_goal,objective_norm,objective_weight],index=['goal','norm','weight']).T"
   ]
  },
  {
   "cell_type": "code",
   "execution_count": null,
   "id": "described-federal",
   "metadata": {},
   "outputs": [],
   "source": [
    "obj = objFuncGoals(\n",
    "    decision_CSETs   = decision_CSETs,\n",
    "    decision_min     = decision_min,\n",
    "    decision_max     = decision_max,\n",
    "    decision_tols    = decision_tols,\n",
    "    objective_goal   = objective_goal,\n",
    "    objective_weight = objective_weight,\n",
    "    objective_norm   = objective_norm,\n",
    ")"
   ]
  },
  {
   "cell_type": "markdown",
   "id": "public-connection",
   "metadata": {},
   "source": [
    "# run Optim"
   ]
  },
  {
   "cell_type": "code",
   "execution_count": null,
   "id": "d9390089",
   "metadata": {},
   "outputs": [],
   "source": [
    "ctrBO = pyBO.bo_controller(obj,local_optimization = is_close_to_opt)"
   ]
  },
  {
   "cell_type": "code",
   "execution_count": null,
   "id": "hybrid-prototype",
   "metadata": {
    "scrolled": false
   },
   "outputs": [],
   "source": [
    "ctrBO.init(n_init_budget)\n",
    "ctrBO.optimize_global(n_global_opt_budget, beta_scheduler='auto')\n",
    "ctrBO.optimize_local (n_local_opt_budget , beta_scheduler='auto')\n",
    "ctrBO.fine_tune(n_finetune_budget)\n",
    "ctrBO.finalize()\n",
    "for f in ctrBO.plot_callbacks:\n",
    "    f.close()"
   ]
  },
  {
   "cell_type": "markdown",
   "id": "909a7598",
   "metadata": {},
   "source": [
    "### additional optimization"
   ]
  },
  {
   "cell_type": "code",
   "execution_count": null,
   "id": "detected-dominant",
   "metadata": {
    "scrolled": false
   },
   "outputs": [],
   "source": [
    "##== uncomment one (ore more) of the followings to optimize further\n",
    "# ctrBO.optimize_global(niter=10, beta_scheduler='auto')\n",
    "# ctrBO.optimize_local (niter=10, beta_scheduler='auto')\n",
    "\n",
    "##== uncomment the followings too if any of above is uncommented\n",
    "# ctrBO.fine_tune(niter=2)\n",
    "# ctrBO.finalize()\n",
    "# for f in ctrBO.plot_callbacks:\n",
    "#     f.close()"
   ]
  },
  {
   "cell_type": "markdown",
   "id": "269dc137",
   "metadata": {},
   "source": [
    "### plot accumulated best objectives"
   ]
  },
  {
   "cell_type": "code",
   "execution_count": null,
   "id": "literary-chicken",
   "metadata": {},
   "outputs": [],
   "source": [
    "fig,ax = plt.subplots(figsize=(4,2),dpi=96)\n",
    "ctrBO.bo.plot_obj_history(ax=ax, plot_best_only=True)"
   ]
  },
  {
   "cell_type": "markdown",
   "id": "a1d1c2e2",
   "metadata": {},
   "source": [
    "### set to best solution "
   ]
  },
  {
   "cell_type": "code",
   "execution_count": null,
   "id": "5ffc40e5",
   "metadata": {},
   "outputs": [],
   "source": [
    "x_best,y_best_old = ctrBO.bo.best_sofar()\n",
    "y_best_new = obj(x_best)\n",
    "print(f'y_best_old: {y_best_old[0]}')\n",
    "print(f'y_best_new: {y_best_new}')   # check if best solution objective value is consistent\n",
    "pd.DataFrame([x_best],columns=decision_CSETs,index=['x_best']).T"
   ]
  },
  {
   "cell_type": "code",
   "execution_count": null,
   "id": "197ba503",
   "metadata": {},
   "outputs": [],
   "source": [
    "obj.save(fname=os.path.join('/projects/rea3/AP-ReA/jupyter-ML/data/log/',fname))"
   ]
  },
  {
   "cell_type": "markdown",
   "id": "hundred-writing",
   "metadata": {},
   "source": [
    "# Visualize Surrogate model"
   ]
  },
  {
   "cell_type": "code",
   "execution_count": null,
   "id": "metallic-frank",
   "metadata": {},
   "outputs": [],
   "source": [
    "# plot surrogate mean model of the last epoch. Can take long time for decision dim >= 4\n",
    "bo = ctrBO.bo\n",
    "from math import ceil\n",
    "nplot = int(0.5*len(obj.decision_CSETs))\n",
    "nrow = ceil(0.5*nplot)\n",
    "fig,ax = plt.subplots(nrow,2,figsize=(8,3*nrow))\n",
    "for i in range(nrow):\n",
    "    for j in range(2):\n",
    "        n = 2*i+j\n",
    "        if nrow>1:\n",
    "            ax_ = ax[i,j]\n",
    "        else:\n",
    "            ax_ = ax[j]\n",
    "        if n >= nplot:\n",
    "            ax_.set_visible(False)\n",
    "            break\n",
    "        bo.plot_model_2D_projection(project_maximum=True,\n",
    "                                    dim_xaxis = 2*n,\n",
    "                                    dim_yaxis = 2*n+1,\n",
    "                                    grid_ponits_each_dim = 16,\n",
    "                                    fig=fig,ax=ax_);\n",
    "        ax_.set_xlabel(obj.decision_CSETs[2*n  ])\n",
    "        ax_.set_ylabel(obj.decision_CSETs[2*n+1])\n",
    "        ax_.legend()\n",
    "fig.tight_layout()"
   ]
  },
  {
   "cell_type": "code",
   "execution_count": null,
   "id": "7e132889",
   "metadata": {},
   "outputs": [],
   "source": []
  }
 ],
 "metadata": {
  "kernelspec": {
   "display_name": "Python 3",
   "language": "python",
   "name": "python3"
  },
  "language_info": {
   "codemirror_mode": {
    "name": "ipython",
    "version": 3
   },
   "file_extension": ".py",
   "mimetype": "text/x-python",
   "name": "python",
   "nbconvert_exporter": "python",
   "pygments_lexer": "ipython3",
   "version": "3.9.2"
  }
 },
 "nbformat": 4,
 "nbformat_minor": 5
}
