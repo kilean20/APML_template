{
 "cells": [
  {
   "cell_type": "markdown",
   "id": "suspended-miami",
   "metadata": {},
   "source": [
    " # please re-start kernel if these packages are installed for the first time"
   ]
  },
  {
   "cell_type": "code",
   "execution_count": 1,
   "id": "desperate-violation",
   "metadata": {},
   "outputs": [],
   "source": [
    "# ! pip install -e /user/hwang/Jupyter_notebooks/pkgs/objFuncs_REA\n",
    "# ! pip install -e /user/hwang/Jupyter_notebooks/pkgs/pyBO"
   ]
  },
  {
   "cell_type": "code",
   "execution_count": 2,
   "id": "small-matter",
   "metadata": {},
   "outputs": [],
   "source": [
    "import numpy as np\n",
    "import pandas as pd\n",
    "import os\n",
    "import matplotlib.pyplot as plt\n",
    "import time\n",
    "import datetime\n",
    "import concurrent\n",
    "from epics import caget"
   ]
  },
  {
   "cell_type": "code",
   "execution_count": 3,
   "id": "statewide-penalty",
   "metadata": {},
   "outputs": [],
   "source": [
    "from objFuncs.REA_maximize_FC import maximize_FC1058 as maximize_FC\n",
    "import objFuncs\n",
    "from objFuncs.util import plot_obj_history\n",
    "from pyBO import pyBO"
   ]
  },
  {
   "cell_type": "code",
   "execution_count": 4,
   "id": "danish-surgeon",
   "metadata": {},
   "outputs": [],
   "source": [
    "from pyBO import pyBO"
   ]
  },
  {
   "cell_type": "code",
   "execution_count": 5,
   "id": "exciting-making",
   "metadata": {},
   "outputs": [],
   "source": [
    "objFuncs._global_machineIO._test = False\n",
    "objFuncs._global_machineIO._fetch_data_time_span = 2.05\n",
    "objFuncs._global_machineIO._ensure_set_timewait_after_ramp = 0.25\n",
    "# objFuncs._global_machineIO.fetch_data = objFuncs.construct_machineIO._manual_fetch_data\n",
    "\n",
    "objFuncs._global_machineIO.view()"
   ]
  },
  {
   "cell_type": "code",
   "execution_count": 6,
   "id": "honest-pendant",
   "metadata": {},
   "outputs": [],
   "source": [
    "budget = 60"
   ]
  },
  {
   "cell_type": "code",
   "execution_count": 8,
   "id": "diagnostic-parallel",
   "metadata": {},
   "outputs": [],
   "source": [
    "ion = caget(\"REA_EXP:ELMT\")\n",
    "Q = int(caget(\"REA_EXP:Q\"))\n",
    "A = int(caget(\"REA_EXP:A\"))\n",
    "AQ = A/Q\n",
    "ion = str(A)+ion+str(Q)\n",
    "print(ion, 'A/Q=',AQ)"
   ]
  },
  {
   "cell_type": "code",
   "execution_count": 9,
   "id": "collected-quarter",
   "metadata": {},
   "outputs": [],
   "source": [
    "now0 = datetime.datetime.now()\n",
    "now0str = str(now0)[:str(now0).rfind(':')].replace(' ','_').replace(':','').replace('-','')\n",
    "fname = '[REA][pyBO]'+now0str+'_'+ion+'_FC_CM4in'\n",
    "fname"
   ]
  },
  {
   "cell_type": "markdown",
   "id": "greenhouse-discharge",
   "metadata": {},
   "source": [
    "# Decision parameters and range"
   ]
  },
  {
   "cell_type": "code",
   "execution_count": 10,
   "id": "normal-satisfaction",
   "metadata": {},
   "outputs": [],
   "source": [
    "decision_CSETs = [\n",
    "    'REA_BTS46:DCH_D1529:I_CSET',\n",
    "    'REA_BTS46:DCV_D1529:I_CSET',\n",
    "    'REA_BTS46:DCH_D1466:I_CSET',\n",
    "    'REA_BTS46:DCV_D1466:I_CSET',\n",
    "                  ]"
   ]
  },
  {
   "cell_type": "code",
   "execution_count": 11,
   "id": "polar-customer",
   "metadata": {},
   "outputs": [],
   "source": [
    "STC = 10.\n",
    "STC1=STC\n",
    "STC2=STC\n",
    "STC3=STC\n",
    "STC4=STC\n",
    "\n",
    "decision_min = [-STC1*AQ,-STC2*AQ,-STC3*AQ,-STC4*AQ]\n",
    "decision_max = [STC1*AQ,STC2*AQ,STC3*AQ,STC4*AQ]\n",
    "\n",
    "#decision_min = [-50*AQ,-150*AQ,-135*AQ,-135*AQ]\n",
    "#decision_max = [ 50*AQ, 150*AQ, 135*AQ, 135*AQ]\n",
    "#decision_tols = None\n",
    "decision_tols = [1,2,2,2]\n",
    "print(decision_min)\n",
    "print(decision_max)\n",
    "print(decision_tols)"
   ]
  },
  {
   "cell_type": "code",
   "execution_count": 12,
   "id": "square-eligibility",
   "metadata": {},
   "outputs": [],
   "source": [
    "assert len(decision_CSETs) == len(decision_min) == len(decision_max)\n",
    "if decision_tols is not None:\n",
    "    assert len(decision_CSETs) == len(decision_tols) \n",
    "assert np.all(np.array(decision_min)<np.array(decision_max))"
   ]
  },
  {
   "cell_type": "markdown",
   "id": "rotary-radiation",
   "metadata": {},
   "source": [
    "# Objectives"
   ]
  },
  {
   "cell_type": "markdown",
   "id": "necessary-paint",
   "metadata": {},
   "source": [
    "### manual definition of obj"
   ]
  },
  {
   "cell_type": "code",
   "execution_count": 13,
   "id": "identical-roads",
   "metadata": {},
   "outputs": [],
   "source": [
    "FC0999 = 50e-12\n",
    "#FC='REA_BTS19:MTER_N0001:I_RD'\n",
    "FC='REA_BTS46:MTER_N0002:I_RD'\n",
    "objective_goal   = {FC: {'more than': FC0999}}\n",
    "objective_weight = {FC: 1}\n",
    "objective_norm   = {FC: 10e-12}\n",
    "# objective_goal   = {'REA_WK01:FC_D1058:BC_RD': {'more than': FC0999}}\n",
    "# objective_weight = {'REA_WK01:FC_D1058:BC_RD': 1}\n",
    "# objective_norm   = {'REA_WK01:FC_D1058:BC_RD': 1e-12}"
   ]
  },
  {
   "cell_type": "markdown",
   "id": "burning-tokyo",
   "metadata": {},
   "source": [
    "### regularization"
   ]
  },
  {
   "cell_type": "code",
   "execution_count": 14,
   "id": "crucial-andorra",
   "metadata": {},
   "outputs": [],
   "source": [
    "# reg_goal = {key:0.5*(val_max+val_min) if 'PSD' in key else 0 for key,val_min,val_max in zip(decision_CSETs,decision_min,decision_max)}\n",
    "# reg_norm = {key:0.5*(val_max-val_min) for key,val_min,val_max in zip(decision_CSETs,decision_min,decision_max)}\n",
    "# reg_weight = {key:0.1 if 'PSD' in key else 0.05 for key in decision_CSETs}   "
   ]
  },
  {
   "cell_type": "code",
   "execution_count": 15,
   "id": "determined-cabin",
   "metadata": {},
   "outputs": [],
   "source": [
    "# objective_goal.update(reg_goal)\n",
    "# objective_norm.update(reg_norm)\n",
    "# objective_weight.update(reg_weight)"
   ]
  },
  {
   "cell_type": "code",
   "execution_count": 16,
   "id": "selected-mexican",
   "metadata": {},
   "outputs": [],
   "source": [
    "# pd.DataFrame((objective_goal,objective_norm,objective_weight),index=['goal','norm','weight']).T"
   ]
  },
  {
   "cell_type": "markdown",
   "id": "opened-indicator",
   "metadata": {},
   "source": [
    "### construct objectives class"
   ]
  },
  {
   "cell_type": "code",
   "execution_count": 17,
   "id": "beginning-robin",
   "metadata": {
    "scrolled": false
   },
   "outputs": [],
   "source": [
    "obj = maximize_FC(\n",
    "    decision_CSETs= decision_CSETs,\n",
    "    decision_min  = decision_min,\n",
    "    decision_max  = decision_max,\n",
    "    decision_tols = decision_tols,\n",
    "    objective_goal = objective_goal,\n",
    "    objective_weight = objective_weight,\n",
    "    objective_norm = objective_norm,\n",
    "    objective_fill_none_by_init = True,\n",
    ")"
   ]
  },
  {
   "cell_type": "markdown",
   "id": "departmental-tennis",
   "metadata": {},
   "source": [
    " # Prepare plot callbacks"
   ]
  },
  {
   "cell_type": "code",
   "execution_count": 18,
   "id": "13957b54",
   "metadata": {},
   "outputs": [],
   "source": [
    "# define what to plot\n",
    "plot_CSETs = plot_obj_history(\n",
    "                obj.history['decision_CSETs'],\n",
    "                title = 'decision_CSETs',\n",
    "                inline = True,\n",
    "                )\n",
    "plot_RDs = plot_obj_history(\n",
    "                obj.history['objective_RDs'],\n",
    "                title = 'objective_RDs',\n",
    "                inline = True,\n",
    "                )\n",
    "plot_objs = plot_obj_history(\n",
    "            obj.history['objectives'],\n",
    "            title = 'objectives',\n",
    "            inline = True,\n",
    "            )\n",
    "callbacks = [plot_CSETs,plot_RDs,plot_objs]\n",
    "\n",
    "\n",
    "# evaluate objective and plot\n",
    "def obj_callbacks(x):\n",
    "    return obj(x,callbacks=callbacks)"
   ]
  },
  {
   "cell_type": "markdown",
   "id": "public-connection",
   "metadata": {},
   "source": [
    "# Run BO"
   ]
  },
  {
   "cell_type": "markdown",
   "id": "potential-indian",
   "metadata": {},
   "source": [
    "### initial Random search and then Global BO"
   ]
  },
  {
   "cell_type": "code",
   "execution_count": 19,
   "id": "92474156",
   "metadata": {},
   "outputs": [],
   "source": [
    "N_random_init = int(budget/3)\n",
    "N_global_iter = int(budget/3)\n",
    "\n",
    "bo, X_pending, Y_pending_future = pyBO.runBO(\n",
    "                                    obj_callbacks,  \n",
    "                                    bounds=obj.decision_bounds,\n",
    "                                    n_init= N_random_init,\n",
    "                                    x0 = obj.x0,\n",
    "                                    budget = N_random_init+N_global_iter,\n",
    "                                    batch_size=1,\n",
    "                                    write_log = False)\n",
    "for f in callbacks:\n",
    "    f.close()"
   ]
  },
  {
   "cell_type": "markdown",
   "id": "4dcf176d",
   "metadata": {},
   "source": [
    "### Local BO"
   ]
  },
  {
   "cell_type": "code",
   "execution_count": 20,
   "id": "detected-dominant",
   "metadata": {},
   "outputs": [],
   "source": [
    "# uncomment and run if more iteration needed\n",
    "acquisition_func_args = {'beta':9}\n",
    "N_local_iter = int(budget/3)\n",
    "# N_local_iter = 10\n",
    "betas = np.linspace(9,0.1,N_local_iter)\n",
    "\n",
    "for i in range(N_local_iter):\n",
    "    x0,y0 = bo.best_sofar()\n",
    "    local_min = x0 - 0.05*(obj.decision_max - obj.decision_min)\n",
    "    local_max = x0 + 0.05*(obj.decision_max - obj.decision_min)\n",
    "    local_bounds = list(zip(local_min,local_max))\n",
    "    acquisition_func_args['beta'] = betas[i]\n",
    "    \n",
    "    X_pending, Y_pending_future= bo.loop( \n",
    "                                    n_loop=1,  # number of additional optimization interation\n",
    "                                    func_obj = obj_callbacks,\n",
    "                                    X_pending = X_pending, \n",
    "                                    Y_pending_future = Y_pending_future,\n",
    "                                    acquisition_func_args = acquisition_func_args,\n",
    "                                    batch_size = 1,\n",
    "                                    write_log = False,\n",
    "                                    )\n",
    "for f in callbacks:\n",
    "    f.close()"
   ]
  },
  {
   "cell_type": "code",
   "execution_count": 21,
   "id": "starting-toner",
   "metadata": {},
   "outputs": [],
   "source": [
    "# if python raised error, use the following to re-use all the data until now\n",
    "# bo, X_pending, Y_pending_future = pyBO.runBO(\n",
    "#     obj_callbacks,  \n",
    "#     bounds=obj.decision_bounds,\n",
    "#     n_init=n_init,\n",
    "#     x0 = np.array(obj.history['decision_RDs']['values']),\n",
    "#     y0 = np.array(obj.history['objectives']['values']),\n",
    "#     budget = budget,\n",
    "#     batch_size=1,\n",
    "#     path=\"./log/\",\n",
    "#     tag=fname+'_pyBO_history',\n",
    "#     write_log = False)\n",
    "# for f in callbacks:\n",
    "#     f.close()"
   ]
  },
  {
   "cell_type": "code",
   "execution_count": 22,
   "id": "basic-sacrifice",
   "metadata": {
    "scrolled": true
   },
   "outputs": [],
   "source": [
    "fig,ax = plt.subplots(figsize=(4,3))\n",
    "ax = bo.plot_obj_history(ax=ax,plot_best_only=True)\n",
    "#ax.vlines(n_init,*ax.get_ylim(),color='k')\n",
    "fig.tight_layout()\n",
    "# fig.savefig(fname+'_history.png',dpi=90)"
   ]
  },
  {
   "cell_type": "code",
   "execution_count": 23,
   "id": "scheduled-funds",
   "metadata": {},
   "outputs": [],
   "source": [
    "# set to best solution \n",
    "x_best,y_best_old = bo.best_sofar()\n",
    "y_best_new = obj(x_best)\n",
    "print(x_best,y_best_old[0],y_best_new)   # check if best solution objective value is consistent"
   ]
  },
  {
   "cell_type": "code",
   "execution_count": 24,
   "id": "adjusted-knowing",
   "metadata": {},
   "outputs": [],
   "source": [
    "now1 = datetime.datetime.now()\n",
    "now1str = str(now1)[:str(now1).rfind(':')].replace(' ','_').replace(':','').replace('-','')\n",
    "time_delta = now1 - now0\n",
    "print(\"time took:\",str(time_delta.total_seconds()/60)[:4],'min')"
   ]
  },
  {
   "cell_type": "markdown",
   "id": "hundred-writing",
   "metadata": {},
   "source": [
    "# Visualize Surrogate model"
   ]
  },
  {
   "cell_type": "code",
   "execution_count": 25,
   "id": "metallic-frank",
   "metadata": {},
   "outputs": [],
   "source": [
    "# fixed_values_for_each_dim = {2:x_best[2],3:x_best[3]}  # fix values to visualize high dim surrogate model\n",
    "fixed_values_for_each_dim = None              # do not fix values but project maximum. Can take long time to plot\n",
    "batch_size = 1"
   ]
  },
  {
   "cell_type": "code",
   "execution_count": 26,
   "id": "graphic-analyst",
   "metadata": {},
   "outputs": [],
   "source": [
    "for i in range(int(len(decision_CSETs)/2)):\n",
    "    fig,ax = plt.subplots(figsize=(4,3))\n",
    "    bo.plot_model_2D_projection(project_maximum=True,\n",
    "                                dim_xaxis = 2*i,\n",
    "                                dim_yaxis = 2*i+1,\n",
    "                                grid_ponits_each_dim = 16,\n",
    "                                fixed_values_for_each_dim=fixed_values_for_each_dim,\n",
    "                                fig=fig,ax=ax);\n",
    "    ax.legend()\n",
    "    pv_x = obj.decision_CSETs[2*i]\n",
    "    pv_y = obj.decision_CSETs[2*i+1]\n",
    "    pv_x = pv_x[pv_x.find(':')+1:]\n",
    "    pv_y = pv_y[pv_y.find(':')+1:]\n",
    "    pv_x = pv_x[:pv_x.find(':')].replace('_D','')\n",
    "    pv_y = pv_y[:pv_y.find(':')].replace('_D','')\n",
    "    ax.set_xlabel(pv_x)\n",
    "    ax.set_ylabel(pv_y)\n",
    "    fig.tight_layout()\n",
    "#     fig.savefig(fname+'_'+pv_x+'_'+pv_y+'_.png',dpi=90)"
   ]
  },
  {
   "cell_type": "code",
   "execution_count": null,
   "id": "85cdfd21",
   "metadata": {},
   "outputs": [],
   "source": []
  },
  {
   "cell_type": "code",
   "execution_count": null,
   "id": "0f6efb18",
   "metadata": {},
   "outputs": [],
   "source": []
  }
 ],
 "metadata": {
  "kernelspec": {
   "display_name": "Python 3",
   "language": "python",
   "name": "python3"
  },
  "language_info": {
   "codemirror_mode": {
    "name": "ipython",
    "version": 3
   },
   "file_extension": ".py",
   "mimetype": "text/x-python",
   "name": "python",
   "nbconvert_exporter": "python",
   "pygments_lexer": "ipython3",
   "version": "3.9.2"
  }
 },
 "nbformat": 4,
 "nbformat_minor": 5
}
