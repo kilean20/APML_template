{
 "cells": [
  {
   "cell_type": "code",
   "execution_count": null,
   "id": "cd5be174",
   "metadata": {},
   "outputs": [],
   "source": [
    "# !pip install -e /user/rea3/AP-ReA/jupyter-ML/pkgs/objFuncs\n",
    "# !pip install -e /user/rea3/AP-ReA/jupyter-ML/pkgs/pyBO"
   ]
  },
  {
   "cell_type": "code",
   "execution_count": null,
   "id": "d34dea84",
   "metadata": {},
   "outputs": [],
   "source": [
    "import numpy as np\n",
    "import pandas as pd\n",
    "import matplotlib.pyplot as plt\n",
    "import time\n",
    "import datetime\n",
    "from phantasy import caget"
   ]
  },
  {
   "cell_type": "code",
   "execution_count": null,
   "id": "e930ee3e",
   "metadata": {},
   "outputs": [],
   "source": [
    "import objFuncs\n",
    "from objFuncs import residuals\n",
    "from objFuncs.util import plot_obj_history"
   ]
  },
  {
   "cell_type": "code",
   "execution_count": null,
   "id": "493da1c2",
   "metadata": {},
   "outputs": [],
   "source": [
    "objFuncs._global_machineIO._test = True\n",
    "objFuncs._global_machineIO._fetch_data_time_span = 2.05\n",
    "objFuncs._global_machineIO._ensure_set_timewait_after_ramp = 0.25\n",
    "objFuncs._global_machineIO._verbose = True\n",
    "objFuncs._global_machineIO.view()"
   ]
  },
  {
   "cell_type": "code",
   "execution_count": null,
   "id": "ordered-sunglasses",
   "metadata": {},
   "outputs": [],
   "source": [
    "ion = caget(\"REA_EXP:ELMT\")\n",
    "Q = int(caget(\"REA_EXP:Q\"))\n",
    "A = int(caget(\"REA_EXP:A\"))\n",
    "# AQ = caget(\"FE_ISRC2:BEAM:MOVRQ_BOOK\")\n",
    "AQ = A/Q\n",
    "ion = str(A)+ion+str(Q)\n",
    "print(ion, 'A/Q=',AQ)"
   ]
  },
  {
   "cell_type": "code",
   "execution_count": null,
   "id": "daily-device",
   "metadata": {},
   "outputs": [],
   "source": [
    "now0 = datetime.datetime.now()\n",
    "now0str = str(now0)[:str(now0).rfind(':')].replace(' ','_').replace(':','').replace('-','')\n",
    "fname = '[REA][LSQ]'+now0str+'_'+ion+'_Qcentering'\n",
    "fname"
   ]
  },
  {
   "cell_type": "markdown",
   "id": "bottom-farming",
   "metadata": {},
   "source": [
    "# Decision parameters and range"
   ]
  },
  {
   "cell_type": "code",
   "execution_count": null,
   "id": "collected-steal",
   "metadata": {},
   "outputs": [],
   "source": [
    "decision_CSETs = ['REA_BTS31:DCH_D1393:I_CSET',\n",
    "#                   'REA_BTS31:DCV_D1393:I_CSET',\n",
    "                  'REA_BTS31:DCH_D1423:I_CSET',\n",
    "#                   'REA_BTS31:DCV_D1423:I_CSET',\n",
    "                  ]\n",
    "STC = 50.\n",
    "STC1=STC\n",
    "STC2=STC\n",
    "\n",
    "decision_min = [-STC1*AQ,-STC2*AQ]\n",
    "decision_max = [ STC1*AQ, STC2*AQ]\n",
    "decision_tol = [       2,       2]\n",
    "\n",
    "# decision_min = -STC*AQ\n",
    "# decision_max = -decision_min\n",
    "\n",
    "print(decision_min)\n",
    "print(decision_max)"
   ]
  },
  {
   "cell_type": "markdown",
   "id": "digital-horizontal",
   "metadata": {},
   "source": [
    "# Conditions over which the variation of objective will be minimized"
   ]
  },
  {
   "cell_type": "markdown",
   "id": "sapphire-resolution",
   "metadata": {},
   "source": [
    "##### example:\n",
    "The following:\n",
    "\n",
    "    conditional_SETs = {\n",
    "        'Q1:I_CSET':[100,120,100],\n",
    "        'Q2:I_CSET':[100,100,120],\n",
    "    }\n",
    "    \n",
    "means that we will evaluate objectives, (at given decision parameters, x) at 3 different conditions:\n",
    "\n",
    "    Obj1(x) at Q1,Q2=(100,100),\n",
    "    Obj2(x) at Q1,Q2=(120,100), \n",
    "    Obj3(x) at Q1,Q2=(100,120),\n",
    "    \n",
    "Then find root of \"Obj2(x)-Obj1(x)\" and \"Obj3(x)-Obj1(x)\" by deciding the decision paratemers under linear response assumption. In other words, we minimize variation of objectives over different conditions."
   ]
  },
  {
   "cell_type": "code",
   "execution_count": null,
   "id": "continuous-divorce",
   "metadata": {},
   "outputs": [],
   "source": [
    "conditional_SETs = {\n",
    "    'REA_BTS31:Q_D1431:I_CSET':[80,100],\n",
    "    'REA_BTS31:Q_D1435:I_CSET':[80,100],\n",
    "}\n",
    "\n",
    "n_condition = None\n",
    "for k,v in conditional_SETs.items():\n",
    "    if not n_condition:\n",
    "        n_condition = len(v) \n",
    "    else:\n",
    "        assert len(v) == n_condition"
   ]
  },
  {
   "cell_type": "code",
   "execution_count": null,
   "id": "adverse-series",
   "metadata": {},
   "outputs": [],
   "source": [
    "#  the values objective_goal is not meaningful unless \"var_obj_weight_fraction < 1\" \n",
    "#  \"var_obj_weight_fraction\" is used in the \"residualObjMultiConditionalVar\" class instantiation\n",
    "#  \"var_obj_weight_fraction = 1\" will optimize only the variation of objective values over different conditions\n",
    "objective_goal = { \n",
    "        'SOMEWHERE:VIWER:XPOS_RD' : 0.0,     \n",
    "#         'SOMEWHERE:VIWER:YPOS_RD' : 0.0, \n",
    "        }\n",
    "#  objective_norm and objective_weight is important as they define the relative importance of each objective\n",
    "objective_norm = { \n",
    "        'SOMEWHERE:VIWER:XPOS_RD' : 1.0,     #(mm)\n",
    "#         'SOMEWHERE:VIWER:YPOS_RD' : 1.0,  \n",
    "        }\n",
    "objective_weight = { \n",
    "        'SOMEWHERE:VIWER:XPOS_RD' : 1.0,     #(mm)\n",
    "#         'SOMEWHERE:VIWER:YPOS_RD' : 1.0,  \n",
    "        }"
   ]
  },
  {
   "cell_type": "code",
   "execution_count": null,
   "id": "d9392981",
   "metadata": {
    "scrolled": false
   },
   "outputs": [],
   "source": [
    "res = residuals.residualObjMultiConditionalVar(  \n",
    "    decision_CSETs = decision_CSETs,\n",
    "    decision_min   = decision_min,\n",
    "    decision_max   = decision_max,\n",
    "    decision_tol   = decision_tol,\n",
    "    objective_goal = objective_goal,\n",
    "    objective_norm = objective_norm,\n",
    "    objective_weight = objective_weight,\n",
    "    conditional_SETs = conditional_SETs,\n",
    "    var_obj_weight_fraction = 1,\n",
    "    )"
   ]
  },
  {
   "cell_type": "code",
   "execution_count": null,
   "id": "b6b16972",
   "metadata": {},
   "outputs": [],
   "source": [
    "plot_decision = plot_obj_history(\n",
    "            res.history['decision_CSETs'],\n",
    "            )\n",
    "plot_RDs = plot_obj_history(\n",
    "            res.history['condition0']['objective_RDs'],\n",
    "            )\n",
    "plot_objs = plot_obj_history(\n",
    "            res.history['condition0']['objectives'],\n",
    "            )\n",
    "callbacks = [plot_decision,plot_RDs,plot_objs]"
   ]
  },
  {
   "cell_type": "code",
   "execution_count": null,
   "id": "classified-pricing",
   "metadata": {},
   "outputs": [],
   "source": [
    "# this will allow manual input of Viewer reading\n",
    "_manual_fetcher = objFuncs.construct_machineIO.construct_manual_fetch_data(objective_goal.keys())\n",
    "objFuncs._global_machineIO.fetch_data = _manual_fetcher"
   ]
  },
  {
   "cell_type": "markdown",
   "id": "designed-johns",
   "metadata": {},
   "source": [
    "# Run optimization\n",
    "except: n_read = (n_decision+2) $\\times$ n_condition"
   ]
  },
  {
   "cell_type": "code",
   "execution_count": null,
   "id": "speaking-watson",
   "metadata": {},
   "outputs": [],
   "source": [
    "print( (len(decision_CSETs)+2)*n_condition )"
   ]
  },
  {
   "cell_type": "code",
   "execution_count": null,
   "id": "d934c70c",
   "metadata": {
    "scrolled": false
   },
   "outputs": [],
   "source": [
    "# Whenver prompt is active, just read and type in\n",
    "result = res.lsq_linear(jac_use3points=False,callbacks=callbacks)\n",
    "for f in callbacks:\n",
    "    f.close()"
   ]
  },
  {
   "cell_type": "code",
   "execution_count": null,
   "id": "broad-services",
   "metadata": {},
   "outputs": [],
   "source": [
    "print(\"== Final decisions ==\")\n",
    "for pv,x in zip(decision_CSETs,result.x):\n",
    "    print(\" \",pv,x)"
   ]
  },
  {
   "cell_type": "code",
   "execution_count": null,
   "id": "7e606570",
   "metadata": {
    "scrolled": true
   },
   "outputs": [],
   "source": [
    "res.history['objectives_var'][\"values\"]"
   ]
  },
  {
   "cell_type": "code",
   "execution_count": null,
   "id": "random-hamburg",
   "metadata": {},
   "outputs": [],
   "source": [
    "res.history['objectives_var']['names']"
   ]
  },
  {
   "cell_type": "code",
   "execution_count": null,
   "id": "transsexual-increase",
   "metadata": {},
   "outputs": [],
   "source": [
    "for n,v in zip(res.history['jacobian_var']['names'], res.history['jacobian_var']['values'][0]):\n",
    "    print(n,v)"
   ]
  }
 ],
 "metadata": {
  "kernelspec": {
   "display_name": "Python 3",
   "language": "python",
   "name": "python3"
  },
  "language_info": {
   "codemirror_mode": {
    "name": "ipython",
    "version": 3
   },
   "file_extension": ".py",
   "mimetype": "text/x-python",
   "name": "python",
   "nbconvert_exporter": "python",
   "pygments_lexer": "ipython3",
   "version": "3.9.2"
  }
 },
 "nbformat": 4,
 "nbformat_minor": 5
}
